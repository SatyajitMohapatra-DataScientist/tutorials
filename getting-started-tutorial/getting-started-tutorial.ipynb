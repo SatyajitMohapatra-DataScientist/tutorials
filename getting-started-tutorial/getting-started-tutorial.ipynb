{
 "cells": [
  {
   "cell_type": "markdown",
   "metadata": {},
   "source": [
    "# Getting Started with the Iguazio Data Science Platform"
   ]
  },
  {
   "cell_type": "markdown",
   "metadata": {},
   "source": [
    "<a id=\"gs-overview\"></a>"
   ]
  },
  {
   "cell_type": "markdown",
   "metadata": {},
   "source": [
    "## Overview"
   ]
  },
  {
   "cell_type": "markdown",
   "metadata": {},
   "source": [
    "This tutorial is designed to demonstrate some of the main capabilities of the Iguazio Data Science Platform (**\"the platform\"**).\n",
    "The tutorial walks you through a basic machine-learning (ML) workflow, which includes the following steps; before running the steps, ensure that the required [prerequisites](#gs-prerequisites) are met:\n",
    "\n",
    "1. [Create and configure a new project](#gs-step-project-create-n-config)\n",
    "2. [Ingest a data set](#gs-step-ingest-data)\n",
    "3. [Explore the data](#gs-step-explore-data)\n",
    "4. [Run model training at scale](#gs-step-run-model-training)\n",
    "5. [Test your model](#gs-step-test-model)\n",
    "6. [Serve your model](#gs-step-model-serving)\n",
    "7. [Create and run a fully automated ML pipeline](#gs-step-create-n-run-ml-pipeline)\n",
    "\n",
    "By the end of this tutorial you will learn how to\n",
    "\n",
    "1. Create a new platform project.\n",
    "2. Create functions and track experiments while running them.\n",
    "3. Store artifacts to be used and managed in a central database.\n",
    "4. Leverage the MLRun functions marketplace.\n",
    "5. Create an automated ML pipeline.\n",
    "6. Run your code on a distributed Kubernetes cluster without any DevOps overhead.\n",
    "7. Create a scalable endpoint for model serving.\n",
    "\n",
    "The tutorial uses the [Iris flower data set](http://archive.ics.uci.edu/ml/datasets/iris) &mdash; a popular data set that is widely used for basic data science tutorials.\n",
    "The data set contains a set of 150 records under five attributes &mdash; petal length, petal width, sepal length, sepal width, and species. Your model will classify the species based on the other four attributes."
   ]
  },
  {
   "cell_type": "markdown",
   "metadata": {},
   "source": [
    "<a id=\"gs-prerequisites\"></a>"
   ]
  },
  {
   "cell_type": "markdown",
   "metadata": {},
   "source": [
    "## Prerequisites"
   ]
  },
  {
   "cell_type": "markdown",
   "metadata": {},
   "source": [
    "<a id=\"gs-mlrun-install\"></a>The tutorial uses MLRun to create a project, implement and execute an ML pipeline, and track the execution.\n",
    "(For more information about MLRun, see Step 1.)\n",
    "To use MLRun, you must first ensure that it's installed and running as a service on your platform cluster.\n",
    "Look for an `mlrun` service on the **Services** page of the platform dashboard.\n",
    "For more information and additional assistance, contact the Iguazio [support team](mailto:support@iguazio.com).\n",
    "\n",
    "To use MLRun from Jupyter Notebook, you need to run the following code to install the `mlrun` Python package.\n",
    "This needs to be done only once per Jupyter Notebook service.\n",
    "> **Note:** You must **restart the Jupyter kernel** to complete the installation."
   ]
  },
  {
   "cell_type": "code",
   "execution_count": null,
   "metadata": {},
   "outputs": [],
   "source": [
    "import sys\n",
    "!{sys.executable} -m pip install mlrun"
   ]
  },
  {
   "cell_type": "markdown",
   "metadata": {},
   "source": [
    "<a id=\"gs-step-project-create-n-config\"></a>"
   ]
  },
  {
   "cell_type": "markdown",
   "metadata": {},
   "source": [
    "## Step 1: Create and Configure a New Project"
   ]
  },
  {
   "cell_type": "markdown",
   "metadata": {},
   "source": [
    "Start out by creating a new platform project and making some initial configurations."
   ]
  },
  {
   "cell_type": "markdown",
   "metadata": {},
   "source": [
    "<a id=\"gs-create-project\"></a>"
   ]
  },
  {
   "cell_type": "markdown",
   "metadata": {},
   "source": [
    "### Create a New Project"
   ]
  },
  {
   "cell_type": "markdown",
   "metadata": {},
   "source": [
    "Projects in the platform are used to package multiple functions, workflows, and artifacts.\n",
    "Projects are created by using the `new_project` MLRun method, which receives the following parameters:\n",
    "\n",
    "- **`name`** (Required) &mdash; the project name.\n",
    "- **`context`** &mdash; the path to a local project directory (the project's context directory).\n",
    "  The project directory contains a project-configuration file (default: **project.yaml**), which defines the project, and additional generated Python code.\n",
    "  The project file is created when you save your project (using the `save` MLRun project method), as demonstrated in Step 6.\n",
    "- **`functions`** &mdash; a list of functions objects or links to function code or objects.\n",
    "- **`init_git`** &mdash; set to `True` to perform Git initialization of the project directory (`context`).\n",
    "  > **Note:** It's customary to store project code and definitions in a Git repository.\n",
    "\n",
    "Projects are visible in the MLRun dashboard only after they're saved to the MLRun database, which happens whenever you run code for a project.\n",
    "\n",
    "The following code creates a project named \"getting-started-iris-&lt;V3IO_USERNAME&gt;\", where **&lt;V3IO_USERNAME&gt;** is your current running username in the platform, and sets the project directory to a **conf** directory in the current tutorial directory (**/User/getting-started-tutorial/conf**).\n",
    "\n",
    "> **Note:** Platform projects are shared among all users of the parent tenant, to facilitate collaboration. Therefore,\n",
    ">\n",
    "> - Synchronize your projects execution with other users on your platform cluster, as needed, or use unique project names to avoid conflicts.\n",
    ">   You can easily change the default project name for this tutorial by changing the definition of the `project_name` variable in the following code.\n",
    "> - Don't include in your project proprietary information that you don't want to expose to other users.\n",
    ">   Note that while projects are a useful tool, you can easily develop and run code in the platform without using projects."
   ]
  },
  {
   "cell_type": "code",
   "execution_count": 1,
   "metadata": {},
   "outputs": [
    {
     "name": "stdout",
     "output_type": "stream",
     "text": [
      "Project path: /User/getting-started-tutorial/conf\n",
      "Project name: getting-started-iris-iguazio\n"
     ]
    }
   ],
   "source": [
    "from os import path, getenv\n",
    "from mlrun import new_project\n",
    "\n",
    "project_name = '-'.join(filter(None, ['getting-started-iris', getenv('V3IO_USERNAME', None)]))\n",
    "project_path = path.abspath('conf')\n",
    "project = new_project(project_name, project_path, init_git=True)\n",
    "\n",
    "print(f'Project path: {project_path}\\nProject name: {project_name}')"
   ]
  },
  {
   "cell_type": "markdown",
   "metadata": {},
   "source": [
    "<a id=\"gs-mlrun-config\"></a>"
   ]
  },
  {
   "cell_type": "markdown",
   "metadata": {},
   "source": [
    "### Configure MLRun"
   ]
  },
  {
   "cell_type": "markdown",
   "metadata": {},
   "source": [
    "[MLRun](https://github.com/mlrun/mlrun) is a generic and convenient mechanism for data scientists and software developers to describe and run tasks related to machine learning in various, scalable runtime environments and ML pipelines while automatically tracking executed code, metadata, inputs, and outputs.\n",
    "MLRun integrates with the Nuclio serverless framework and with the Kubeflow Pipelines framework for running ML pipelines.\n",
    "The tutorial uses MLRun to create a project, implement and execute an ML pipeline, and track the execution.\n",
    "Before running your code, you need to set some MLRun configurations:\n",
    "\n",
    "- <a id=\"gs-mlrun-config-artifcats-path\"></a>**Artifacts path** &mdash; the location for storing versioned data artifacts (such as files, objects, data sets, and models) that are produced or consumed by functions, runs, and workflows.\n",
    "  The path can be defined either as a local directory path or as a URL (of the format `s3://*`, `v3io://*`, etc.).\n",
    "  You can set the artifacts path either by defining an `MLRUN_ARTIFACT_PATH` environment variable (which applies globally throughout the current environment) or as part of the MLRun configuration.\n",
    " \n",
    "  If the target directory doesn't exist, MLRun creates it.\n",
    "  You can use the notation `{{run.uid}}` in the path to signify the current run ID.\n",
    "  For pipelines, you can use the notation `{{workflow.uid}}` to signify the workflow ID.\n",
    "  This allows you to create a unique artifacts directory for each executed job or workflow.\n",
    "\n",
    "  After you run an MLRun job, the artifacts directory might contain one or more of the following directories:\n",
    " \n",
    "  - **plots** &mdash; a directory for storing images, figures, and plotlines.\n",
    "  - **models** &mdash; a directory for storing all trained models.\n",
    "  - **data** &mdash; a directory for storing any other type of data artifact, such as data sets.\n",
    "\n",
    "\n",
    "- <a id=\"gs-mlrun-config-mlrun-db-path\"></a>**The MLRun DB path** &mdash; the path to an MLRun database (DB) directory or the URL of an MLRun API service.\n",
    "  The MLRun service initializes `mlconf.dbpath` to the default API URL for the current environment (usually `http://mlrun-api:8080`).\n",
    "\n",
    "The following code sets the artifacts path to a **jobs** directory within the tutorial directory (**/User/getting-started-tutorial/jobs**), and the MLRun DB path to the currently configured MLRun DB path, if exists, or to `http://mlrun-api:8080` otherwise.\n",
    "(In Step 7 of the tutorial, you'll create a full pipeline and store the pipeline artifacts in a **pipeline** tutorial directory.)"
   ]
  },
  {
   "cell_type": "code",
   "execution_count": 2,
   "metadata": {},
   "outputs": [
    {
     "name": "stdout",
     "output_type": "stream",
     "text": [
      "Artifacts path: /User/getting-started-tutorial/jobs\n",
      "MLRun DB path: http://mlrun-api:8080\n"
     ]
    }
   ],
   "source": [
    "from mlrun import run_local, NewTask, mlconf, import_function, mount_v3io\n",
    "\n",
    "# Target location for storing pipeline artifacts\n",
    "artifact_path = path.abspath('jobs')\n",
    "# MLRun DB path or API service URL\n",
    "mlconf.dbpath = mlconf.dbpath or 'http://mlrun-api:8080'\n",
    "\n",
    "print(f'Artifacts path: {artifact_path}\\nMLRun DB path: {mlconf.dbpath}')"
   ]
  },
  {
   "cell_type": "markdown",
   "metadata": {},
   "source": [
    "<a id=\"gs-nuclio-import-n-config\"></a>"
   ]
  },
  {
   "cell_type": "markdown",
   "metadata": {},
   "source": [
    "### Import and Configure Nuclio"
   ]
  },
  {
   "cell_type": "markdown",
   "metadata": {},
   "source": [
    "[Nuclio](https://nuclio.io/) is a high-performance open-source and managed serverless framework, which is available as a predefined tenant-wide platform service (`nuclio`).\n",
    "The tutorial uses Nuclio to create and deploy serverless functions.\n",
    "Therefore, you need to import the Nuclio package and configure Nuclio for your project.\n",
    "\n",
    "The platform's Jupyter Notebook service preinstalls the [nuclio-jupyter SDK](https://github.com/nuclio/nuclio-jupyter/blob/master/README.md) for creating and deploying Nuclio functions with Python and Jupyter Notebook.\n",
    "The tutorial uses the Nuclio magic commands and annotation comments of this SDK to automate function code generation.\n",
    "The magic commands are initialized when you import the `nuclio` package.<br>\n",
    "The `%nuclio` magic commands are used to run Nuclio commands from Jupyter notebooks (`%nuclio <Nuclio command>`).\n",
    "You can also use `%%nuclio` at the start of a cell to identify the entire cell as containing Nuclio code.\n",
    "The magic commands are initialized when you import the `nuclio` package.<br>\n",
    "The `# nuclio: start-code`, `# nuclio: end-code`, and `# nuclio: ignore` section-marker annotations notify Nuclio of the beginning or end of code sections.\n",
    "Nuclio ignores all notebook code before a `# nuclio: start-code` marker or after an `# nuclio: end-code` marker.\n",
    "Nuclio translates all other notebook code sections into function code, except for sections that are marked with the `# nuclio: ignore` marker."
   ]
  },
  {
   "cell_type": "markdown",
   "metadata": {},
   "source": [
    "#### Import Nuclio"
   ]
  },
  {
   "cell_type": "markdown",
   "metadata": {},
   "source": [
    "The following code imports the `nuclio` Python package."
   ]
  },
  {
   "cell_type": "code",
   "execution_count": 3,
   "metadata": {},
   "outputs": [],
   "source": [
    "import nuclio"
   ]
  },
  {
   "cell_type": "markdown",
   "metadata": {},
   "source": [
    "#### Configure Nuclio"
   ]
  },
  {
   "cell_type": "markdown",
   "metadata": {},
   "source": [
    "The following code uses the `# nuclio: start-code` marker to instruct Nuclio to start processing code only from this location, and then performs basic Nuclio function configuration &mdash; defining the name of the function's container image (`mlrun/ml-models`) and the function type (`job`).\n",
    "\n",
    "> **Note:** You can add code to define function dependencies and perform additional configuration after the `# nuclio: start-code` marker."
   ]
  },
  {
   "cell_type": "code",
   "execution_count": 4,
   "metadata": {},
   "outputs": [],
   "source": [
    "# nuclio: start-code"
   ]
  },
  {
   "cell_type": "code",
   "execution_count": 5,
   "metadata": {},
   "outputs": [
    {
     "name": "stdout",
     "output_type": "stream",
     "text": [
      "%nuclio: setting spec.image to 'mlrun/ml-models'\n",
      "%nuclio: setting kind to 'job'\n"
     ]
    }
   ],
   "source": [
    "%nuclio config spec.image = \"mlrun/ml-models\"\n",
    "%nuclio config kind = \"job\""
   ]
  },
  {
   "cell_type": "markdown",
   "metadata": {},
   "source": [
    "<a id=\"gs-step-ingest-data\"></a>"
   ]
  },
  {
   "cell_type": "markdown",
   "metadata": {},
   "source": [
    "## Step 2: Ingest a Data Set"
   ]
  },
  {
   "cell_type": "markdown",
   "metadata": {},
   "source": [
    "Define and run a Python function that downloads the Iris flower data set from Amazon Web Services (AWS) S3 bucket to the platform's local NoSQL data store, and stores it as an MLRun data set."
   ]
  },
  {
   "cell_type": "markdown",
   "metadata": {},
   "source": [
    "<a id=\"gs-step-ingest-data-init\"></a>"
   ]
  },
  {
   "cell_type": "markdown",
   "metadata": {},
   "source": [
    "### Initialization"
   ]
  },
  {
   "cell_type": "markdown",
   "metadata": {},
   "source": [
    "Define the source URL for downloading the data set.\n",
    "\n",
    "> **Note:** As explained earlier, the `nuclio: ignore` annotation is used to instruct Nuclio to ignore this cell. "
   ]
  },
  {
   "cell_type": "code",
   "execution_count": 6,
   "metadata": {},
   "outputs": [],
   "source": [
    "# nuclio: ignore\n",
    "# Set the source-data URL\n",
    "source_url = 'http://iguazio-sample-data.s3.amazonaws.com/iris_dataset.csv'"
   ]
  },
  {
   "cell_type": "markdown",
   "metadata": {},
   "source": [
    "<a id=\"gs-step-ingest-data-define-function\"></a>"
   ]
  },
  {
   "cell_type": "markdown",
   "metadata": {},
   "source": [
    "### Define a Data-Ingestion Function"
   ]
  },
  {
   "cell_type": "markdown",
   "metadata": {},
   "source": [
    "Define a data-ingestion function that downloads the configured data set from an AWS S3 bucket and saves it to the platform's local NoSQL data store."
   ]
  },
  {
   "cell_type": "code",
   "execution_count": 7,
   "metadata": {},
   "outputs": [],
   "source": [
    "from os import path\n",
    "import pandas as pd\n",
    "\n",
    "\n",
    "# Ingest a data set into the platform\n",
    "def get_data(context, source_url, format='csv'):\n",
    "\n",
    "    iris_dataset = source_url.as_df()\n",
    "\n",
    "    target_path = path.join(context.artifact_path, 'data')\n",
    "    # Optionally print data to your logger\n",
    "    context.logger.info('Saving Iris data set to {} ...'.format(target_path))\n",
    "\n",
    "    # Store the data set in your artifacts database\n",
    "    context.log_dataset('iris_dataset', df=iris_dataset, format=format,\n",
    "                        index=False, artifact_path=target_path)"
   ]
  },
  {
   "cell_type": "markdown",
   "metadata": {},
   "source": [
    "The following cell uses the `# nuclio: end-code` marker to mark the end of a Nuclio code section and instruct Nuclio to stop parsing the notebook at this point.<br>\n",
    "> **IMPORTANT:** Do not remove the end-code cell."
   ]
  },
  {
   "cell_type": "code",
   "execution_count": 8,
   "metadata": {},
   "outputs": [],
   "source": [
    "# nuclio: end-code"
   ]
  },
  {
   "cell_type": "markdown",
   "metadata": {},
   "source": [
    "<a id='gs-run-ingest-func'></a>"
   ]
  },
  {
   "cell_type": "markdown",
   "metadata": {},
   "source": [
    "### Run the Data-Ingestion Function"
   ]
  },
  {
   "cell_type": "markdown",
   "metadata": {},
   "source": [
    "MLRun enables you to run function code either locally in your preferred development environment (IDE) or web notebook (in this case, Jupyter Notebook), or on a large cluster (in this case, the platform's distributed Kubernetes cluster).\n",
    "\n",
    "For either execution method, you can specify function parameters, inputs, and outputs either by passing them as parameters to the run method (as done in this tutorial) or by configuring them in a task object that is then passed to the run method; (for more information about tasks, see Step 4 of this tutorial).\n",
    "In each run, you can specify new function inputs, parameters/hyperparameters, etc.\n",
    "For more information, see the [**mlrun_basics**](https://github.com/mlrun/mlrun/blob/master/examples/mlrun_basics.ipynb) example notebook.\n",
    "\n",
    "After the code execution completes, review the output, as demonstrated in the next sections."
   ]
  },
  {
   "cell_type": "markdown",
   "metadata": {},
   "source": [
    "#### Run the Function Locally in Jupyter Notebook"
   ]
  },
  {
   "cell_type": "markdown",
   "metadata": {},
   "source": [
    "Start out by running your function locally from within Jupyter Notebook.\n",
    "This is done by using the MLRun `run_local` method.\n",
    "\n",
    "When using this method, the function's inputs and outputs are automatically recorded and stored in the MLRun experiment and data-tracking database (**\"the MLRun DB\"**)."
   ]
  },
  {
   "cell_type": "code",
   "execution_count": 9,
   "metadata": {},
   "outputs": [
    {
     "name": "stdout",
     "output_type": "stream",
     "text": [
      "> 2020-07-26 14:23:38,731 [debug] Validating field against patterns: {'field_name': 'run.metadata.name', 'field_value': 'get_data', 'pattern': ['^.{0,63}$', '^(([A-Za-z0-9][-A-Za-z0-9_.]*)?[A-Za-z0-9])?$']}\n",
      "> 2020-07-26 14:23:38,740 [warning] warning!, server (0.4.10) and client (0.5.0) ver dont match\n",
      "> 2020-07-26 14:23:38,741 [info] starting run get_data uid=9e6862a2cbf749b0bf2bab4c6e54ee89  -> http://mlrun-api:8080\n",
      "> 2020-07-26 14:23:38,805 [warning] warning!, server (0.4.10) and client (0.5.0) ver dont match\n",
      "> 2020-07-26 14:23:38,916 [info] Saving Iris data set to /User/getting-started-tutorial/jobs/data ...\n",
      "> 2020-07-26 14:23:38,971 [debug] log artifact iris_dataset at /User/getting-started-tutorial/jobs/data/iris_dataset.csv, size: 2776, db: Y\n"
     ]
    },
    {
     "data": {
      "text/html": [
       "<style>\n",
       ".dictlist {\n",
       "  background-color: #b3edff;\n",
       "  text-align: center;\n",
       "  margin: 4px;\n",
       "  border-radius: 3px; padding: 0px 3px 1px 3px; display: inline-block;}\n",
       ".artifact {\n",
       "  cursor: pointer;\n",
       "  background-color: #ffe6cc;\n",
       "  text-align: left;\n",
       "  margin: 4px; border-radius: 3px; padding: 0px 3px 1px 3px; display: inline-block;\n",
       "}\n",
       "div.block.hidden {\n",
       "  display: none;\n",
       "}\n",
       ".clickable {\n",
       "  cursor: pointer;\n",
       "}\n",
       ".ellipsis {\n",
       "  display: inline-block;\n",
       "  max-width: 60px;\n",
       "  white-space: nowrap;\n",
       "  overflow: hidden;\n",
       "  text-overflow: ellipsis;\n",
       "}\n",
       ".master-wrapper {\n",
       "  display: flex;\n",
       "  flex-flow: row nowrap;\n",
       "  justify-content: flex-start;\n",
       "  align-items: stretch;\n",
       "}\n",
       ".master-tbl {\n",
       "  flex: 3\n",
       "}\n",
       ".master-wrapper > div {\n",
       "  margin: 4px;\n",
       "  padding: 10px;\n",
       "}\n",
       "iframe.fileview {\n",
       "  border: 0 none;\n",
       "  height: 100%;\n",
       "  width: 100%;\n",
       "  white-space: pre-wrap;\n",
       "}\n",
       ".pane-header-title {\n",
       "  width: 80%;\n",
       "  font-weight: 500;\n",
       "}\n",
       ".pane-header {\n",
       "  line-height: 1;\n",
       "  background-color: #ffe6cc;\n",
       "  padding: 3px;\n",
       "}\n",
       ".pane-header .close {\n",
       "  font-size: 20px;\n",
       "  font-weight: 700;\n",
       "  float: right;\n",
       "  margin-top: -5px;\n",
       "}\n",
       ".master-wrapper .right-pane {\n",
       "  border: 1px inset silver;\n",
       "  width: 40%;\n",
       "  min-height: 300px;\n",
       "  flex: 3\n",
       "  min-width: 500px;\n",
       "}\n",
       ".master-wrapper * {\n",
       "  box-sizing: border-box;\n",
       "}\n",
       "</style><script>\n",
       "function copyToClipboard(fld) {\n",
       "    if (document.queryCommandSupported && document.queryCommandSupported('copy')) {\n",
       "        var textarea = document.createElement('textarea');\n",
       "        textarea.textContent = fld.innerHTML;\n",
       "        textarea.style.position = 'fixed';\n",
       "        document.body.appendChild(textarea);\n",
       "        textarea.select();\n",
       "\n",
       "        try {\n",
       "            return document.execCommand('copy'); // Security exception may be thrown by some browsers.\n",
       "        } catch (ex) {\n",
       "\n",
       "        } finally {\n",
       "            document.body.removeChild(textarea);\n",
       "        }\n",
       "    }\n",
       "}\n",
       "function expandPanel(el) {\n",
       "  const panelName = \"#\" + el.getAttribute('paneName');\n",
       "  console.log(el.title);\n",
       "\n",
       "  document.querySelector(panelName + \"-title\").innerHTML = el.title\n",
       "  iframe = document.querySelector(panelName + \"-body\");\n",
       "\n",
       "  const tblcss = `<style> body { font-family: Arial, Helvetica, sans-serif;}\n",
       "    #csv { margin-bottom: 15px; }\n",
       "    #csv table { border-collapse: collapse;}\n",
       "    #csv table td { padding: 4px 8px; border: 1px solid silver;} </style>`;\n",
       "\n",
       "  function csvToHtmlTable(str) {\n",
       "    return '<div id=\"csv\"><table><tr><td>' +  str.replace(/[\\n\\r]+$/g, '').replace(/[\\n\\r]+/g, '</td></tr><tr><td>')\n",
       "      .replace(/,/g, '</td><td>') + '</td></tr></table></div>';\n",
       "  }\n",
       "\n",
       "  function reqListener () {\n",
       "    if (el.title.endsWith(\".csv\")) {\n",
       "      iframe.setAttribute(\"srcdoc\", tblcss + csvToHtmlTable(this.responseText));\n",
       "    } else {\n",
       "      iframe.setAttribute(\"srcdoc\", this.responseText);\n",
       "    }\n",
       "    console.log(this.responseText);\n",
       "  }\n",
       "\n",
       "  const oReq = new XMLHttpRequest();\n",
       "  oReq.addEventListener(\"load\", reqListener);\n",
       "  oReq.open(\"GET\", el.title);\n",
       "  oReq.send();\n",
       "\n",
       "\n",
       "  //iframe.src = el.title;\n",
       "  const resultPane = document.querySelector(panelName + \"-pane\");\n",
       "  if (resultPane.classList.contains(\"hidden\")) {\n",
       "    resultPane.classList.remove(\"hidden\");\n",
       "  }\n",
       "}\n",
       "function closePanel(el) {\n",
       "  const panelName = \"#\" + el.getAttribute('paneName')\n",
       "  const resultPane = document.querySelector(panelName + \"-pane\");\n",
       "  if (!resultPane.classList.contains(\"hidden\")) {\n",
       "    resultPane.classList.add(\"hidden\");\n",
       "  }\n",
       "}\n",
       "\n",
       "</script>\n",
       "<div class=\"master-wrapper\">\n",
       "  <div class=\"block master-tbl\"><div>\n",
       "<style scoped>\n",
       "    .dataframe tbody tr th:only-of-type {\n",
       "        vertical-align: middle;\n",
       "    }\n",
       "\n",
       "    .dataframe tbody tr th {\n",
       "        vertical-align: top;\n",
       "    }\n",
       "\n",
       "    .dataframe thead th {\n",
       "        text-align: right;\n",
       "    }\n",
       "</style>\n",
       "<table border=\"1\" class=\"dataframe\">\n",
       "  <thead>\n",
       "    <tr style=\"text-align: right;\">\n",
       "      <th>project</th>\n",
       "      <th>uid</th>\n",
       "      <th>iter</th>\n",
       "      <th>start</th>\n",
       "      <th>state</th>\n",
       "      <th>name</th>\n",
       "      <th>labels</th>\n",
       "      <th>inputs</th>\n",
       "      <th>parameters</th>\n",
       "      <th>results</th>\n",
       "      <th>artifacts</th>\n",
       "    </tr>\n",
       "  </thead>\n",
       "  <tbody>\n",
       "    <tr>\n",
       "      <td>getting-started-iris-iguazio</td>\n",
       "      <td><div title=\"9e6862a2cbf749b0bf2bab4c6e54ee89\"><a href=\"https://mlrun-ui.default-tenant.app.pzlcbitaiwad.iguazio-cd1.com/projects/getting-started-iris-iguazio/jobs/9e6862a2cbf749b0bf2bab4c6e54ee89/info\" target=\"_blank\" >...6e54ee89</a></div></td>\n",
       "      <td>0</td>\n",
       "      <td>Jul 26 14:23:38</td>\n",
       "      <td>completed</td>\n",
       "      <td>get_data</td>\n",
       "      <td><div class=\"dictlist\">v3io_user=iguazio</div><div class=\"dictlist\">kind=handler</div><div class=\"dictlist\">owner=iguazio</div><div class=\"dictlist\">host=jupyter-7d6cd8d66b-mqs5w</div></td>\n",
       "      <td><div title=\"http://iguazio-sample-data.s3.amazonaws.com/iris_dataset.csv\">source_url</div></td>\n",
       "      <td></td>\n",
       "      <td></td>\n",
       "      <td><div class=\"artifact\" onclick=\"expandPanel(this)\" paneName=\"resultf568e1e5\" title=\"/files/getting-started-tutorial/jobs/data/iris_dataset.csv\">iris_dataset</div></td>\n",
       "    </tr>\n",
       "  </tbody>\n",
       "</table>\n",
       "</div></div>\n",
       "  <div id=\"resultf568e1e5-pane\" class=\"right-pane block hidden\">\n",
       "    <div class=\"pane-header\">\n",
       "      <span id=\"resultf568e1e5-title\" class=\"pane-header-title\">Title</span>\n",
       "      <span onclick=\"closePanel(this)\" paneName=\"resultf568e1e5\" class=\"close clickable\">&times;</span>\n",
       "    </div>\n",
       "    <iframe class=\"fileview\" id=\"resultf568e1e5-body\"></iframe>\n",
       "  </div>\n",
       "</div>\n"
      ],
      "text/plain": [
       "<IPython.core.display.HTML object>"
      ]
     },
     "metadata": {},
     "output_type": "display_data"
    },
    {
     "name": "stdout",
     "output_type": "stream",
     "text": [
      "to track results use .show() or .logs() or in CLI: \n",
      "!mlrun get run 9e6862a2cbf749b0bf2bab4c6e54ee89 --project getting-started-iris-iguazio , !mlrun logs 9e6862a2cbf749b0bf2bab4c6e54ee89 --project getting-started-iris-iguazio\n",
      "> 2020-07-26 14:23:39,036 [info] run executed, status=completed\n"
     ]
    }
   ],
   "source": [
    "# Run the data-ingestion function locally in Jupyter Notebook\n",
    "get_data_run = run_local(name='get_data',\n",
    "                         handler=get_data,\n",
    "                         inputs={'source_url': source_url},\n",
    "                         project=project_name, artifact_path=artifact_path)"
   ]
  },
  {
   "cell_type": "markdown",
   "metadata": {},
   "source": [
    "<a id=\"gs-ingest-func-output-review\"></a>"
   ]
  },
  {
   "cell_type": "markdown",
   "metadata": {},
   "source": [
    "### Review the Run Output"
   ]
  },
  {
   "cell_type": "markdown",
   "metadata": {},
   "source": [
    "The output cell for your function execution contains a table with run information &mdash; including the state of the execution, all inputs and parameters, and the execution results and artifacts.\n",
    "Click on the `iris_dataset` artifact in the **artifacts** column to see a short summary of the data set, as illustrated in the following image:\n",
    "<br><br>\n",
    "![getting_started-get_data-details](./assets/getting_started-get_data-details.png)"
   ]
  },
  {
   "cell_type": "markdown",
   "metadata": {},
   "source": [
    "MLRun features a graphical user interface (**\"the MLRun dashboard\"**), which displays detailed information about executed jobs, artifacts, and functions &mdash; including job states, inputs, parameters, artifacts, execution results, and logs.\n",
    "This dashboard also allows you to filter the display based on different criteria.<br>\n",
    "To open the dashboard, simply select the MLRun service link (`mlrun`) from the **Services** page of the platform dashboard.\n",
    "\n",
    "On the MLRun dashboard's **Projects** home page, select the **Jobs** link for the current project (\"getting-started-iris\") to open a **Jobs** page with a **Monitor** tab that displays information about the project's executed jobs:\n",
    "<br><br>\n",
    "<img src=\"./assets/getting_started-ui-jobs-monitor.png\" alt=\"ui-jobs-monitor\" width=\"800\"/>"
   ]
  },
  {
   "cell_type": "markdown",
   "metadata": {},
   "source": [
    "Select the `get_data` function to see detailed information about the function and its execution &mdash; including the execution start time and status, metadata, inputs, artifacts, run results, and logs:\n",
    "<br><br>\n",
    "<img src=\"./assets/getting_started-get_data-ui-jobs.png\" alt=\"get-iris-data-ui-jobs\" width=\"800\"/>"
   ]
  },
  {
   "cell_type": "markdown",
   "metadata": {},
   "source": [
    "Return to the dashboard's **Projects** home page and select the **Artifacts** link for the current project to open an **Artifacts** page with a **Monitor** tab that displays information about your project's artifacts.\n",
    "Select the \"get_data_iris_dataset\" artifact to view information about the \"iris_dataset\" artifact of the `get_data` function (**iris_dataset.csv**); note that you can also preview the data set and see related metadata:\n",
    "<br><br>\n",
    "<img src=\"./assets/getting_started-get_data-ui-artifacts.png\" alt=\"get-iris-data-ui-artifacts\" width=\"800\"/>"
   ]
  },
  {
   "cell_type": "markdown",
   "metadata": {},
   "source": [
    "> **Note:** There are also other ways that you can view run artifacts, in addition to the notebook run-output table and the MLRun dashboard:\n",
    "> - In your notebook, use Python print or display methods, such as `IPython.display`, to display the artifact of a run object, as demonstrated later in this tutorial.\n",
    "> - On the platform dashboard, select **Data** from the side navigation menu, and then select your data container from the **Browse** tab; the tutorial stores data in the \"users\" container.\n",
    ">   Then, navigate to your project's artifacts directory, locate the artifact file, and double-click it to view it in the browse table.<br>\n",
    ">   You can also download platform data files from the dashboard to your local environment.\n",
    "> - In the JupyterLab file browser, navigate to the project's artifacts directory (**/User/getting-started-tutorial/jobs** for this tutorial), locate the artifact file, and select it to view the file from the Jupyter UI."
   ]
  },
  {
   "cell_type": "markdown",
   "metadata": {},
   "source": [
    "#### Run the Function on a Cluster"
   ]
  },
  {
   "cell_type": "markdown",
   "metadata": {},
   "source": [
    "One of the key benefits of Iguazio Data Science Platform is the ability to easily run any code on a distributed Kubernetes cluster and achieve better performance.\n",
    "To do so, you first need to convert your notebook code into a function that can run on the cluster, and then run this function."
   ]
  },
  {
   "cell_type": "markdown",
   "metadata": {},
   "source": [
    "##### Convert the Notebook Code Into a Function"
   ]
  },
  {
   "cell_type": "markdown",
   "metadata": {},
   "source": [
    "Use the MLRun `code_to_function` method to convert your notebook code into a project MLRun function &mdash; a function object with embedded code, which can run on the cluster.\n",
    "This will also come in handy later in the tutorial, after you create an automated pipeline.\n",
    "\n",
    "The following code converts the code of your local `get-data` data-ingestion function into a `gen_func` project function.\n",
    "(For more information about the `set_function` MLRun project method, which is used to add the new project function, see Step 3.)"
   ]
  },
  {
   "cell_type": "code",
   "execution_count": 10,
   "metadata": {},
   "outputs": [
    {
     "data": {
      "text/plain": [
       "<mlrun.runtimes.kubejob.KubejobRuntime at 0x7fc5c4ffecd0>"
      ]
     },
     "execution_count": 10,
     "metadata": {},
     "output_type": "execute_result"
    }
   ],
   "source": [
    "from mlrun import code_to_function\n",
    "\n",
    "# Convert the local get_data function into a gen_func project function\n",
    "gen_func = code_to_function(name='get-data')\n",
    "project.set_function(gen_func)"
   ]
  },
  {
   "cell_type": "markdown",
   "metadata": {},
   "source": [
    "##### Run the Function on the Cluster"
   ]
  },
  {
   "cell_type": "markdown",
   "metadata": {},
   "source": [
    "After you create the project function, you can run it on the platform's distributed Kubernetes cluster.\n",
    "The execution code is similar to the code used for the local execution, except that the `run_local` method is replaced with the `run` method.\n",
    "\n",
    "When the execution is done, review the output as you did for the local execution."
   ]
  },
  {
   "cell_type": "code",
   "execution_count": 11,
   "metadata": {},
   "outputs": [
    {
     "name": "stdout",
     "output_type": "stream",
     "text": [
      "> 2020-07-26 14:23:41,248 [debug] Validating field against patterns: {'field_name': 'run.metadata.name', 'field_value': 'get_data', 'pattern': ['^.{0,63}$', '^(([A-Za-z0-9][-A-Za-z0-9_.]*)?[A-Za-z0-9])?$']}\n",
      "> 2020-07-26 14:23:41,254 [warning] warning!, server (0.4.10) and client (0.5.0) ver dont match\n",
      "> 2020-07-26 14:23:41,255 [info] starting run get_data uid=14737e4f70bb4501bba94391810e5bec  -> http://mlrun-api:8080\n",
      "> 2020-07-26 14:23:41,396 [info] Job is running in the background, pod: get-data-pwvzb\n",
      "[mlrun] 2020-07-26 14:24:43,049 Saving Iris data set to /User/getting-started-tutorial/jobs/data ...\n",
      "\n",
      "[mlrun] 2020-07-26 14:24:43,155 run executed, status=completed\n",
      "final state: succeeded\n"
     ]
    },
    {
     "data": {
      "text/html": [
       "<style>\n",
       ".dictlist {\n",
       "  background-color: #b3edff;\n",
       "  text-align: center;\n",
       "  margin: 4px;\n",
       "  border-radius: 3px; padding: 0px 3px 1px 3px; display: inline-block;}\n",
       ".artifact {\n",
       "  cursor: pointer;\n",
       "  background-color: #ffe6cc;\n",
       "  text-align: left;\n",
       "  margin: 4px; border-radius: 3px; padding: 0px 3px 1px 3px; display: inline-block;\n",
       "}\n",
       "div.block.hidden {\n",
       "  display: none;\n",
       "}\n",
       ".clickable {\n",
       "  cursor: pointer;\n",
       "}\n",
       ".ellipsis {\n",
       "  display: inline-block;\n",
       "  max-width: 60px;\n",
       "  white-space: nowrap;\n",
       "  overflow: hidden;\n",
       "  text-overflow: ellipsis;\n",
       "}\n",
       ".master-wrapper {\n",
       "  display: flex;\n",
       "  flex-flow: row nowrap;\n",
       "  justify-content: flex-start;\n",
       "  align-items: stretch;\n",
       "}\n",
       ".master-tbl {\n",
       "  flex: 3\n",
       "}\n",
       ".master-wrapper > div {\n",
       "  margin: 4px;\n",
       "  padding: 10px;\n",
       "}\n",
       "iframe.fileview {\n",
       "  border: 0 none;\n",
       "  height: 100%;\n",
       "  width: 100%;\n",
       "  white-space: pre-wrap;\n",
       "}\n",
       ".pane-header-title {\n",
       "  width: 80%;\n",
       "  font-weight: 500;\n",
       "}\n",
       ".pane-header {\n",
       "  line-height: 1;\n",
       "  background-color: #ffe6cc;\n",
       "  padding: 3px;\n",
       "}\n",
       ".pane-header .close {\n",
       "  font-size: 20px;\n",
       "  font-weight: 700;\n",
       "  float: right;\n",
       "  margin-top: -5px;\n",
       "}\n",
       ".master-wrapper .right-pane {\n",
       "  border: 1px inset silver;\n",
       "  width: 40%;\n",
       "  min-height: 300px;\n",
       "  flex: 3\n",
       "  min-width: 500px;\n",
       "}\n",
       ".master-wrapper * {\n",
       "  box-sizing: border-box;\n",
       "}\n",
       "</style><script>\n",
       "function copyToClipboard(fld) {\n",
       "    if (document.queryCommandSupported && document.queryCommandSupported('copy')) {\n",
       "        var textarea = document.createElement('textarea');\n",
       "        textarea.textContent = fld.innerHTML;\n",
       "        textarea.style.position = 'fixed';\n",
       "        document.body.appendChild(textarea);\n",
       "        textarea.select();\n",
       "\n",
       "        try {\n",
       "            return document.execCommand('copy'); // Security exception may be thrown by some browsers.\n",
       "        } catch (ex) {\n",
       "\n",
       "        } finally {\n",
       "            document.body.removeChild(textarea);\n",
       "        }\n",
       "    }\n",
       "}\n",
       "function expandPanel(el) {\n",
       "  const panelName = \"#\" + el.getAttribute('paneName');\n",
       "  console.log(el.title);\n",
       "\n",
       "  document.querySelector(panelName + \"-title\").innerHTML = el.title\n",
       "  iframe = document.querySelector(panelName + \"-body\");\n",
       "\n",
       "  const tblcss = `<style> body { font-family: Arial, Helvetica, sans-serif;}\n",
       "    #csv { margin-bottom: 15px; }\n",
       "    #csv table { border-collapse: collapse;}\n",
       "    #csv table td { padding: 4px 8px; border: 1px solid silver;} </style>`;\n",
       "\n",
       "  function csvToHtmlTable(str) {\n",
       "    return '<div id=\"csv\"><table><tr><td>' +  str.replace(/[\\n\\r]+$/g, '').replace(/[\\n\\r]+/g, '</td></tr><tr><td>')\n",
       "      .replace(/,/g, '</td><td>') + '</td></tr></table></div>';\n",
       "  }\n",
       "\n",
       "  function reqListener () {\n",
       "    if (el.title.endsWith(\".csv\")) {\n",
       "      iframe.setAttribute(\"srcdoc\", tblcss + csvToHtmlTable(this.responseText));\n",
       "    } else {\n",
       "      iframe.setAttribute(\"srcdoc\", this.responseText);\n",
       "    }\n",
       "    console.log(this.responseText);\n",
       "  }\n",
       "\n",
       "  const oReq = new XMLHttpRequest();\n",
       "  oReq.addEventListener(\"load\", reqListener);\n",
       "  oReq.open(\"GET\", el.title);\n",
       "  oReq.send();\n",
       "\n",
       "\n",
       "  //iframe.src = el.title;\n",
       "  const resultPane = document.querySelector(panelName + \"-pane\");\n",
       "  if (resultPane.classList.contains(\"hidden\")) {\n",
       "    resultPane.classList.remove(\"hidden\");\n",
       "  }\n",
       "}\n",
       "function closePanel(el) {\n",
       "  const panelName = \"#\" + el.getAttribute('paneName')\n",
       "  const resultPane = document.querySelector(panelName + \"-pane\");\n",
       "  if (!resultPane.classList.contains(\"hidden\")) {\n",
       "    resultPane.classList.add(\"hidden\");\n",
       "  }\n",
       "}\n",
       "\n",
       "</script>\n",
       "<div class=\"master-wrapper\">\n",
       "  <div class=\"block master-tbl\"><div>\n",
       "<style scoped>\n",
       "    .dataframe tbody tr th:only-of-type {\n",
       "        vertical-align: middle;\n",
       "    }\n",
       "\n",
       "    .dataframe tbody tr th {\n",
       "        vertical-align: top;\n",
       "    }\n",
       "\n",
       "    .dataframe thead th {\n",
       "        text-align: right;\n",
       "    }\n",
       "</style>\n",
       "<table border=\"1\" class=\"dataframe\">\n",
       "  <thead>\n",
       "    <tr style=\"text-align: right;\">\n",
       "      <th>project</th>\n",
       "      <th>uid</th>\n",
       "      <th>iter</th>\n",
       "      <th>start</th>\n",
       "      <th>state</th>\n",
       "      <th>name</th>\n",
       "      <th>labels</th>\n",
       "      <th>inputs</th>\n",
       "      <th>parameters</th>\n",
       "      <th>results</th>\n",
       "      <th>artifacts</th>\n",
       "    </tr>\n",
       "  </thead>\n",
       "  <tbody>\n",
       "    <tr>\n",
       "      <td>getting-started-iris-iguazio</td>\n",
       "      <td><div title=\"14737e4f70bb4501bba94391810e5bec\"><a href=\"https://mlrun-ui.default-tenant.app.pzlcbitaiwad.iguazio-cd1.com/projects/getting-started-iris-iguazio/jobs/14737e4f70bb4501bba94391810e5bec/info\" target=\"_blank\" >...810e5bec</a></div></td>\n",
       "      <td>0</td>\n",
       "      <td>Jul 26 14:24:42</td>\n",
       "      <td>completed</td>\n",
       "      <td>get_data</td>\n",
       "      <td><div class=\"dictlist\">v3io_user=iguazio</div><div class=\"dictlist\">kind=job</div><div class=\"dictlist\">owner=iguazio</div><div class=\"dictlist\">host=get-data-pwvzb</div></td>\n",
       "      <td><div title=\"http://iguazio-sample-data.s3.amazonaws.com/iris_dataset.csv\">source_url</div></td>\n",
       "      <td></td>\n",
       "      <td></td>\n",
       "      <td><div class=\"artifact\" onclick=\"expandPanel(this)\" paneName=\"result501e3404\" title=\"/files/getting-started-tutorial/jobs/data/iris_dataset.csv\">iris_dataset</div></td>\n",
       "    </tr>\n",
       "  </tbody>\n",
       "</table>\n",
       "</div></div>\n",
       "  <div id=\"result501e3404-pane\" class=\"right-pane block hidden\">\n",
       "    <div class=\"pane-header\">\n",
       "      <span id=\"result501e3404-title\" class=\"pane-header-title\">Title</span>\n",
       "      <span onclick=\"closePanel(this)\" paneName=\"result501e3404\" class=\"close clickable\">&times;</span>\n",
       "    </div>\n",
       "    <iframe class=\"fileview\" id=\"result501e3404-body\"></iframe>\n",
       "  </div>\n",
       "</div>\n"
      ],
      "text/plain": [
       "<IPython.core.display.HTML object>"
      ]
     },
     "metadata": {},
     "output_type": "display_data"
    },
    {
     "name": "stdout",
     "output_type": "stream",
     "text": [
      "to track results use .show() or .logs() or in CLI: \n",
      "!mlrun get run 14737e4f70bb4501bba94391810e5bec --project getting-started-iris-iguazio , !mlrun logs 14737e4f70bb4501bba94391810e5bec --project getting-started-iris-iguazio\n",
      "> 2020-07-26 14:24:50,705 [info] run executed, status=completed\n"
     ]
    }
   ],
   "source": [
    "get_data_func = project.func('get-data').apply(mount_v3io())\n",
    "get_data_run = get_data_func.run(name='get_data',\n",
    "                                 handler='get_data',\n",
    "                                 inputs={'source_url': source_url},\n",
    "                                 artifact_path=artifact_path)"
   ]
  },
  {
   "cell_type": "markdown",
   "metadata": {},
   "source": [
    "<a id=\"gs-step-explore-data\"></a>"
   ]
  },
  {
   "cell_type": "markdown",
   "metadata": {},
   "source": [
    "## Step 3: Explore the Data"
   ]
  },
  {
   "cell_type": "markdown",
   "metadata": {},
   "source": [
    "Data exploration makes up a big part of the data science work.\n",
    "This step demonstrates how you can use pandas DataFrames or an MLRun marketplace function to read your data set, analyze it to extract statistics, and visualize the information to gain more insight into your data."
   ]
  },
  {
   "cell_type": "markdown",
   "metadata": {},
   "source": [
    "<a id=\"gs-explore-data-w-pandas-df\"></a>"
   ]
  },
  {
   "cell_type": "markdown",
   "metadata": {},
   "source": [
    "### Explore the Data with Pandas DataFrames"
   ]
  },
  {
   "cell_type": "markdown",
   "metadata": {},
   "source": [
    "Run the following code to use pandas DataFrames to read your data set, extract some basic statistics, and display them."
   ]
  },
  {
   "cell_type": "code",
   "execution_count": 12,
   "metadata": {},
   "outputs": [],
   "source": [
    "# Read your data set\n",
    "from mlrun.run import get_dataitem\n",
    "df = get_dataitem(get_data_run.outputs['iris_dataset']).as_df()"
   ]
  },
  {
   "cell_type": "code",
   "execution_count": 13,
   "metadata": {},
   "outputs": [
    {
     "data": {
      "text/html": [
       "<div>\n",
       "<style scoped>\n",
       "    .dataframe tbody tr th:only-of-type {\n",
       "        vertical-align: middle;\n",
       "    }\n",
       "\n",
       "    .dataframe tbody tr th {\n",
       "        vertical-align: top;\n",
       "    }\n",
       "\n",
       "    .dataframe thead th {\n",
       "        text-align: right;\n",
       "    }\n",
       "</style>\n",
       "<table border=\"1\" class=\"dataframe\">\n",
       "  <thead>\n",
       "    <tr style=\"text-align: right;\">\n",
       "      <th></th>\n",
       "      <th>sepal length (cm)</th>\n",
       "      <th>sepal width (cm)</th>\n",
       "      <th>petal length (cm)</th>\n",
       "      <th>petal width (cm)</th>\n",
       "      <th>label</th>\n",
       "    </tr>\n",
       "  </thead>\n",
       "  <tbody>\n",
       "    <tr>\n",
       "      <th>0</th>\n",
       "      <td>5.1</td>\n",
       "      <td>3.5</td>\n",
       "      <td>1.4</td>\n",
       "      <td>0.2</td>\n",
       "      <td>0</td>\n",
       "    </tr>\n",
       "    <tr>\n",
       "      <th>1</th>\n",
       "      <td>4.9</td>\n",
       "      <td>3.0</td>\n",
       "      <td>1.4</td>\n",
       "      <td>0.2</td>\n",
       "      <td>0</td>\n",
       "    </tr>\n",
       "    <tr>\n",
       "      <th>2</th>\n",
       "      <td>4.7</td>\n",
       "      <td>3.2</td>\n",
       "      <td>1.3</td>\n",
       "      <td>0.2</td>\n",
       "      <td>0</td>\n",
       "    </tr>\n",
       "    <tr>\n",
       "      <th>3</th>\n",
       "      <td>4.6</td>\n",
       "      <td>3.1</td>\n",
       "      <td>1.5</td>\n",
       "      <td>0.2</td>\n",
       "      <td>0</td>\n",
       "    </tr>\n",
       "    <tr>\n",
       "      <th>4</th>\n",
       "      <td>5.0</td>\n",
       "      <td>3.6</td>\n",
       "      <td>1.4</td>\n",
       "      <td>0.2</td>\n",
       "      <td>0</td>\n",
       "    </tr>\n",
       "  </tbody>\n",
       "</table>\n",
       "</div>"
      ],
      "text/plain": [
       "   sepal length (cm)  sepal width (cm)  petal length (cm)  petal width (cm)  \\\n",
       "0                5.1               3.5                1.4               0.2   \n",
       "1                4.9               3.0                1.4               0.2   \n",
       "2                4.7               3.2                1.3               0.2   \n",
       "3                4.6               3.1                1.5               0.2   \n",
       "4                5.0               3.6                1.4               0.2   \n",
       "\n",
       "   label  \n",
       "0      0  \n",
       "1      0  \n",
       "2      0  \n",
       "3      0  \n",
       "4      0  "
      ]
     },
     "execution_count": 13,
     "metadata": {},
     "output_type": "execute_result"
    }
   ],
   "source": [
    "# Display a portion of the read data\n",
    "df.head()"
   ]
  },
  {
   "cell_type": "code",
   "execution_count": 14,
   "metadata": {},
   "outputs": [
    {
     "name": "stdout",
     "output_type": "stream",
     "text": [
      "Total number of rows: 150\n"
     ]
    }
   ],
   "source": [
    "# Calculate and display the number of data-set items\n",
    "print(f'Total number of rows: {len(df)}')"
   ]
  },
  {
   "cell_type": "code",
   "execution_count": 15,
   "metadata": {},
   "outputs": [
    {
     "data": {
      "text/html": [
       "<div>\n",
       "<style scoped>\n",
       "    .dataframe tbody tr th:only-of-type {\n",
       "        vertical-align: middle;\n",
       "    }\n",
       "\n",
       "    .dataframe tbody tr th {\n",
       "        vertical-align: top;\n",
       "    }\n",
       "\n",
       "    .dataframe thead tr th {\n",
       "        text-align: left;\n",
       "    }\n",
       "\n",
       "    .dataframe thead tr:last-of-type th {\n",
       "        text-align: right;\n",
       "    }\n",
       "</style>\n",
       "<table border=\"1\" class=\"dataframe\">\n",
       "  <thead>\n",
       "    <tr>\n",
       "      <th></th>\n",
       "      <th colspan=\"8\" halign=\"left\">sepal length (cm)</th>\n",
       "      <th colspan=\"2\" halign=\"left\">sepal width (cm)</th>\n",
       "      <th>...</th>\n",
       "      <th colspan=\"2\" halign=\"left\">petal length (cm)</th>\n",
       "      <th colspan=\"8\" halign=\"left\">petal width (cm)</th>\n",
       "    </tr>\n",
       "    <tr>\n",
       "      <th></th>\n",
       "      <th>count</th>\n",
       "      <th>mean</th>\n",
       "      <th>std</th>\n",
       "      <th>min</th>\n",
       "      <th>25%</th>\n",
       "      <th>50%</th>\n",
       "      <th>75%</th>\n",
       "      <th>max</th>\n",
       "      <th>count</th>\n",
       "      <th>mean</th>\n",
       "      <th>...</th>\n",
       "      <th>75%</th>\n",
       "      <th>max</th>\n",
       "      <th>count</th>\n",
       "      <th>mean</th>\n",
       "      <th>std</th>\n",
       "      <th>min</th>\n",
       "      <th>25%</th>\n",
       "      <th>50%</th>\n",
       "      <th>75%</th>\n",
       "      <th>max</th>\n",
       "    </tr>\n",
       "    <tr>\n",
       "      <th>label</th>\n",
       "      <th></th>\n",
       "      <th></th>\n",
       "      <th></th>\n",
       "      <th></th>\n",
       "      <th></th>\n",
       "      <th></th>\n",
       "      <th></th>\n",
       "      <th></th>\n",
       "      <th></th>\n",
       "      <th></th>\n",
       "      <th></th>\n",
       "      <th></th>\n",
       "      <th></th>\n",
       "      <th></th>\n",
       "      <th></th>\n",
       "      <th></th>\n",
       "      <th></th>\n",
       "      <th></th>\n",
       "      <th></th>\n",
       "      <th></th>\n",
       "      <th></th>\n",
       "    </tr>\n",
       "  </thead>\n",
       "  <tbody>\n",
       "    <tr>\n",
       "      <th>0</th>\n",
       "      <td>50.0</td>\n",
       "      <td>5.006</td>\n",
       "      <td>0.352490</td>\n",
       "      <td>4.3</td>\n",
       "      <td>4.800</td>\n",
       "      <td>5.0</td>\n",
       "      <td>5.2</td>\n",
       "      <td>5.8</td>\n",
       "      <td>50.0</td>\n",
       "      <td>3.428</td>\n",
       "      <td>...</td>\n",
       "      <td>1.575</td>\n",
       "      <td>1.9</td>\n",
       "      <td>50.0</td>\n",
       "      <td>0.246</td>\n",
       "      <td>0.105386</td>\n",
       "      <td>0.1</td>\n",
       "      <td>0.2</td>\n",
       "      <td>0.2</td>\n",
       "      <td>0.3</td>\n",
       "      <td>0.6</td>\n",
       "    </tr>\n",
       "    <tr>\n",
       "      <th>1</th>\n",
       "      <td>50.0</td>\n",
       "      <td>5.936</td>\n",
       "      <td>0.516171</td>\n",
       "      <td>4.9</td>\n",
       "      <td>5.600</td>\n",
       "      <td>5.9</td>\n",
       "      <td>6.3</td>\n",
       "      <td>7.0</td>\n",
       "      <td>50.0</td>\n",
       "      <td>2.770</td>\n",
       "      <td>...</td>\n",
       "      <td>4.600</td>\n",
       "      <td>5.1</td>\n",
       "      <td>50.0</td>\n",
       "      <td>1.326</td>\n",
       "      <td>0.197753</td>\n",
       "      <td>1.0</td>\n",
       "      <td>1.2</td>\n",
       "      <td>1.3</td>\n",
       "      <td>1.5</td>\n",
       "      <td>1.8</td>\n",
       "    </tr>\n",
       "    <tr>\n",
       "      <th>2</th>\n",
       "      <td>50.0</td>\n",
       "      <td>6.588</td>\n",
       "      <td>0.635880</td>\n",
       "      <td>4.9</td>\n",
       "      <td>6.225</td>\n",
       "      <td>6.5</td>\n",
       "      <td>6.9</td>\n",
       "      <td>7.9</td>\n",
       "      <td>50.0</td>\n",
       "      <td>2.974</td>\n",
       "      <td>...</td>\n",
       "      <td>5.875</td>\n",
       "      <td>6.9</td>\n",
       "      <td>50.0</td>\n",
       "      <td>2.026</td>\n",
       "      <td>0.274650</td>\n",
       "      <td>1.4</td>\n",
       "      <td>1.8</td>\n",
       "      <td>2.0</td>\n",
       "      <td>2.3</td>\n",
       "      <td>2.5</td>\n",
       "    </tr>\n",
       "  </tbody>\n",
       "</table>\n",
       "<p>3 rows × 32 columns</p>\n",
       "</div>"
      ],
      "text/plain": [
       "      sepal length (cm)                                              \\\n",
       "                  count   mean       std  min    25%  50%  75%  max   \n",
       "label                                                                 \n",
       "0                  50.0  5.006  0.352490  4.3  4.800  5.0  5.2  5.8   \n",
       "1                  50.0  5.936  0.516171  4.9  5.600  5.9  6.3  7.0   \n",
       "2                  50.0  6.588  0.635880  4.9  6.225  6.5  6.9  7.9   \n",
       "\n",
       "      sepal width (cm)         ... petal length (cm)      petal width (cm)  \\\n",
       "                 count   mean  ...               75%  max            count   \n",
       "label                          ...                                           \n",
       "0                 50.0  3.428  ...             1.575  1.9             50.0   \n",
       "1                 50.0  2.770  ...             4.600  5.1             50.0   \n",
       "2                 50.0  2.974  ...             5.875  6.9             50.0   \n",
       "\n",
       "                                                 \n",
       "        mean       std  min  25%  50%  75%  max  \n",
       "label                                            \n",
       "0      0.246  0.105386  0.1  0.2  0.2  0.3  0.6  \n",
       "1      1.326  0.197753  1.0  1.2  1.3  1.5  1.8  \n",
       "2      2.026  0.274650  1.4  1.8  2.0  2.3  2.5  \n",
       "\n",
       "[3 rows x 32 columns]"
      ]
     },
     "execution_count": 15,
     "metadata": {},
     "output_type": "execute_result"
    }
   ],
   "source": [
    "# Display statistics grouped by label\n",
    "df.groupby(['label']).describe()"
   ]
  },
  {
   "cell_type": "markdown",
   "metadata": {},
   "source": [
    "<a id=\"gs-explore-data-w-mlrun-func\"></a>"
   ]
  },
  {
   "cell_type": "markdown",
   "metadata": {},
   "source": [
    "### Explore the Data with an MLRun Marketplace Function"
   ]
  },
  {
   "cell_type": "markdown",
   "metadata": {},
   "source": [
    "You can perform further data exploration by leveraging **the MLRun functions marketplace** (a.k.a. \"the MLRun functions hub\").\n",
    "This marketplace is a centralized location for open-source contributions of function components that are commonly used in machine-learning development.\n",
    "The location of the marketplace is configured via the `hub_url` MLRun configuration.\n",
    "By default, it points to the [mlrun/functions](https://github.com/mlrun/functions/) GitHub repository.\n",
    "\n",
    "In this step you'll use the [`describe` marketplace function](https://github.com/mlrun/functions/tree/master/describe), which performs data exploration on a provided data set, to extract information from your data set, analyze it, and visualize relevant information in different ways."
   ]
  },
  {
   "cell_type": "markdown",
   "metadata": {},
   "source": [
    "#### Add an Exploration Function"
   ]
  },
  {
   "cell_type": "markdown",
   "metadata": {},
   "source": [
    "Use the `set_function` MLRun project method, which adds or updates a function object in a project, to load the `describe` marketplace function into a new `describe` project function. \n",
    "The tutorial code sets the first two `set_function` method parameters:\n",
    "\n",
    "- **`func`** &mdash; identities the function to load.\n",
    "  This parameter can be set to a function object or to the URL of a function specification or code file.\n",
    "  MLRun supports multiple types of URL formats.\n",
    "  The example uses the `hub://...` format to point to the `describe` function-code directory in the MLRun functions marketplace (`'hub://describe'`).\n",
    "- **`name`** &mdash; the name of the project function that is being set.\n",
    "  The example names the project function `describe` (like the name of the marketplace function, although this isn't required).\n",
    "\n",
    "After you add the function project, create a `describe` function object by using `apply(mount_v3io())` to attach an Iguazio Data Science Platform data volume (a.k.a. \"a v3io volume\") to your `describe` project function.\n",
    "This connects your function to the platform's shared file system and allows you to pass data from the platform to the project function and get back the results (plots) directly into your notebook.\n",
    "You can also select to use other supported mount methods &mdash; for example, for using NFS or object storage."
   ]
  },
  {
   "cell_type": "code",
   "execution_count": 16,
   "metadata": {},
   "outputs": [],
   "source": [
    "project.set_function('hub://describe', 'describe')\n",
    "describe = project.func('describe').apply(mount_v3io())"
   ]
  },
  {
   "cell_type": "markdown",
   "metadata": {},
   "source": [
    "#### Run the Exploration Function"
   ]
  },
  {
   "cell_type": "markdown",
   "metadata": {},
   "source": [
    "Run the following code to execute the `describe` project function as a Kubernetes job by using the MLRun `run` method.\n",
    "The returned run object is stored in a `describe_run` variable.\n",
    "\n",
    "The location of the data set is the only input that you need to provide.\n",
    "This information is provided as a `table` input artifact that points to the `iris_dataset` output artifact of the `get_data` job that you ran in the previous steps (using the job's `get_data_run` run object &mdash; see Step 2)."
   ]
  },
  {
   "cell_type": "code",
   "execution_count": 17,
   "metadata": {},
   "outputs": [
    {
     "name": "stdout",
     "output_type": "stream",
     "text": [
      "> 2020-07-26 14:24:50,975 [debug] Validating field against patterns: {'field_name': 'run.metadata.name', 'field_value': 'describe-summarize', 'pattern': ['^.{0,63}$', '^(([A-Za-z0-9][-A-Za-z0-9_.]*)?[A-Za-z0-9])?$']}\n",
      "> 2020-07-26 14:24:50,980 [warning] warning!, server (0.4.10) and client (0.5.0) ver dont match\n",
      "> 2020-07-26 14:24:50,981 [info] starting run describe-summarize uid=c9f75285be5f424fb38632ed22e6d9db  -> http://mlrun-api:8080\n",
      "> 2020-07-26 14:24:51,141 [info] Job is running in the background, pod: describe-summarize-5jwww\n",
      "[mlrun] 2020-07-26 14:25:01,061 run executed, status=completed\n",
      "final state: succeeded\n"
     ]
    },
    {
     "data": {
      "text/html": [
       "<style>\n",
       ".dictlist {\n",
       "  background-color: #b3edff;\n",
       "  text-align: center;\n",
       "  margin: 4px;\n",
       "  border-radius: 3px; padding: 0px 3px 1px 3px; display: inline-block;}\n",
       ".artifact {\n",
       "  cursor: pointer;\n",
       "  background-color: #ffe6cc;\n",
       "  text-align: left;\n",
       "  margin: 4px; border-radius: 3px; padding: 0px 3px 1px 3px; display: inline-block;\n",
       "}\n",
       "div.block.hidden {\n",
       "  display: none;\n",
       "}\n",
       ".clickable {\n",
       "  cursor: pointer;\n",
       "}\n",
       ".ellipsis {\n",
       "  display: inline-block;\n",
       "  max-width: 60px;\n",
       "  white-space: nowrap;\n",
       "  overflow: hidden;\n",
       "  text-overflow: ellipsis;\n",
       "}\n",
       ".master-wrapper {\n",
       "  display: flex;\n",
       "  flex-flow: row nowrap;\n",
       "  justify-content: flex-start;\n",
       "  align-items: stretch;\n",
       "}\n",
       ".master-tbl {\n",
       "  flex: 3\n",
       "}\n",
       ".master-wrapper > div {\n",
       "  margin: 4px;\n",
       "  padding: 10px;\n",
       "}\n",
       "iframe.fileview {\n",
       "  border: 0 none;\n",
       "  height: 100%;\n",
       "  width: 100%;\n",
       "  white-space: pre-wrap;\n",
       "}\n",
       ".pane-header-title {\n",
       "  width: 80%;\n",
       "  font-weight: 500;\n",
       "}\n",
       ".pane-header {\n",
       "  line-height: 1;\n",
       "  background-color: #ffe6cc;\n",
       "  padding: 3px;\n",
       "}\n",
       ".pane-header .close {\n",
       "  font-size: 20px;\n",
       "  font-weight: 700;\n",
       "  float: right;\n",
       "  margin-top: -5px;\n",
       "}\n",
       ".master-wrapper .right-pane {\n",
       "  border: 1px inset silver;\n",
       "  width: 40%;\n",
       "  min-height: 300px;\n",
       "  flex: 3\n",
       "  min-width: 500px;\n",
       "}\n",
       ".master-wrapper * {\n",
       "  box-sizing: border-box;\n",
       "}\n",
       "</style><script>\n",
       "function copyToClipboard(fld) {\n",
       "    if (document.queryCommandSupported && document.queryCommandSupported('copy')) {\n",
       "        var textarea = document.createElement('textarea');\n",
       "        textarea.textContent = fld.innerHTML;\n",
       "        textarea.style.position = 'fixed';\n",
       "        document.body.appendChild(textarea);\n",
       "        textarea.select();\n",
       "\n",
       "        try {\n",
       "            return document.execCommand('copy'); // Security exception may be thrown by some browsers.\n",
       "        } catch (ex) {\n",
       "\n",
       "        } finally {\n",
       "            document.body.removeChild(textarea);\n",
       "        }\n",
       "    }\n",
       "}\n",
       "function expandPanel(el) {\n",
       "  const panelName = \"#\" + el.getAttribute('paneName');\n",
       "  console.log(el.title);\n",
       "\n",
       "  document.querySelector(panelName + \"-title\").innerHTML = el.title\n",
       "  iframe = document.querySelector(panelName + \"-body\");\n",
       "\n",
       "  const tblcss = `<style> body { font-family: Arial, Helvetica, sans-serif;}\n",
       "    #csv { margin-bottom: 15px; }\n",
       "    #csv table { border-collapse: collapse;}\n",
       "    #csv table td { padding: 4px 8px; border: 1px solid silver;} </style>`;\n",
       "\n",
       "  function csvToHtmlTable(str) {\n",
       "    return '<div id=\"csv\"><table><tr><td>' +  str.replace(/[\\n\\r]+$/g, '').replace(/[\\n\\r]+/g, '</td></tr><tr><td>')\n",
       "      .replace(/,/g, '</td><td>') + '</td></tr></table></div>';\n",
       "  }\n",
       "\n",
       "  function reqListener () {\n",
       "    if (el.title.endsWith(\".csv\")) {\n",
       "      iframe.setAttribute(\"srcdoc\", tblcss + csvToHtmlTable(this.responseText));\n",
       "    } else {\n",
       "      iframe.setAttribute(\"srcdoc\", this.responseText);\n",
       "    }\n",
       "    console.log(this.responseText);\n",
       "  }\n",
       "\n",
       "  const oReq = new XMLHttpRequest();\n",
       "  oReq.addEventListener(\"load\", reqListener);\n",
       "  oReq.open(\"GET\", el.title);\n",
       "  oReq.send();\n",
       "\n",
       "\n",
       "  //iframe.src = el.title;\n",
       "  const resultPane = document.querySelector(panelName + \"-pane\");\n",
       "  if (resultPane.classList.contains(\"hidden\")) {\n",
       "    resultPane.classList.remove(\"hidden\");\n",
       "  }\n",
       "}\n",
       "function closePanel(el) {\n",
       "  const panelName = \"#\" + el.getAttribute('paneName')\n",
       "  const resultPane = document.querySelector(panelName + \"-pane\");\n",
       "  if (!resultPane.classList.contains(\"hidden\")) {\n",
       "    resultPane.classList.add(\"hidden\");\n",
       "  }\n",
       "}\n",
       "\n",
       "</script>\n",
       "<div class=\"master-wrapper\">\n",
       "  <div class=\"block master-tbl\"><div>\n",
       "<style scoped>\n",
       "    .dataframe tbody tr th:only-of-type {\n",
       "        vertical-align: middle;\n",
       "    }\n",
       "\n",
       "    .dataframe tbody tr th {\n",
       "        vertical-align: top;\n",
       "    }\n",
       "\n",
       "    .dataframe thead th {\n",
       "        text-align: right;\n",
       "    }\n",
       "</style>\n",
       "<table border=\"1\" class=\"dataframe\">\n",
       "  <thead>\n",
       "    <tr style=\"text-align: right;\">\n",
       "      <th>project</th>\n",
       "      <th>uid</th>\n",
       "      <th>iter</th>\n",
       "      <th>start</th>\n",
       "      <th>state</th>\n",
       "      <th>name</th>\n",
       "      <th>labels</th>\n",
       "      <th>inputs</th>\n",
       "      <th>parameters</th>\n",
       "      <th>results</th>\n",
       "      <th>artifacts</th>\n",
       "    </tr>\n",
       "  </thead>\n",
       "  <tbody>\n",
       "    <tr>\n",
       "      <td>getting-started-iris-iguazio</td>\n",
       "      <td><div title=\"c9f75285be5f424fb38632ed22e6d9db\"><a href=\"https://mlrun-ui.default-tenant.app.pzlcbitaiwad.iguazio-cd1.com/projects/getting-started-iris-iguazio/jobs/c9f75285be5f424fb38632ed22e6d9db/info\" target=\"_blank\" >...22e6d9db</a></div></td>\n",
       "      <td>0</td>\n",
       "      <td>Jul 26 14:24:56</td>\n",
       "      <td>completed</td>\n",
       "      <td>describe-summarize</td>\n",
       "      <td><div class=\"dictlist\">v3io_user=iguazio</div><div class=\"dictlist\">kind=job</div><div class=\"dictlist\">owner=iguazio</div><div class=\"dictlist\">host=describe-summarize-5jwww</div></td>\n",
       "      <td><div title=\"store://getting-started-iris-iguazio/get_data_iris_dataset#14737e4f70bb4501bba94391810e5bec\">table</div></td>\n",
       "      <td><div class=\"dictlist\">label_column=label</div></td>\n",
       "      <td></td>\n",
       "      <td><div class=\"artifact\" onclick=\"expandPanel(this)\" paneName=\"result82d9e27a\" title=\"/files/getting-started-tutorial/jobs/plots/hist.html\">histograms</div><div class=\"artifact\" onclick=\"expandPanel(this)\" paneName=\"result82d9e27a\" title=\"/files/getting-started-tutorial/jobs/plots/violin.html\">violin</div><div class=\"artifact\" onclick=\"expandPanel(this)\" paneName=\"result82d9e27a\" title=\"/files/getting-started-tutorial/jobs/plots/imbalance.html\">imbalance</div><div class=\"artifact\" onclick=\"expandPanel(this)\" paneName=\"result82d9e27a\" title=\"/files/getting-started-tutorial/jobs/plots/imbalance-weights-vec.csv\">imbalance-weights-vec</div><div class=\"artifact\" onclick=\"expandPanel(this)\" paneName=\"result82d9e27a\" title=\"/files/getting-started-tutorial/jobs/plots/correlation-matrix.csv\">correlation-matrix</div><div class=\"artifact\" onclick=\"expandPanel(this)\" paneName=\"result82d9e27a\" title=\"/files/getting-started-tutorial/jobs/plots/corr.html\">correlation</div></td>\n",
       "    </tr>\n",
       "  </tbody>\n",
       "</table>\n",
       "</div></div>\n",
       "  <div id=\"result82d9e27a-pane\" class=\"right-pane block hidden\">\n",
       "    <div class=\"pane-header\">\n",
       "      <span id=\"result82d9e27a-title\" class=\"pane-header-title\">Title</span>\n",
       "      <span onclick=\"closePanel(this)\" paneName=\"result82d9e27a\" class=\"close clickable\">&times;</span>\n",
       "    </div>\n",
       "    <iframe class=\"fileview\" id=\"result82d9e27a-body\"></iframe>\n",
       "  </div>\n",
       "</div>\n"
      ],
      "text/plain": [
       "<IPython.core.display.HTML object>"
      ]
     },
     "metadata": {},
     "output_type": "display_data"
    },
    {
     "name": "stdout",
     "output_type": "stream",
     "text": [
      "to track results use .show() or .logs() or in CLI: \n",
      "!mlrun get run c9f75285be5f424fb38632ed22e6d9db --project getting-started-iris-iguazio , !mlrun logs c9f75285be5f424fb38632ed22e6d9db --project getting-started-iris-iguazio\n",
      "> 2020-07-26 14:25:10,359 [info] run executed, status=completed\n"
     ]
    }
   ],
   "source": [
    "describe_run = describe.run(params={'label_column': 'label'},\n",
    "                            inputs={\"table\":\n",
    "                                    get_data_run.outputs['iris_dataset']},\n",
    "                            artifact_path=artifact_path)"
   ]
  },
  {
   "cell_type": "markdown",
   "metadata": {},
   "source": [
    "#### Review the Run Output"
   ]
  },
  {
   "cell_type": "markdown",
   "metadata": {},
   "source": [
    "The output cell for your code execution contains a run-information table.\n",
    "You can also view run information in the MLRun dashboard; see the output-review information in Step 2, only this time look for the `describe-summarize` job and related artifacts.\n",
    "\n",
    "The `describe` function generates three HTML output artifacts, which provide visual insights for your data set &mdash; `histograms`, `imbalance`, and `correlation`.\n",
    "The artifacts are stored as HTML files in your project's artifacts directory, under **/User/getting-started-tutorial/jobs/plots/**.\n",
    "The following code displays the artifact files in the notebook."
   ]
  },
  {
   "cell_type": "code",
   "execution_count": 18,
   "metadata": {},
   "outputs": [
    {
     "data": {
      "text/html": [
       "<h3>Histograms</h3>"
      ],
      "text/plain": [
       "<IPython.core.display.HTML object>"
      ]
     },
     "metadata": {},
     "output_type": "display_data"
    },
    {
     "data": {
      "text/html": [
       "<h3 style=\"text-align:center\">histograms</h3>\n",
       "<img title=\"histograms\" src=\"data:image/png;base64,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\">"
      ],
      "text/plain": [
       "<IPython.core.display.HTML object>"
      ]
     },
     "metadata": {},
     "output_type": "display_data"
    }
   ],
   "source": [
    "from IPython.display import display, HTML\n",
    "\n",
    "# Display the `histograms` artifact\n",
    "display(HTML('<h3>Histograms</h3>'), HTML(describe_run.outputs['histograms']))"
   ]
  },
  {
   "cell_type": "code",
   "execution_count": 19,
   "metadata": {},
   "outputs": [
    {
     "data": {
      "text/html": [
       "<h3>Imbalance<h3>"
      ],
      "text/plain": [
       "<IPython.core.display.HTML object>"
      ]
     },
     "metadata": {},
     "output_type": "display_data"
    },
    {
     "data": {
      "text/html": [
       "<h3 style=\"text-align:center\">imbalance</h3>\n",
       "<img title=\"imbalance\" src=\"data:image/png;base64,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\">"
      ],
      "text/plain": [
       "<IPython.core.display.HTML object>"
      ]
     },
     "metadata": {},
     "output_type": "display_data"
    }
   ],
   "source": [
    "# Display the `imbalance` artifact\n",
    "display(HTML('<h3>Imbalance<h3>'),\n",
    "        HTML(filename=describe_run.outputs['imbalance']))"
   ]
  },
  {
   "cell_type": "code",
   "execution_count": 20,
   "metadata": {},
   "outputs": [
    {
     "data": {
      "text/html": [
       "<h3>Correlation Matrix<h3>"
      ],
      "text/plain": [
       "<IPython.core.display.HTML object>"
      ]
     },
     "metadata": {},
     "output_type": "display_data"
    },
    {
     "data": {
      "text/html": [
       "<h3 style=\"text-align:center\">Correlation Matrix</h3>\n",
       "<img title=\"correlation\" src=\"data:image/png;base64,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\">"
      ],
      "text/plain": [
       "<IPython.core.display.HTML object>"
      ]
     },
     "metadata": {},
     "output_type": "display_data"
    }
   ],
   "source": [
    "# Display the `correlation` artifact\n",
    "display(HTML('<h3>Correlation Matrix<h3>'),\n",
    "        HTML(filename=describe_run.outputs['correlation']))"
   ]
  },
  {
   "cell_type": "markdown",
   "metadata": {},
   "source": [
    "<a id=\"gs-step-run-model-training\"></a>"
   ]
  },
  {
   "cell_type": "markdown",
   "metadata": {},
   "source": [
    "## Step 4: Run Model Training at Scale"
   ]
  },
  {
   "cell_type": "markdown",
   "metadata": {},
   "source": [
    "It's time to train your model.\n",
    "Start by adding a training project function that uses the [`sklearn_classifier` MLRun marketplace function](https://github.com/mlrun/functions/tree/master/sklearn_classifier) to train three scikit-learn models; (you can use this function to train any scikit-learn model).\n",
    "Then, use an MLRun task to run your function in order to train and evaluate the models and select the optimal model."
   ]
  },
  {
   "cell_type": "markdown",
   "metadata": {},
   "source": [
    "#### Add a Training Function"
   ]
  },
  {
   "cell_type": "markdown",
   "metadata": {},
   "source": [
    "Run the following code to add to your project a `train` function that uses the `sklearn_classifier` marketplace function code, and create a related `train` function object."
   ]
  },
  {
   "cell_type": "code",
   "execution_count": 21,
   "metadata": {},
   "outputs": [],
   "source": [
    "project.set_function('hub://sklearn_classifier', 'train')\n",
    "train = project.func('train').apply(mount_v3io())"
   ]
  },
  {
   "cell_type": "markdown",
   "metadata": {},
   "source": [
    "#### Run a Model-Training Task"
   ]
  },
  {
   "cell_type": "markdown",
   "metadata": {},
   "source": [
    "The following code uses the MLRun `NewTask` method to create a new `train` MLRun task and a related `train_task` task object for executing the `train` project function.\n",
    "An MLRun **task** defines the parameters, inputs, and outputs of a logical job or task to execute.\n",
    "The advantage of tasks is that they're independent of the runtime environment.\n",
    "Hence, you can define a task once and use it in different scenarios.\n",
    "\n",
    "The `NewTask` `inputs` parameter is set to the `iris_dataset` data set, as stored in the output artifacts of the previously executed `get_data` job.\n",
    "The `test_size` training parameter (`params.test_size`) is set to 0.10.\n",
    "This means that the `iris_dataset` data set will make up 90% of the training data set, and the remaining 10% will be the scikit-learn test data set.\n",
    "\n",
    "The `train_task` task (and therefore the `train` function) is executed by using the `run` method.\n",
    "The returned run object is stored in a `train_run` variable.\n",
    "\n",
    "The code uses the `with_hyper_params` task method, which enables running multiple iterations of the same task with different parameter combinations, comparing the results, and selecting the optimal combination based on the specified selection criteria.\n",
    "In this example, there's a single `models` parameter with different values (model names) so as to compare multiple models; the model with the most accurate training results is selected as the optimal model.\n",
    "The `with_hyper_params` method receives the following parameters\n",
    "\n",
    "- **`hyperparams`** &mdash; a dictionary of parameter names and parameter-values lists.\n",
    "  The example defines a single hyperparameter named `model_pkg_class`, and sets its value to a `models` variable that contains a list of three scikit-learn models to train and evaluate. \n",
    "- **`selector`** &mdash; a string of the format `'<min/max>.<validation criterion>'`, which defines a selection criterion for selecting the winning run iteration.\n",
    "  For example, `\"max.accuracy\"` selects the iteration with the most accurate results while `\"min.loss\"` selects the iteration with minimum loss.\n",
    "  The example uses the `max.accuracy` selector to select the model with the most accurate training results."
   ]
  },
  {
   "cell_type": "code",
   "execution_count": 22,
   "metadata": {},
   "outputs": [],
   "source": [
    "# Configure the models to train\n",
    "models = [\"sklearn.ensemble.RandomForestClassifier\", \n",
    "          \"sklearn.linear_model.LogisticRegression\",\n",
    "          \"sklearn.ensemble.AdaBoostClassifier\"]"
   ]
  },
  {
   "cell_type": "code",
   "execution_count": 23,
   "metadata": {},
   "outputs": [
    {
     "name": "stdout",
     "output_type": "stream",
     "text": [
      "> 2020-07-26 14:25:10,589 [debug] Validating field against patterns: {'field_name': 'run.metadata.name', 'field_value': 'train', 'pattern': ['^.{0,63}$', '^(([A-Za-z0-9][-A-Za-z0-9_.]*)?[A-Za-z0-9])?$']}\n",
      "> 2020-07-26 14:25:10,594 [warning] warning!, server (0.4.10) and client (0.5.0) ver dont match\n",
      "> 2020-07-26 14:25:10,595 [info] starting run train uid=b047c3d8345049578f7d457d6143c8f2  -> http://mlrun-api:8080\n",
      "> 2020-07-26 14:25:10,749 [info] Job is running in the background, pod: train-j7ws9\n",
      "[mlrun] 2020-07-26 14:25:21,363 best iteration=1, used criteria max.accuracy\n",
      "[mlrun] 2020-07-26 14:25:21,547 run executed, status=completed\n",
      "/opt/conda/lib/python3.7/site-packages/sklearn/linear_model/_logistic.py:764: ConvergenceWarning: lbfgs failed to converge (status=1):\n",
      "STOP: TOTAL NO. of ITERATIONS REACHED LIMIT.\n",
      "\n",
      "Increase the number of iterations (max_iter) or scale the data as shown in:\n",
      "    https://scikit-learn.org/stable/modules/preprocessing.html\n",
      "Please also refer to the documentation for alternative solver options:\n",
      "    https://scikit-learn.org/stable/modules/linear_model.html#logistic-regression\n",
      "  extra_warning_msg=_LOGISTIC_SOLVER_CONVERGENCE_MSG)\n",
      "final state: succeeded\n"
     ]
    },
    {
     "data": {
      "text/html": [
       "<style>\n",
       ".dictlist {\n",
       "  background-color: #b3edff;\n",
       "  text-align: center;\n",
       "  margin: 4px;\n",
       "  border-radius: 3px; padding: 0px 3px 1px 3px; display: inline-block;}\n",
       ".artifact {\n",
       "  cursor: pointer;\n",
       "  background-color: #ffe6cc;\n",
       "  text-align: left;\n",
       "  margin: 4px; border-radius: 3px; padding: 0px 3px 1px 3px; display: inline-block;\n",
       "}\n",
       "div.block.hidden {\n",
       "  display: none;\n",
       "}\n",
       ".clickable {\n",
       "  cursor: pointer;\n",
       "}\n",
       ".ellipsis {\n",
       "  display: inline-block;\n",
       "  max-width: 60px;\n",
       "  white-space: nowrap;\n",
       "  overflow: hidden;\n",
       "  text-overflow: ellipsis;\n",
       "}\n",
       ".master-wrapper {\n",
       "  display: flex;\n",
       "  flex-flow: row nowrap;\n",
       "  justify-content: flex-start;\n",
       "  align-items: stretch;\n",
       "}\n",
       ".master-tbl {\n",
       "  flex: 3\n",
       "}\n",
       ".master-wrapper > div {\n",
       "  margin: 4px;\n",
       "  padding: 10px;\n",
       "}\n",
       "iframe.fileview {\n",
       "  border: 0 none;\n",
       "  height: 100%;\n",
       "  width: 100%;\n",
       "  white-space: pre-wrap;\n",
       "}\n",
       ".pane-header-title {\n",
       "  width: 80%;\n",
       "  font-weight: 500;\n",
       "}\n",
       ".pane-header {\n",
       "  line-height: 1;\n",
       "  background-color: #ffe6cc;\n",
       "  padding: 3px;\n",
       "}\n",
       ".pane-header .close {\n",
       "  font-size: 20px;\n",
       "  font-weight: 700;\n",
       "  float: right;\n",
       "  margin-top: -5px;\n",
       "}\n",
       ".master-wrapper .right-pane {\n",
       "  border: 1px inset silver;\n",
       "  width: 40%;\n",
       "  min-height: 300px;\n",
       "  flex: 3\n",
       "  min-width: 500px;\n",
       "}\n",
       ".master-wrapper * {\n",
       "  box-sizing: border-box;\n",
       "}\n",
       "</style><script>\n",
       "function copyToClipboard(fld) {\n",
       "    if (document.queryCommandSupported && document.queryCommandSupported('copy')) {\n",
       "        var textarea = document.createElement('textarea');\n",
       "        textarea.textContent = fld.innerHTML;\n",
       "        textarea.style.position = 'fixed';\n",
       "        document.body.appendChild(textarea);\n",
       "        textarea.select();\n",
       "\n",
       "        try {\n",
       "            return document.execCommand('copy'); // Security exception may be thrown by some browsers.\n",
       "        } catch (ex) {\n",
       "\n",
       "        } finally {\n",
       "            document.body.removeChild(textarea);\n",
       "        }\n",
       "    }\n",
       "}\n",
       "function expandPanel(el) {\n",
       "  const panelName = \"#\" + el.getAttribute('paneName');\n",
       "  console.log(el.title);\n",
       "\n",
       "  document.querySelector(panelName + \"-title\").innerHTML = el.title\n",
       "  iframe = document.querySelector(panelName + \"-body\");\n",
       "\n",
       "  const tblcss = `<style> body { font-family: Arial, Helvetica, sans-serif;}\n",
       "    #csv { margin-bottom: 15px; }\n",
       "    #csv table { border-collapse: collapse;}\n",
       "    #csv table td { padding: 4px 8px; border: 1px solid silver;} </style>`;\n",
       "\n",
       "  function csvToHtmlTable(str) {\n",
       "    return '<div id=\"csv\"><table><tr><td>' +  str.replace(/[\\n\\r]+$/g, '').replace(/[\\n\\r]+/g, '</td></tr><tr><td>')\n",
       "      .replace(/,/g, '</td><td>') + '</td></tr></table></div>';\n",
       "  }\n",
       "\n",
       "  function reqListener () {\n",
       "    if (el.title.endsWith(\".csv\")) {\n",
       "      iframe.setAttribute(\"srcdoc\", tblcss + csvToHtmlTable(this.responseText));\n",
       "    } else {\n",
       "      iframe.setAttribute(\"srcdoc\", this.responseText);\n",
       "    }\n",
       "    console.log(this.responseText);\n",
       "  }\n",
       "\n",
       "  const oReq = new XMLHttpRequest();\n",
       "  oReq.addEventListener(\"load\", reqListener);\n",
       "  oReq.open(\"GET\", el.title);\n",
       "  oReq.send();\n",
       "\n",
       "\n",
       "  //iframe.src = el.title;\n",
       "  const resultPane = document.querySelector(panelName + \"-pane\");\n",
       "  if (resultPane.classList.contains(\"hidden\")) {\n",
       "    resultPane.classList.remove(\"hidden\");\n",
       "  }\n",
       "}\n",
       "function closePanel(el) {\n",
       "  const panelName = \"#\" + el.getAttribute('paneName')\n",
       "  const resultPane = document.querySelector(panelName + \"-pane\");\n",
       "  if (!resultPane.classList.contains(\"hidden\")) {\n",
       "    resultPane.classList.add(\"hidden\");\n",
       "  }\n",
       "}\n",
       "\n",
       "</script>\n",
       "<div class=\"master-wrapper\">\n",
       "  <div class=\"block master-tbl\"><div>\n",
       "<style scoped>\n",
       "    .dataframe tbody tr th:only-of-type {\n",
       "        vertical-align: middle;\n",
       "    }\n",
       "\n",
       "    .dataframe tbody tr th {\n",
       "        vertical-align: top;\n",
       "    }\n",
       "\n",
       "    .dataframe thead th {\n",
       "        text-align: right;\n",
       "    }\n",
       "</style>\n",
       "<table border=\"1\" class=\"dataframe\">\n",
       "  <thead>\n",
       "    <tr style=\"text-align: right;\">\n",
       "      <th>project</th>\n",
       "      <th>uid</th>\n",
       "      <th>iter</th>\n",
       "      <th>start</th>\n",
       "      <th>state</th>\n",
       "      <th>name</th>\n",
       "      <th>labels</th>\n",
       "      <th>inputs</th>\n",
       "      <th>parameters</th>\n",
       "      <th>results</th>\n",
       "      <th>artifacts</th>\n",
       "    </tr>\n",
       "  </thead>\n",
       "  <tbody>\n",
       "    <tr>\n",
       "      <td>default</td>\n",
       "      <td><div title=\"b047c3d8345049578f7d457d6143c8f2\"><a href=\"https://mlrun-ui.default-tenant.app.pzlcbitaiwad.iguazio-cd1.com/projects/default/jobs/b047c3d8345049578f7d457d6143c8f2/info\" target=\"_blank\" >...6143c8f2</a></div></td>\n",
       "      <td>0</td>\n",
       "      <td>Jul 26 14:25:17</td>\n",
       "      <td>completed</td>\n",
       "      <td>train</td>\n",
       "      <td><div class=\"dictlist\">v3io_user=iguazio</div><div class=\"dictlist\">kind=job</div><div class=\"dictlist\">owner=iguazio</div></td>\n",
       "      <td><div title=\"store://getting-started-iris-iguazio/get_data_iris_dataset#14737e4f70bb4501bba94391810e5bec\">dataset</div></td>\n",
       "      <td><div class=\"dictlist\">sample=-1</div><div class=\"dictlist\">label_column=label</div><div class=\"dictlist\">test_size=0.1</div></td>\n",
       "      <td><div class=\"dictlist\">best_iteration=1</div><div class=\"dictlist\">accuracy=0.9705882352941176</div><div class=\"dictlist\">test-error=0.029411764705882353</div><div class=\"dictlist\">auc-micro=0.9969723183391004</div><div class=\"dictlist\">auc-weighted=0.9949732620320856</div><div class=\"dictlist\">f1-score=0.9679633867276888</div><div class=\"dictlist\">precision_score=0.9666666666666667</div><div class=\"dictlist\">recall_score=0.9722222222222222</div></td>\n",
       "      <td><div title=\"/User/getting-started-tutorial/jobs/data/1/test_set.parquet\">test_set</div><div class=\"artifact\" onclick=\"expandPanel(this)\" paneName=\"result541332fb\" title=\"/files/getting-started-tutorial/jobs/model/plots/1/confusion-matrix.html\">confusion-matrix</div><div class=\"artifact\" onclick=\"expandPanel(this)\" paneName=\"result541332fb\" title=\"/files/getting-started-tutorial/jobs/model/plots/1/feature-importances.html\">feature-importances</div><div class=\"artifact\" onclick=\"expandPanel(this)\" paneName=\"result541332fb\" title=\"/files/getting-started-tutorial/jobs/model/plots/1/precision-recall-multiclass.html\">precision-recall-multiclass</div><div class=\"artifact\" onclick=\"expandPanel(this)\" paneName=\"result541332fb\" title=\"/files/getting-started-tutorial/jobs/model/plots/1/roc-multiclass.html\">roc-multiclass</div><div title=\"/User/getting-started-tutorial/jobs/model/1\">model</div><div class=\"artifact\" onclick=\"expandPanel(this)\" paneName=\"result541332fb\" title=\"/files/getting-started-tutorial/jobs/iteration_results.csv\">iteration_results</div></td>\n",
       "    </tr>\n",
       "  </tbody>\n",
       "</table>\n",
       "</div></div>\n",
       "  <div id=\"result541332fb-pane\" class=\"right-pane block hidden\">\n",
       "    <div class=\"pane-header\">\n",
       "      <span id=\"result541332fb-title\" class=\"pane-header-title\">Title</span>\n",
       "      <span onclick=\"closePanel(this)\" paneName=\"result541332fb\" class=\"close clickable\">&times;</span>\n",
       "    </div>\n",
       "    <iframe class=\"fileview\" id=\"result541332fb-body\"></iframe>\n",
       "  </div>\n",
       "</div>\n"
      ],
      "text/plain": [
       "<IPython.core.display.HTML object>"
      ]
     },
     "metadata": {},
     "output_type": "display_data"
    },
    {
     "name": "stdout",
     "output_type": "stream",
     "text": [
      "to track results use .show() or .logs() or in CLI: \n",
      "!mlrun get run b047c3d8345049578f7d457d6143c8f2 --project default , !mlrun logs b047c3d8345049578f7d457d6143c8f2 --project default\n",
      "> 2020-07-26 14:25:29,983 [info] run executed, status=completed\n"
     ]
    }
   ],
   "source": [
    "# Create a training task\n",
    "train_task = NewTask(name=\"train\",\n",
    "                     params={\"sample\": -1,\n",
    "                             \"label_column\": \"label\",\n",
    "                             \"test_size\": 0.10},\n",
    "                     inputs={\"dataset\": get_data_run.outputs['iris_dataset']})\n",
    "\n",
    "# Run the training task\n",
    "train_run = train.run(train_task.with_hyper_params({'model_pkg_class': models},\n",
    "                                                   selector='max.accuracy'),\n",
    "                      artifact_path=artifact_path)"
   ]
  },
  {
   "cell_type": "markdown",
   "metadata": {},
   "source": [
    "<a id=\"gs-train-model-run-output-review\"></a>"
   ]
  },
  {
   "cell_type": "markdown",
   "metadata": {},
   "source": [
    "### Review the Run Output"
   ]
  },
  {
   "cell_type": "markdown",
   "metadata": {},
   "source": [
    "As with the previous executions, you can view extensive run information and artifacts from Jupyter Notebook and the MLRun dashboard, as well as browse the task artifacts from the platform dashboard.\n",
    "See the output-review information in the previous steps.\n",
    "\n",
    "Your project's artifacts directory (**/User/getting-started-tutorial/jobs**) contains an **iteration_results.csv** output artifact with the results for the training-task run iterations, and **&lt;iteration number&gt;** subdirectories with the artifacts for all the run iterations (i.e., for each evaluated model).<br>\n",
    "The **plots** subdirectory has HTML output artifacts for the selected run iteration; (the **tests** subdirectory contains the artifacts for the test data set).\n",
    "\n",
    "Use the following code to extract and display information from the run object &mdash; the name of the selected trained model, the best accuracy that was achieved with this model, and the `confusion` and `roc` HTML output artifacts for the optimal run iteration."
   ]
  },
  {
   "cell_type": "code",
   "execution_count": 24,
   "metadata": {},
   "outputs": [
    {
     "data": {
      "text/html": [
       "<b>Best model:</b> sklearn.ensemble.RandomForestClassifier"
      ],
      "text/plain": [
       "<IPython.core.display.HTML object>"
      ]
     },
     "metadata": {},
     "output_type": "display_data"
    },
    {
     "data": {
      "text/html": [
       "<b>Accuracy:</b> 0.9705882352941176"
      ],
      "text/plain": [
       "<IPython.core.display.HTML object>"
      ]
     },
     "metadata": {},
     "output_type": "display_data"
    },
    {
     "data": {
      "text/html": [
       "<h3>Confusion Matrix:</h3>"
      ],
      "text/plain": [
       "<IPython.core.display.HTML object>"
      ]
     },
     "metadata": {},
     "output_type": "display_data"
    },
    {
     "data": {
      "text/html": [
       "<h3 style=\"text-align:center\">Confusion Matrix - Normalized Plot</h3>\n",
       "<img title=\"confusion-matrix\" src=\"data:image/png;base64,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\">"
      ],
      "text/plain": [
       "<IPython.core.display.HTML object>"
      ]
     },
     "metadata": {},
     "output_type": "display_data"
    },
    {
     "data": {
      "text/html": [
       "<h3>ROC Curve:</h3>"
      ],
      "text/plain": [
       "<IPython.core.display.HTML object>"
      ]
     },
     "metadata": {},
     "output_type": "display_data"
    },
    {
     "data": {
      "text/html": [
       "<h3 style=\"text-align:center\">Multiclass ROC Curve</h3>\n",
       "<img title=\"roc-multiclass\" src=\"data:image/png;base64,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\">"
      ],
      "text/plain": [
       "<IPython.core.display.HTML object>"
      ]
     },
     "metadata": {},
     "output_type": "display_data"
    }
   ],
   "source": [
    "# Display the name of the selected model\n",
    "# best_iteration is 1 based, get the best model from the model list by substracting 1 \n",
    "display(HTML(f'<b>Best model:</b> '\n",
    "             f'{models[train_run.outputs[\"best_iteration\"] - 1]}'))\n",
    "\n",
    "# Display the accuracy for the optimal run iteration\n",
    "display(HTML(f'<b>Accuracy:</b> {train_run.outputs[\"accuracy\"]}'))\n",
    "\n",
    "# Display HTML output artifacts\n",
    "display(HTML('<h3>Confusion Matrix:</h3>'),\n",
    "        HTML(filename=train_run.outputs['confusion-matrix']))\n",
    "display(HTML('<h3>ROC Curve:</h3>'), HTML(filename=train_run.outputs['roc-multiclass']))"
   ]
  },
  {
   "cell_type": "markdown",
   "metadata": {},
   "source": [
    "<a id=\"gs-step-test-model\"></a>"
   ]
  },
  {
   "cell_type": "markdown",
   "metadata": {},
   "source": [
    "## Step 5: Test Your Model"
   ]
  },
  {
   "cell_type": "markdown",
   "metadata": {},
   "source": [
    "Now that you have a trained model, you can test it: run a task that uses the [`test_classifier` marketplace function](https://github.com/mlrun/functions/tree/master/test_classifier) to run the selected trained model against the test data set, as returned for the training task (`train`) in the previous step."
   ]
  },
  {
   "cell_type": "markdown",
   "metadata": {},
   "source": [
    "#### Add a Test Function"
   ]
  },
  {
   "cell_type": "markdown",
   "metadata": {},
   "source": [
    "Run the following code to add to your project a `test` function that uses the `test_classifier` marketplace function code, and create a related `test` function object."
   ]
  },
  {
   "cell_type": "code",
   "execution_count": 25,
   "metadata": {},
   "outputs": [],
   "source": [
    "project.set_function('hub://test_classifier', 'test')\n",
    "test = project.func('test').apply(mount_v3io())"
   ]
  },
  {
   "cell_type": "markdown",
   "metadata": {},
   "source": [
    "#### Run a Model-Testing Task"
   ]
  },
  {
   "cell_type": "markdown",
   "metadata": {},
   "source": [
    "Use a task to run the model-testing function:\n",
    "\n",
    "- Create a new `test` task and a related `test_task` task object for executing the `test` project function, which runs the `test_classifier` marketplace function.<br>\n",
    "  In the `NewTask` call, configure parameters for the test function (`params`), and provide the selected trained model from the `train` task as an input artifact (`inputs`).\n",
    "- Run the task by using the `run` MLRun method, and assign the returned run object to a `test_run` variable."
   ]
  },
  {
   "cell_type": "code",
   "execution_count": 26,
   "metadata": {},
   "outputs": [
    {
     "name": "stdout",
     "output_type": "stream",
     "text": [
      "> 2020-07-26 14:25:30,170 [debug] Validating field against patterns: {'field_name': 'run.metadata.name', 'field_value': 'test', 'pattern': ['^.{0,63}$', '^(([A-Za-z0-9][-A-Za-z0-9_.]*)?[A-Za-z0-9])?$']}\n",
      "> 2020-07-26 14:25:30,176 [warning] warning!, server (0.4.10) and client (0.5.0) ver dont match\n",
      "> 2020-07-26 14:25:30,176 [info] starting run test uid=a7ddf7967dab43298a44ac24cfb43c10  -> http://mlrun-api:8080\n",
      "> 2020-07-26 14:25:30,326 [info] Job is running in the background, pod: test-bk45p\n",
      "[mlrun] 2020-07-26 14:25:37,754 run executed, status=completed\n",
      "final state: succeeded\n"
     ]
    },
    {
     "data": {
      "text/html": [
       "<style>\n",
       ".dictlist {\n",
       "  background-color: #b3edff;\n",
       "  text-align: center;\n",
       "  margin: 4px;\n",
       "  border-radius: 3px; padding: 0px 3px 1px 3px; display: inline-block;}\n",
       ".artifact {\n",
       "  cursor: pointer;\n",
       "  background-color: #ffe6cc;\n",
       "  text-align: left;\n",
       "  margin: 4px; border-radius: 3px; padding: 0px 3px 1px 3px; display: inline-block;\n",
       "}\n",
       "div.block.hidden {\n",
       "  display: none;\n",
       "}\n",
       ".clickable {\n",
       "  cursor: pointer;\n",
       "}\n",
       ".ellipsis {\n",
       "  display: inline-block;\n",
       "  max-width: 60px;\n",
       "  white-space: nowrap;\n",
       "  overflow: hidden;\n",
       "  text-overflow: ellipsis;\n",
       "}\n",
       ".master-wrapper {\n",
       "  display: flex;\n",
       "  flex-flow: row nowrap;\n",
       "  justify-content: flex-start;\n",
       "  align-items: stretch;\n",
       "}\n",
       ".master-tbl {\n",
       "  flex: 3\n",
       "}\n",
       ".master-wrapper > div {\n",
       "  margin: 4px;\n",
       "  padding: 10px;\n",
       "}\n",
       "iframe.fileview {\n",
       "  border: 0 none;\n",
       "  height: 100%;\n",
       "  width: 100%;\n",
       "  white-space: pre-wrap;\n",
       "}\n",
       ".pane-header-title {\n",
       "  width: 80%;\n",
       "  font-weight: 500;\n",
       "}\n",
       ".pane-header {\n",
       "  line-height: 1;\n",
       "  background-color: #ffe6cc;\n",
       "  padding: 3px;\n",
       "}\n",
       ".pane-header .close {\n",
       "  font-size: 20px;\n",
       "  font-weight: 700;\n",
       "  float: right;\n",
       "  margin-top: -5px;\n",
       "}\n",
       ".master-wrapper .right-pane {\n",
       "  border: 1px inset silver;\n",
       "  width: 40%;\n",
       "  min-height: 300px;\n",
       "  flex: 3\n",
       "  min-width: 500px;\n",
       "}\n",
       ".master-wrapper * {\n",
       "  box-sizing: border-box;\n",
       "}\n",
       "</style><script>\n",
       "function copyToClipboard(fld) {\n",
       "    if (document.queryCommandSupported && document.queryCommandSupported('copy')) {\n",
       "        var textarea = document.createElement('textarea');\n",
       "        textarea.textContent = fld.innerHTML;\n",
       "        textarea.style.position = 'fixed';\n",
       "        document.body.appendChild(textarea);\n",
       "        textarea.select();\n",
       "\n",
       "        try {\n",
       "            return document.execCommand('copy'); // Security exception may be thrown by some browsers.\n",
       "        } catch (ex) {\n",
       "\n",
       "        } finally {\n",
       "            document.body.removeChild(textarea);\n",
       "        }\n",
       "    }\n",
       "}\n",
       "function expandPanel(el) {\n",
       "  const panelName = \"#\" + el.getAttribute('paneName');\n",
       "  console.log(el.title);\n",
       "\n",
       "  document.querySelector(panelName + \"-title\").innerHTML = el.title\n",
       "  iframe = document.querySelector(panelName + \"-body\");\n",
       "\n",
       "  const tblcss = `<style> body { font-family: Arial, Helvetica, sans-serif;}\n",
       "    #csv { margin-bottom: 15px; }\n",
       "    #csv table { border-collapse: collapse;}\n",
       "    #csv table td { padding: 4px 8px; border: 1px solid silver;} </style>`;\n",
       "\n",
       "  function csvToHtmlTable(str) {\n",
       "    return '<div id=\"csv\"><table><tr><td>' +  str.replace(/[\\n\\r]+$/g, '').replace(/[\\n\\r]+/g, '</td></tr><tr><td>')\n",
       "      .replace(/,/g, '</td><td>') + '</td></tr></table></div>';\n",
       "  }\n",
       "\n",
       "  function reqListener () {\n",
       "    if (el.title.endsWith(\".csv\")) {\n",
       "      iframe.setAttribute(\"srcdoc\", tblcss + csvToHtmlTable(this.responseText));\n",
       "    } else {\n",
       "      iframe.setAttribute(\"srcdoc\", this.responseText);\n",
       "    }\n",
       "    console.log(this.responseText);\n",
       "  }\n",
       "\n",
       "  const oReq = new XMLHttpRequest();\n",
       "  oReq.addEventListener(\"load\", reqListener);\n",
       "  oReq.open(\"GET\", el.title);\n",
       "  oReq.send();\n",
       "\n",
       "\n",
       "  //iframe.src = el.title;\n",
       "  const resultPane = document.querySelector(panelName + \"-pane\");\n",
       "  if (resultPane.classList.contains(\"hidden\")) {\n",
       "    resultPane.classList.remove(\"hidden\");\n",
       "  }\n",
       "}\n",
       "function closePanel(el) {\n",
       "  const panelName = \"#\" + el.getAttribute('paneName')\n",
       "  const resultPane = document.querySelector(panelName + \"-pane\");\n",
       "  if (!resultPane.classList.contains(\"hidden\")) {\n",
       "    resultPane.classList.add(\"hidden\");\n",
       "  }\n",
       "}\n",
       "\n",
       "</script>\n",
       "<div class=\"master-wrapper\">\n",
       "  <div class=\"block master-tbl\"><div>\n",
       "<style scoped>\n",
       "    .dataframe tbody tr th:only-of-type {\n",
       "        vertical-align: middle;\n",
       "    }\n",
       "\n",
       "    .dataframe tbody tr th {\n",
       "        vertical-align: top;\n",
       "    }\n",
       "\n",
       "    .dataframe thead th {\n",
       "        text-align: right;\n",
       "    }\n",
       "</style>\n",
       "<table border=\"1\" class=\"dataframe\">\n",
       "  <thead>\n",
       "    <tr style=\"text-align: right;\">\n",
       "      <th>project</th>\n",
       "      <th>uid</th>\n",
       "      <th>iter</th>\n",
       "      <th>start</th>\n",
       "      <th>state</th>\n",
       "      <th>name</th>\n",
       "      <th>labels</th>\n",
       "      <th>inputs</th>\n",
       "      <th>parameters</th>\n",
       "      <th>results</th>\n",
       "      <th>artifacts</th>\n",
       "    </tr>\n",
       "  </thead>\n",
       "  <tbody>\n",
       "    <tr>\n",
       "      <td>default</td>\n",
       "      <td><div title=\"a7ddf7967dab43298a44ac24cfb43c10\"><a href=\"https://mlrun-ui.default-tenant.app.pzlcbitaiwad.iguazio-cd1.com/projects/default/jobs/a7ddf7967dab43298a44ac24cfb43c10/info\" target=\"_blank\" >...cfb43c10</a></div></td>\n",
       "      <td>0</td>\n",
       "      <td>Jul 26 14:25:36</td>\n",
       "      <td>completed</td>\n",
       "      <td>test</td>\n",
       "      <td><div class=\"dictlist\">v3io_user=iguazio</div><div class=\"dictlist\">kind=job</div><div class=\"dictlist\">owner=iguazio</div><div class=\"dictlist\">host=test-bk45p</div></td>\n",
       "      <td><div title=\"store://default/train_model#b047c3d8345049578f7d457d6143c8f2\">models_path</div><div title=\"store://default/train_test_set#b047c3d8345049578f7d457d6143c8f2\">test_set</div></td>\n",
       "      <td><div class=\"dictlist\">label_column=label</div><div class=\"dictlist\">plots_dest=plots/test</div></td>\n",
       "      <td><div class=\"dictlist\">accuracy=0.9333333333333333</div><div class=\"dictlist\">test-error=0.06666666666666667</div><div class=\"dictlist\">auc-micro=0.9733333333333333</div><div class=\"dictlist\">auc-weighted=0.9888888888888889</div><div class=\"dictlist\">f1-score=0.9137254901960784</div><div class=\"dictlist\">precision_score=0.8888888888888888</div><div class=\"dictlist\">recall_score=0.9629629629629629</div></td>\n",
       "      <td><div class=\"artifact\" onclick=\"expandPanel(this)\" paneName=\"result29e03fab\" title=\"/files/getting-started-tutorial/jobs/plots/confusion-matrix.html\">confusion-matrix</div><div class=\"artifact\" onclick=\"expandPanel(this)\" paneName=\"result29e03fab\" title=\"/files/getting-started-tutorial/jobs/plots/feature-importances.html\">feature-importances</div><div class=\"artifact\" onclick=\"expandPanel(this)\" paneName=\"result29e03fab\" title=\"/files/getting-started-tutorial/jobs/plots/precision-recall-multiclass.html\">precision-recall-multiclass</div><div class=\"artifact\" onclick=\"expandPanel(this)\" paneName=\"result29e03fab\" title=\"/files/getting-started-tutorial/jobs/plots/roc-multiclass.html\">roc-multiclass</div><div title=\"/User/getting-started-tutorial/jobs/test_set_preds.parquet\">test_set_preds</div></td>\n",
       "    </tr>\n",
       "  </tbody>\n",
       "</table>\n",
       "</div></div>\n",
       "  <div id=\"result29e03fab-pane\" class=\"right-pane block hidden\">\n",
       "    <div class=\"pane-header\">\n",
       "      <span id=\"result29e03fab-title\" class=\"pane-header-title\">Title</span>\n",
       "      <span onclick=\"closePanel(this)\" paneName=\"result29e03fab\" class=\"close clickable\">&times;</span>\n",
       "    </div>\n",
       "    <iframe class=\"fileview\" id=\"result29e03fab-body\"></iframe>\n",
       "  </div>\n",
       "</div>\n"
      ],
      "text/plain": [
       "<IPython.core.display.HTML object>"
      ]
     },
     "metadata": {},
     "output_type": "display_data"
    },
    {
     "name": "stdout",
     "output_type": "stream",
     "text": [
      "to track results use .show() or .logs() or in CLI: \n",
      "!mlrun get run a7ddf7967dab43298a44ac24cfb43c10 --project default , !mlrun logs a7ddf7967dab43298a44ac24cfb43c10 --project default\n",
      "> 2020-07-26 14:25:39,480 [info] run executed, status=completed\n"
     ]
    }
   ],
   "source": [
    "test_task = NewTask(name=\"test\",\n",
    "                    params={\"label_column\": \"label\",\n",
    "                            \"plots_dest\": path.join(\"plots\", \"test\")},\n",
    "                    inputs={\"models_path\": train_run.outputs['model'],\n",
    "                            \"test_set\": train_run.outputs['test_set']}\n",
    "                    )\n",
    "test_run = test.run(test_task,\n",
    "                    artifact_path=artifact_path)"
   ]
  },
  {
   "cell_type": "markdown",
   "metadata": {},
   "source": [
    "<a id=\"gs-test-model-run-output-review\"></a>"
   ]
  },
  {
   "cell_type": "markdown",
   "metadata": {},
   "source": [
    "### Review the Run Output"
   ]
  },
  {
   "cell_type": "markdown",
   "metadata": {},
   "source": [
    "Check the output information for your run in Jupyter Notebook and on the MLRun dashboard.\n",
    "\n",
    "Use the following code to display information from the run object &mdash; the accuracy of the model, and the `confusion` and `roc` HTML output artifacts."
   ]
  },
  {
   "cell_type": "code",
   "execution_count": 27,
   "metadata": {},
   "outputs": [
    {
     "data": {
      "text/html": [
       "<b>Test Accuracy:</b> 0.9333333333333333"
      ],
      "text/plain": [
       "<IPython.core.display.HTML object>"
      ]
     },
     "metadata": {},
     "output_type": "display_data"
    },
    {
     "data": {
      "text/html": [
       "<h3>Confusion matrix:</h3>"
      ],
      "text/plain": [
       "<IPython.core.display.HTML object>"
      ]
     },
     "metadata": {},
     "output_type": "display_data"
    },
    {
     "data": {
      "text/html": [
       "<h3 style=\"text-align:center\">Confusion Matrix - Normalized Plot</h3>\n",
       "<img title=\"confusion-matrix\" src=\"data:image/png;base64,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\">"
      ],
      "text/plain": [
       "<IPython.core.display.HTML object>"
      ]
     },
     "metadata": {},
     "output_type": "display_data"
    },
    {
     "data": {
      "text/html": [
       "<h3>ROC Curve:</h3>"
      ],
      "text/plain": [
       "<IPython.core.display.HTML object>"
      ]
     },
     "metadata": {},
     "output_type": "display_data"
    },
    {
     "data": {
      "text/html": [
       "<h3 style=\"text-align:center\">Multiclass ROC Curve</h3>\n",
       "<img title=\"roc-multiclass\" src=\"data:image/png;base64,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\">"
      ],
      "text/plain": [
       "<IPython.core.display.HTML object>"
      ]
     },
     "metadata": {},
     "output_type": "display_data"
    }
   ],
   "source": [
    "# Display the model accuracy\n",
    "display(HTML(f'<b>Test Accuracy:</b> {test_run.outputs[\"accuracy\"]}'))\n",
    "\n",
    "# Display HTML output artifacts\n",
    "display(HTML(\"<h3>Confusion matrix:</h3>\"),\n",
    "        HTML(filename=test_run.outputs['confusion-matrix']))\n",
    "display(HTML(\"<h3>ROC Curve:</h3>\"), HTML(filename=test_run.outputs['roc-multiclass']))"
   ]
  },
  {
   "cell_type": "markdown",
   "metadata": {},
   "source": [
    "<a id=\"gs-step-model-serving\"></a>"
   ]
  },
  {
   "cell_type": "markdown",
   "metadata": {},
   "source": [
    "## Step 6: Serve Your Model"
   ]
  },
  {
   "cell_type": "markdown",
   "metadata": {},
   "source": [
    "Add to your project a real-time model-server function (`serving`) via the [`model_server`](https://github.com/mlrun/functions/tree/master/model_server) MLRun marketplace function."
   ]
  },
  {
   "cell_type": "code",
   "execution_count": 28,
   "metadata": {},
   "outputs": [],
   "source": [
    "serving = project.set_function('hub://model_server', 'serving').apply(mount_v3io())"
   ]
  },
  {
   "cell_type": "markdown",
   "metadata": {},
   "source": [
    "<a id=\"gs-deploy-serving-function\"></a>"
   ]
  },
  {
   "cell_type": "markdown",
   "metadata": {},
   "source": [
    "### Deploy the serving function"
   ]
  },
  {
   "cell_type": "markdown",
   "metadata": {},
   "source": [
    "Set the trained model and deploy the serving function"
   ]
  },
  {
   "cell_type": "code",
   "execution_count": 29,
   "metadata": {},
   "outputs": [],
   "source": [
    "model_name = 'iris_dataset_v1'"
   ]
  },
  {
   "cell_type": "code",
   "execution_count": 30,
   "metadata": {},
   "outputs": [
    {
     "name": "stdout",
     "output_type": "stream",
     "text": [
      "> 2020-07-26 14:25:39,806 [info] deploy started\n",
      "[nuclio] 2020-07-26 14:25:39,823 project name not found created new (getting-started-iris-iguazio)\n",
      "[nuclio] 2020-07-26 14:27:52,983 (info) Build complete\n",
      "[nuclio] 2020-07-26 14:27:59,138 (info) Function deploy complete\n",
      "[nuclio] 2020-07-26 14:27:59,144 done creating getting-started-iris-iguazio-sklearn-server, function address: 3.12.228.1:32404\n",
      "> 2020-07-26 14:27:59,150 [warning] warning!, server (0.4.10) and client (0.5.0) ver dont match\n",
      "> 2020-07-26 14:27:59,150 [debug] saving function: sklearn-server, tag: None\n"
     ]
    }
   ],
   "source": [
    "serving.add_model(model_name, train_run.outputs['model'])\n",
    "serving_addr = serving.deploy()"
   ]
  },
  {
   "cell_type": "markdown",
   "metadata": {},
   "source": [
    "You can now run the model serving function. MLRun leverages Nuclio on Kubernetes, Nuclio scales up and down automatically and will scale to zero if remains unused. Therefore, unlike VMs that consume resources and require you to delete the endpoint when unused, here you do not have to worry about deleting this serving function from resource and cost point of view."
   ]
  },
  {
   "cell_type": "markdown",
   "metadata": {},
   "source": [
    "<a id=\"gs-test-model-from-notebook\"></a>"
   ]
  },
  {
   "cell_type": "markdown",
   "metadata": {},
   "source": [
    "### Test the model from the notebook"
   ]
  },
  {
   "cell_type": "markdown",
   "metadata": {},
   "source": [
    "Now define a test vector of inputs `test_data` and send them to the serving function `predict_url`"
   ]
  },
  {
   "cell_type": "code",
   "execution_count": 31,
   "metadata": {},
   "outputs": [],
   "source": [
    "test_data = [5.1, 3.5, 1.4, 0.2]"
   ]
  },
  {
   "cell_type": "code",
   "execution_count": 32,
   "metadata": {},
   "outputs": [],
   "source": [
    "import json\n",
    "def data_to_serving_input(data):\n",
    "    return json.dumps({\"instances\": [data]})"
   ]
  },
  {
   "cell_type": "code",
   "execution_count": 33,
   "metadata": {},
   "outputs": [],
   "source": [
    "predict_url = f'{serving_addr}/{model_name}/predict'"
   ]
  },
  {
   "cell_type": "code",
   "execution_count": 34,
   "metadata": {},
   "outputs": [
    {
     "name": "stdout",
     "output_type": "stream",
     "text": [
      "[0]\n"
     ]
    }
   ],
   "source": [
    "import requests\n",
    "resp = requests.put(predict_url, json=data_to_serving_input(test_data))\n",
    "print(resp.text)"
   ]
  },
  {
   "cell_type": "markdown",
   "metadata": {},
   "source": [
    "<a id=\"gs-test-model-via-tester-function\"></a>"
   ]
  },
  {
   "cell_type": "markdown",
   "metadata": {},
   "source": [
    "### Test via the a model tester function"
   ]
  },
  {
   "cell_type": "markdown",
   "metadata": {},
   "source": [
    "A much more robust way to test your serving function is by creating a test function that sends a test dataset and compares the output to the expected output. Add to your project a REST model API tester function (`serving-tester`) which runs the model_server function with a specified table via the [`model_server_tester`](https://github.com/mlrun/functions/tree/master/model_server_tester) MLRun marketplace function."
   ]
  },
  {
   "cell_type": "code",
   "execution_count": 35,
   "metadata": {},
   "outputs": [],
   "source": [
    "serving_tester = project.set_function('hub://model_server_tester', 'serving-tester').apply(mount_v3io())"
   ]
  },
  {
   "cell_type": "markdown",
   "metadata": {},
   "source": [
    "Run the serving tester, with the test set"
   ]
  },
  {
   "cell_type": "code",
   "execution_count": 36,
   "metadata": {},
   "outputs": [
    {
     "name": "stdout",
     "output_type": "stream",
     "text": [
      "> 2020-07-26 14:27:59,443 [debug] Validating field against patterns: {'field_name': 'run.metadata.name', 'field_value': 'serving-tester', 'pattern': ['^.{0,63}$', '^(([A-Za-z0-9][-A-Za-z0-9_.]*)?[A-Za-z0-9])?$']}\n",
      "> 2020-07-26 14:27:59,449 [warning] warning!, server (0.4.10) and client (0.5.0) ver dont match\n",
      "> 2020-07-26 14:27:59,449 [info] starting run serving-tester uid=eec2f6c548964e898ae0f198dbc603a1  -> http://mlrun-api:8080\n",
      "> 2020-07-26 14:27:59,581 [info] Job is running in the background, pod: serving-tester-dnnc9\n",
      "[mlrun] 2020-07-26 14:28:28,905 testing with dataset against http://3.12.228.1:32404, model: iris_dataset_v1\n",
      "[mlrun] 2020-07-26 14:28:29,119 run 15 tests, 0 errors and 14 match expected value\n",
      "\n",
      "[mlrun] 2020-07-26 14:28:29,146 run executed, status=completed\n",
      "final state: succeeded\n"
     ]
    },
    {
     "data": {
      "text/html": [
       "<style>\n",
       ".dictlist {\n",
       "  background-color: #b3edff;\n",
       "  text-align: center;\n",
       "  margin: 4px;\n",
       "  border-radius: 3px; padding: 0px 3px 1px 3px; display: inline-block;}\n",
       ".artifact {\n",
       "  cursor: pointer;\n",
       "  background-color: #ffe6cc;\n",
       "  text-align: left;\n",
       "  margin: 4px; border-radius: 3px; padding: 0px 3px 1px 3px; display: inline-block;\n",
       "}\n",
       "div.block.hidden {\n",
       "  display: none;\n",
       "}\n",
       ".clickable {\n",
       "  cursor: pointer;\n",
       "}\n",
       ".ellipsis {\n",
       "  display: inline-block;\n",
       "  max-width: 60px;\n",
       "  white-space: nowrap;\n",
       "  overflow: hidden;\n",
       "  text-overflow: ellipsis;\n",
       "}\n",
       ".master-wrapper {\n",
       "  display: flex;\n",
       "  flex-flow: row nowrap;\n",
       "  justify-content: flex-start;\n",
       "  align-items: stretch;\n",
       "}\n",
       ".master-tbl {\n",
       "  flex: 3\n",
       "}\n",
       ".master-wrapper > div {\n",
       "  margin: 4px;\n",
       "  padding: 10px;\n",
       "}\n",
       "iframe.fileview {\n",
       "  border: 0 none;\n",
       "  height: 100%;\n",
       "  width: 100%;\n",
       "  white-space: pre-wrap;\n",
       "}\n",
       ".pane-header-title {\n",
       "  width: 80%;\n",
       "  font-weight: 500;\n",
       "}\n",
       ".pane-header {\n",
       "  line-height: 1;\n",
       "  background-color: #ffe6cc;\n",
       "  padding: 3px;\n",
       "}\n",
       ".pane-header .close {\n",
       "  font-size: 20px;\n",
       "  font-weight: 700;\n",
       "  float: right;\n",
       "  margin-top: -5px;\n",
       "}\n",
       ".master-wrapper .right-pane {\n",
       "  border: 1px inset silver;\n",
       "  width: 40%;\n",
       "  min-height: 300px;\n",
       "  flex: 3\n",
       "  min-width: 500px;\n",
       "}\n",
       ".master-wrapper * {\n",
       "  box-sizing: border-box;\n",
       "}\n",
       "</style><script>\n",
       "function copyToClipboard(fld) {\n",
       "    if (document.queryCommandSupported && document.queryCommandSupported('copy')) {\n",
       "        var textarea = document.createElement('textarea');\n",
       "        textarea.textContent = fld.innerHTML;\n",
       "        textarea.style.position = 'fixed';\n",
       "        document.body.appendChild(textarea);\n",
       "        textarea.select();\n",
       "\n",
       "        try {\n",
       "            return document.execCommand('copy'); // Security exception may be thrown by some browsers.\n",
       "        } catch (ex) {\n",
       "\n",
       "        } finally {\n",
       "            document.body.removeChild(textarea);\n",
       "        }\n",
       "    }\n",
       "}\n",
       "function expandPanel(el) {\n",
       "  const panelName = \"#\" + el.getAttribute('paneName');\n",
       "  console.log(el.title);\n",
       "\n",
       "  document.querySelector(panelName + \"-title\").innerHTML = el.title\n",
       "  iframe = document.querySelector(panelName + \"-body\");\n",
       "\n",
       "  const tblcss = `<style> body { font-family: Arial, Helvetica, sans-serif;}\n",
       "    #csv { margin-bottom: 15px; }\n",
       "    #csv table { border-collapse: collapse;}\n",
       "    #csv table td { padding: 4px 8px; border: 1px solid silver;} </style>`;\n",
       "\n",
       "  function csvToHtmlTable(str) {\n",
       "    return '<div id=\"csv\"><table><tr><td>' +  str.replace(/[\\n\\r]+$/g, '').replace(/[\\n\\r]+/g, '</td></tr><tr><td>')\n",
       "      .replace(/,/g, '</td><td>') + '</td></tr></table></div>';\n",
       "  }\n",
       "\n",
       "  function reqListener () {\n",
       "    if (el.title.endsWith(\".csv\")) {\n",
       "      iframe.setAttribute(\"srcdoc\", tblcss + csvToHtmlTable(this.responseText));\n",
       "    } else {\n",
       "      iframe.setAttribute(\"srcdoc\", this.responseText);\n",
       "    }\n",
       "    console.log(this.responseText);\n",
       "  }\n",
       "\n",
       "  const oReq = new XMLHttpRequest();\n",
       "  oReq.addEventListener(\"load\", reqListener);\n",
       "  oReq.open(\"GET\", el.title);\n",
       "  oReq.send();\n",
       "\n",
       "\n",
       "  //iframe.src = el.title;\n",
       "  const resultPane = document.querySelector(panelName + \"-pane\");\n",
       "  if (resultPane.classList.contains(\"hidden\")) {\n",
       "    resultPane.classList.remove(\"hidden\");\n",
       "  }\n",
       "}\n",
       "function closePanel(el) {\n",
       "  const panelName = \"#\" + el.getAttribute('paneName')\n",
       "  const resultPane = document.querySelector(panelName + \"-pane\");\n",
       "  if (!resultPane.classList.contains(\"hidden\")) {\n",
       "    resultPane.classList.add(\"hidden\");\n",
       "  }\n",
       "}\n",
       "\n",
       "</script>\n",
       "<div class=\"master-wrapper\">\n",
       "  <div class=\"block master-tbl\"><div>\n",
       "<style scoped>\n",
       "    .dataframe tbody tr th:only-of-type {\n",
       "        vertical-align: middle;\n",
       "    }\n",
       "\n",
       "    .dataframe tbody tr th {\n",
       "        vertical-align: top;\n",
       "    }\n",
       "\n",
       "    .dataframe thead th {\n",
       "        text-align: right;\n",
       "    }\n",
       "</style>\n",
       "<table border=\"1\" class=\"dataframe\">\n",
       "  <thead>\n",
       "    <tr style=\"text-align: right;\">\n",
       "      <th>project</th>\n",
       "      <th>uid</th>\n",
       "      <th>iter</th>\n",
       "      <th>start</th>\n",
       "      <th>state</th>\n",
       "      <th>name</th>\n",
       "      <th>labels</th>\n",
       "      <th>inputs</th>\n",
       "      <th>parameters</th>\n",
       "      <th>results</th>\n",
       "      <th>artifacts</th>\n",
       "    </tr>\n",
       "  </thead>\n",
       "  <tbody>\n",
       "    <tr>\n",
       "      <td>getting-started-iris-iguazio</td>\n",
       "      <td><div title=\"eec2f6c548964e898ae0f198dbc603a1\"><a href=\"https://mlrun-ui.default-tenant.app.pzlcbitaiwad.iguazio-cd1.com/projects/getting-started-iris-iguazio/jobs/eec2f6c548964e898ae0f198dbc603a1/info\" target=\"_blank\" >...dbc603a1</a></div></td>\n",
       "      <td>0</td>\n",
       "      <td>Jul 26 14:28:28</td>\n",
       "      <td>completed</td>\n",
       "      <td>serving-tester</td>\n",
       "      <td><div class=\"dictlist\">v3io_user=iguazio</div><div class=\"dictlist\">kind=job</div><div class=\"dictlist\">owner=iguazio</div><div class=\"dictlist\">host=serving-tester-dnnc9</div></td>\n",
       "      <td><div title=\"store://default/train_test_set#b047c3d8345049578f7d457d6143c8f2\">table</div></td>\n",
       "      <td><div class=\"dictlist\">addr=http://3.12.228.1:32404</div><div class=\"dictlist\">model=iris_dataset_v1</div></td>\n",
       "      <td><div class=\"dictlist\">total_tests=15</div><div class=\"dictlist\">errors=0</div><div class=\"dictlist\">match=14</div><div class=\"dictlist\">avg_latency=12069</div><div class=\"dictlist\">min_latency=11669</div><div class=\"dictlist\">max_latency=13772</div></td>\n",
       "      <td><div class=\"artifact\" onclick=\"expandPanel(this)\" paneName=\"result0f93d640\" title=\"/files/getting-started-tutorial/jobs/latency.html\">latency</div></td>\n",
       "    </tr>\n",
       "  </tbody>\n",
       "</table>\n",
       "</div></div>\n",
       "  <div id=\"result0f93d640-pane\" class=\"right-pane block hidden\">\n",
       "    <div class=\"pane-header\">\n",
       "      <span id=\"result0f93d640-title\" class=\"pane-header-title\">Title</span>\n",
       "      <span onclick=\"closePanel(this)\" paneName=\"result0f93d640\" class=\"close clickable\">&times;</span>\n",
       "    </div>\n",
       "    <iframe class=\"fileview\" id=\"result0f93d640-body\"></iframe>\n",
       "  </div>\n",
       "</div>\n"
      ],
      "text/plain": [
       "<IPython.core.display.HTML object>"
      ]
     },
     "metadata": {},
     "output_type": "display_data"
    },
    {
     "name": "stdout",
     "output_type": "stream",
     "text": [
      "to track results use .show() or .logs() or in CLI: \n",
      "!mlrun get run eec2f6c548964e898ae0f198dbc603a1 --project getting-started-iris-iguazio , !mlrun logs eec2f6c548964e898ae0f198dbc603a1 --project getting-started-iris-iguazio\n",
      "> 2020-07-26 14:28:38,939 [info] run executed, status=completed\n"
     ]
    }
   ],
   "source": [
    "tester = serving_tester.run(name='serving-tester',\n",
    "                            params={'addr': serving_addr,\n",
    "                                    'model': model_name},\n",
    "                            inputs={'table': train_run.outputs['test_set']},\n",
    "                            artifact_path=artifact_path)"
   ]
  },
  {
   "cell_type": "markdown",
   "metadata": {},
   "source": [
    "<a id=\"gs-test-model-via-ui\"></a>"
   ]
  },
  {
   "cell_type": "markdown",
   "metadata": {},
   "source": [
    "### Test the model via the UI"
   ]
  },
  {
   "cell_type": "markdown",
   "metadata": {},
   "source": [
    "You can also run the model-serving function via the UI. The function name is the project name concatenated with `-sklearn server`. Use the following code to obtain the function name"
   ]
  },
  {
   "cell_type": "code",
   "execution_count": 37,
   "metadata": {},
   "outputs": [
    {
     "data": {
      "text/plain": [
       "'getting-started-iris-iguazio-sklearn-server'"
      ]
     },
     "execution_count": 37,
     "metadata": {},
     "output_type": "execute_result"
    }
   ],
   "source": [
    "serving.spec.base_spec.get('metadata').get('name')"
   ]
  },
  {
   "cell_type": "markdown",
   "metadata": {},
   "source": [
    "Append `iris_dataset_v1/predict` to the function's URL to create the `POST` URL; change the body type to `JSON`; and add the following text to the request body:\n",
    "```json\n",
    "{\"instances\": [[5.1, 3.5, 1.4, 0.2]]}\n",
    "```\n",
    "You can perform these steps from the platform dashboard: select **Projects** from the side navigation menu, select your project (\"getting-started-iris-iguazio\"), and then select the `getting-stated-iris-iguazio-sklearn-server` function and execute the required steps, as demonstrated in the following dashboard flow:\n",
    "<br><br>\n",
    "![getting_started-pipeline](./assets/getting_started-model_serving_test.gif)"
   ]
  },
  {
   "cell_type": "markdown",
   "metadata": {},
   "source": [
    "<a id=\"gs-step-create-n-run-ml-pipeline\"></a>"
   ]
  },
  {
   "cell_type": "markdown",
   "metadata": {},
   "source": [
    "## Step 7: Create and Run a Fully Automated ML Pipeline"
   ]
  },
  {
   "cell_type": "markdown",
   "metadata": {},
   "source": [
    "You're now ready to create a full ML pipeline.\n",
    "This is done by using [Kubeflow Pipelines](https://www.kubeflow.org/docs/pipelines/overview/pipelines-overview/), which is integrated into the Iguazio Data Science Platform.\n",
    "Kubeflow Pipelines is an open-source framework for building and deploying portable, scalable machine-learning workflows based on Docker containers.\n",
    "MLRun leverages this framework to take your existing code and deploy it as steps in the pipeline."
   ]
  },
  {
   "cell_type": "markdown",
   "metadata": {},
   "source": [
    "<a id=\"gs-pipeline-workflow-define-n-save\"></a>"
   ]
  },
  {
   "cell_type": "markdown",
   "metadata": {},
   "source": [
    "### Define and Save a Pipeline Workflow"
   ]
  },
  {
   "cell_type": "markdown",
   "metadata": {},
   "source": [
    "A pipeline is created by running an MLRun **\"workflow\"**.\n",
    "The following code defines a workflow and writes it to a file in your project directory (**/User/getting-started-tutorial/jobs/workflow.py**).\n",
    "The workflow describes a directed acyclic graph (DAG) for execution using Kubeflow Pipelines, and depicts the connections between the functions and the data as part of an end-to-end pipeline.\n",
    "The workflow file has two parts &mdash; initialization of the function objects, and definition of a pipeline DSL (domain-specific language) for connecting the function inputs and outputs.\n",
    "Examine the code to see how functions objects are initialized and used (by name) within the workflow.\n",
    "\n",
    "The defined pipeline includes the following steps:\n",
    "\n",
    "- Ingest the Iris flower data set (`ingest`).\n",
    "- Analyze the data set (`describe`).\n",
    "- Train and test the model with hyperparameters (`train`).\n",
    "- Deploy the model as a real-time serverless function (`deploy`).\n",
    "- Test the serverless serving-model function with a test data set by using REST API calls (`Tester`).\n",
    "\n",
    "> **Note**: A pipeline can also include continuous build integration and deployment (CI/CD) steps, such as building container images and deploying models."
   ]
  },
  {
   "cell_type": "code",
   "execution_count": 38,
   "metadata": {},
   "outputs": [
    {
     "name": "stdout",
     "output_type": "stream",
     "text": [
      "Writing /User/getting-started-tutorial/conf/workflow.py\n"
     ]
    }
   ],
   "source": [
    "%%writefile {path.join(project_path, 'workflow.py')}\n",
    "\n",
    "from kfp import dsl\n",
    "from mlrun import mount_v3io\n",
    "\n",
    "funcs = {}\n",
    "DATASET = 'iris_dataset'\n",
    "LABELS = \"label\"\n",
    "MODELS = [\"sklearn.ensemble.RandomForestClassifier\",\n",
    "          \"sklearn.linear_model.LogisticRegression\",\n",
    "          \"sklearn.ensemble.AdaBoostClassifier\"]\n",
    "\n",
    "\n",
    "# Configure function resources and local settings\n",
    "def init_functions(functions: dict, project=None, secrets=None):\n",
    "    for f in functions.values():\n",
    "        f.apply(mount_v3io())\n",
    "\n",
    "    functions['serving'].metadata.name = 'getting-started-serving'\n",
    "\n",
    "\n",
    "# Create a Kubeflow Pipelines pipeline\n",
    "@dsl.pipeline(\n",
    "    name=\"Getting-started tutorial\",\n",
    "    description=\"This tutorial is designed to demonstrate some of the main \"\n",
    "                \"capabilities of the Iguazio Data Science Platform.\\n\"\n",
    "                \"The tutorial uses the Iris flower data set.\"\n",
    ")\n",
    "def kfpipeline(source_url='http://iguazio-sample-data.s3.amazonaws.com/iris_dataset.csv'):\n",
    "\n",
    "    # Ingest the data set\n",
    "    ingest = funcs['get-data'].as_step(\n",
    "        name=\"get-data\",\n",
    "        handler='get_data',\n",
    "        inputs={'source_url': source_url},\n",
    "        params={'format': 'pq'},\n",
    "        outputs=[DATASET])\n",
    "\n",
    "    # Analyze the dataset\n",
    "    describe = funcs[\"describe\"].as_step(\n",
    "        name=\"summary\",\n",
    "        params={\"label_column\": LABELS},\n",
    "        inputs={\"table\": ingest.outputs[DATASET]})\n",
    "\n",
    "    # Train a model with hyperparemeters\n",
    "    train = funcs[\"train\"].as_step(\n",
    "        name=\"train\",\n",
    "        params={\"sample\": -1,\n",
    "                \"label_column\": LABELS,\n",
    "                \"test_size\": 0.10},\n",
    "        hyperparams={'model_pkg_class': MODELS},\n",
    "        selector='max.accuracy',\n",
    "        inputs={\"dataset\": ingest.outputs[DATASET]},\n",
    "        outputs=['model', 'test_set'])\n",
    "\n",
    "    # Test and visualize the model\n",
    "    test = funcs[\"test\"].as_step(\n",
    "        name=\"test\",\n",
    "        params={\"label_column\": LABELS},\n",
    "        inputs={\"models_path\": train.outputs['model'],\n",
    "                \"test_set\": train.outputs['test_set']})\n",
    "\n",
    "    # Deploy the model as a serverless function\n",
    "    deploy = funcs[\"serving\"].deploy_step(\n",
    "        models={f\"{DATASET}_v1\": train.outputs['model']})\n",
    "\n",
    "    # Test the new model server (via REST API calls)\n",
    "    tester = funcs[\"serving-tester\"].as_step(\n",
    "        name='serving-tester',\n",
    "        params={'addr': deploy.outputs['endpoint'], 'model': f\"{DATASET}_v1\"},\n",
    "        inputs={'table': train.outputs['test_set']})"
   ]
  },
  {
   "cell_type": "markdown",
   "metadata": {},
   "source": [
    "#### Register the Workflow"
   ]
  },
  {
   "cell_type": "markdown",
   "metadata": {},
   "source": [
    "Use the `set_workflow` MLRun project method to register your workflow with MLRun.\n",
    "The following code sets the `name` parameter to the selected workflow name (\"main\") and the `code` parameter to the name of the workflow file that is found in your project directory (**workflow.py**)."
   ]
  },
  {
   "cell_type": "code",
   "execution_count": 39,
   "metadata": {},
   "outputs": [],
   "source": [
    "# Register the workflow file as \"main\"\n",
    "project.set_workflow('main', 'workflow.py')"
   ]
  },
  {
   "cell_type": "markdown",
   "metadata": {},
   "source": [
    "<a id=\"gs-save-project\"></a>"
   ]
  },
  {
   "cell_type": "markdown",
   "metadata": {},
   "source": [
    "### Save Your Project Configuration"
   ]
  },
  {
   "cell_type": "markdown",
   "metadata": {},
   "source": [
    "Use the `save` MLRun project method to save your project definitions to a project-configuration file in your project directory (**/User/getting-started-tutorial/conf**).\n",
    "The default name of the project file is **project.yaml**, but you can optionally change it by setting the `filepath` parameter of the `save` method.\n",
    "\n",
    "> **Note:** It's recommended that you commit your project-configuration file and any future changes to this file to a Git repository."
   ]
  },
  {
   "cell_type": "code",
   "execution_count": 40,
   "metadata": {},
   "outputs": [],
   "source": [
    "project.save()"
   ]
  },
  {
   "cell_type": "markdown",
   "metadata": {},
   "source": [
    "<a id='gs-pipeline-workflow-run'></a>"
   ]
  },
  {
   "cell_type": "markdown",
   "metadata": {},
   "source": [
    "### Run Your Pipeline Workflow"
   ]
  },
  {
   "cell_type": "markdown",
   "metadata": {},
   "source": [
    "Use the `run` MLRun project method to execute your workflow pipeline with Kubeflow Pipelines.\n",
    "The tutorial code sets the following method parameters; (for the full parameters list, see the MLRun documentation or embedded help):\n",
    "\n",
    "- **`name`** &mdash; the workflow name (in this case, \"main\" &mdash; see the previous step).\n",
    "- **`arguments`** &mdash; A dictionary of Kubeflow Pipelines arguments (parameters).\n",
    "  The tutorial code sets this parameter to an empty arguments list (`{}`), but you can edit the code to add arguments.\n",
    "- **`artifact_path`** &mdash; a path or URL that identifies a location for storing the workflow artifacts.\n",
    "  You can use `{{workflow.uid}}` in the path to signify the ID of the current workflow run iteration.\n",
    "  The tutorial code sets the artifacts path to a **&lt;worker ID&gt;** directory (`{{workflow.uid}}`) in a **pipeline** directory within the current tutorial directory (**/User/getting-started-tutorial/pipeline/&lt;worker ID&gt;**).\n",
    "- **`dirty`** &mdash; set to `True` to allow running the workflow also when the project's Git repository is dirty (i.e., contains uncommitted changes).\n",
    "  (When the notebook that contains the execution code is in the same Git directory as the executed workflow, the directory will always be dirty during the execution.)\n",
    "\n",
    "The `run` method returns the ID of the executed workflow, which the code stores in a `run_id` variable.\n",
    "You can use this ID to track the progress or your workflow, as demonstrated in the following sections.\n",
    "\n",
    "> **Note**: You can also run the workflow from a command-line shell by using the `mlrun` CLI.\n",
    "> The following CLI command defines a similar execution logic as that of the `run` call in the tutorial:\n",
    "> ```\n",
    "> mlrun project /User/getting-started-tutorial/conf -r main -p \"$V3IO_HOME_URL/getting-started-tutorial/pipeline/{{workflow.uid}}/\"\n",
    "> ```"
   ]
  },
  {
   "cell_type": "code",
   "execution_count": 41,
   "metadata": {},
   "outputs": [
    {
     "name": "stdout",
     "output_type": "stream",
     "text": [
      "> 2020-07-26 14:29:18,048 [info] using in-cluster config.\n",
      "> 2020-07-26 14:29:18,074 [debug] saving function: get-data, tag: \n",
      "> 2020-07-26 14:29:18,134 [debug] saving function: describe, tag: \n",
      "> 2020-07-26 14:29:18,191 [debug] saving function: sklearn-classifier, tag: \n",
      "> 2020-07-26 14:29:18,253 [debug] saving function: test-classifier, tag: \n",
      "> 2020-07-26 14:29:18,322 [debug] saving function: model-server-tester, tag: \n"
     ]
    },
    {
     "data": {
      "text/html": [
       "Experiment link <a href=\"https://dashboard.default-tenant.app.pzlcbitaiwad.iguazio-cd1.com/pipelines/#/experiments/details/f66f213e-128e-4853-a377-d63da93cf1c1\" target=\"_blank\" >here</a>"
      ],
      "text/plain": [
       "<IPython.core.display.HTML object>"
      ]
     },
     "metadata": {},
     "output_type": "display_data"
    },
    {
     "data": {
      "text/html": [
       "Run link <a href=\"https://dashboard.default-tenant.app.pzlcbitaiwad.iguazio-cd1.com/pipelines/#/runs/details/bff0c3e3-3d66-41f8-9213-6b71064b02f6\" target=\"_blank\" >here</a>"
      ],
      "text/plain": [
       "<IPython.core.display.HTML object>"
      ]
     },
     "metadata": {},
     "output_type": "display_data"
    },
    {
     "name": "stdout",
     "output_type": "stream",
     "text": [
      "> 2020-07-26 14:29:18,517 [info] Pipeline run id=bff0c3e3-3d66-41f8-9213-6b71064b02f6, check UI or DB for progress\n"
     ]
    }
   ],
   "source": [
    "run_id = project.run(\n",
    "    'main',\n",
    "    arguments={}, \n",
    "    artifact_path=path.abspath(path.join('pipeline','{{workflow.uid}}')), \n",
    "    dirty=True)"
   ]
  },
  {
   "cell_type": "markdown",
   "metadata": {},
   "source": [
    "<a id=\"gs-pipeline-workflow-run-output-review\"></a>"
   ]
  },
  {
   "cell_type": "markdown",
   "metadata": {},
   "source": [
    "### Review the Run Output"
   ]
  },
  {
   "cell_type": "markdown",
   "metadata": {},
   "source": [
    "The run output contains hyperlinks to the relevant sections for your workflow in the platform dashboard's pipelines dashboard (**Pipelines**):\n",
    "\n",
    "Select the **Experiments link** to view information about the executed experiments.\n",
    "<br><br>\n",
    "![getting_started-pipeline](./assets/getting_started-pipeline-experiment.png)\n",
    "\n",
    "Select the **Run link** to view the pipeline execution.\n",
    "The following image illustrates the execution graph for a completed run:\n",
    "<br><br>\n",
    "![getting_started-pipeline](./assets/getting_started-pipeline.png)"
   ]
  },
  {
   "cell_type": "markdown",
   "metadata": {},
   "source": [
    "<a id=\"gs-pipeline-workflow-track-execution\"></a>"
   ]
  },
  {
   "cell_type": "markdown",
   "metadata": {},
   "source": [
    "### Track the Pipeline Workflow Execution"
   ]
  },
  {
   "cell_type": "markdown",
   "metadata": {},
   "source": [
    "You can use the following code to view the information for your pipeline workflow execution &mdash; including inputs and outputs, run results, and artifacts.\n",
    "\n",
    "The code uses the `get_run_db` MLRun method to get an MLRun DB object for your project's MLRun database/API service (\"the MLRun DB\"), and the `connect` method to connect to the DB.\n",
    "The returned database object is stored in a `db` variable, which can then be used to run additional methods for performing different operations on the database.\n",
    "\n",
    "The code uses the `list_runs` method to list all runs for the current workflow.\n",
    "The workflow is referenced by using the workflow ID that was returned for the workflow execution and saved to the `run_id` variable."
   ]
  },
  {
   "cell_type": "code",
   "execution_count": 42,
   "metadata": {},
   "outputs": [
    {
     "name": "stdout",
     "output_type": "stream",
     "text": [
      "> 2020-07-26 14:31:45,145 [warning] warning!, server (0.4.10) and client (0.5.0) ver dont match\n"
     ]
    },
    {
     "data": {
      "text/html": [
       "<style>\n",
       ".dictlist {\n",
       "  background-color: #b3edff;\n",
       "  text-align: center;\n",
       "  margin: 4px;\n",
       "  border-radius: 3px; padding: 0px 3px 1px 3px; display: inline-block;}\n",
       ".artifact {\n",
       "  cursor: pointer;\n",
       "  background-color: #ffe6cc;\n",
       "  text-align: left;\n",
       "  margin: 4px; border-radius: 3px; padding: 0px 3px 1px 3px; display: inline-block;\n",
       "}\n",
       "div.block.hidden {\n",
       "  display: none;\n",
       "}\n",
       ".clickable {\n",
       "  cursor: pointer;\n",
       "}\n",
       ".ellipsis {\n",
       "  display: inline-block;\n",
       "  max-width: 60px;\n",
       "  white-space: nowrap;\n",
       "  overflow: hidden;\n",
       "  text-overflow: ellipsis;\n",
       "}\n",
       ".master-wrapper {\n",
       "  display: flex;\n",
       "  flex-flow: row nowrap;\n",
       "  justify-content: flex-start;\n",
       "  align-items: stretch;\n",
       "}\n",
       ".master-tbl {\n",
       "  flex: 3\n",
       "}\n",
       ".master-wrapper > div {\n",
       "  margin: 4px;\n",
       "  padding: 10px;\n",
       "}\n",
       "iframe.fileview {\n",
       "  border: 0 none;\n",
       "  height: 100%;\n",
       "  width: 100%;\n",
       "  white-space: pre-wrap;\n",
       "}\n",
       ".pane-header-title {\n",
       "  width: 80%;\n",
       "  font-weight: 500;\n",
       "}\n",
       ".pane-header {\n",
       "  line-height: 1;\n",
       "  background-color: #ffe6cc;\n",
       "  padding: 3px;\n",
       "}\n",
       ".pane-header .close {\n",
       "  font-size: 20px;\n",
       "  font-weight: 700;\n",
       "  float: right;\n",
       "  margin-top: -5px;\n",
       "}\n",
       ".master-wrapper .right-pane {\n",
       "  border: 1px inset silver;\n",
       "  width: 40%;\n",
       "  min-height: 300px;\n",
       "  flex: 3\n",
       "  min-width: 500px;\n",
       "}\n",
       ".master-wrapper * {\n",
       "  box-sizing: border-box;\n",
       "}\n",
       "</style><script>\n",
       "function copyToClipboard(fld) {\n",
       "    if (document.queryCommandSupported && document.queryCommandSupported('copy')) {\n",
       "        var textarea = document.createElement('textarea');\n",
       "        textarea.textContent = fld.innerHTML;\n",
       "        textarea.style.position = 'fixed';\n",
       "        document.body.appendChild(textarea);\n",
       "        textarea.select();\n",
       "\n",
       "        try {\n",
       "            return document.execCommand('copy'); // Security exception may be thrown by some browsers.\n",
       "        } catch (ex) {\n",
       "\n",
       "        } finally {\n",
       "            document.body.removeChild(textarea);\n",
       "        }\n",
       "    }\n",
       "}\n",
       "function expandPanel(el) {\n",
       "  const panelName = \"#\" + el.getAttribute('paneName');\n",
       "  console.log(el.title);\n",
       "\n",
       "  document.querySelector(panelName + \"-title\").innerHTML = el.title\n",
       "  iframe = document.querySelector(panelName + \"-body\");\n",
       "\n",
       "  const tblcss = `<style> body { font-family: Arial, Helvetica, sans-serif;}\n",
       "    #csv { margin-bottom: 15px; }\n",
       "    #csv table { border-collapse: collapse;}\n",
       "    #csv table td { padding: 4px 8px; border: 1px solid silver;} </style>`;\n",
       "\n",
       "  function csvToHtmlTable(str) {\n",
       "    return '<div id=\"csv\"><table><tr><td>' +  str.replace(/[\\n\\r]+$/g, '').replace(/[\\n\\r]+/g, '</td></tr><tr><td>')\n",
       "      .replace(/,/g, '</td><td>') + '</td></tr></table></div>';\n",
       "  }\n",
       "\n",
       "  function reqListener () {\n",
       "    if (el.title.endsWith(\".csv\")) {\n",
       "      iframe.setAttribute(\"srcdoc\", tblcss + csvToHtmlTable(this.responseText));\n",
       "    } else {\n",
       "      iframe.setAttribute(\"srcdoc\", this.responseText);\n",
       "    }\n",
       "    console.log(this.responseText);\n",
       "  }\n",
       "\n",
       "  const oReq = new XMLHttpRequest();\n",
       "  oReq.addEventListener(\"load\", reqListener);\n",
       "  oReq.open(\"GET\", el.title);\n",
       "  oReq.send();\n",
       "\n",
       "\n",
       "  //iframe.src = el.title;\n",
       "  const resultPane = document.querySelector(panelName + \"-pane\");\n",
       "  if (resultPane.classList.contains(\"hidden\")) {\n",
       "    resultPane.classList.remove(\"hidden\");\n",
       "  }\n",
       "}\n",
       "function closePanel(el) {\n",
       "  const panelName = \"#\" + el.getAttribute('paneName')\n",
       "  const resultPane = document.querySelector(panelName + \"-pane\");\n",
       "  if (!resultPane.classList.contains(\"hidden\")) {\n",
       "    resultPane.classList.add(\"hidden\");\n",
       "  }\n",
       "}\n",
       "\n",
       "</script>\n",
       "<div class=\"master-wrapper\">\n",
       "  <div class=\"block master-tbl\"><div>\n",
       "<style scoped>\n",
       "    .dataframe tbody tr th:only-of-type {\n",
       "        vertical-align: middle;\n",
       "    }\n",
       "\n",
       "    .dataframe tbody tr th {\n",
       "        vertical-align: top;\n",
       "    }\n",
       "\n",
       "    .dataframe thead th {\n",
       "        text-align: right;\n",
       "    }\n",
       "</style>\n",
       "<table border=\"1\" class=\"dataframe\">\n",
       "  <thead>\n",
       "    <tr style=\"text-align: right;\">\n",
       "      <th>project</th>\n",
       "      <th>uid</th>\n",
       "      <th>iter</th>\n",
       "      <th>start</th>\n",
       "      <th>state</th>\n",
       "      <th>name</th>\n",
       "      <th>labels</th>\n",
       "      <th>inputs</th>\n",
       "      <th>parameters</th>\n",
       "      <th>results</th>\n",
       "      <th>artifacts</th>\n",
       "    </tr>\n",
       "  </thead>\n",
       "  <tbody>\n",
       "    <tr>\n",
       "      <td>getting-started-iris-iguazio</td>\n",
       "      <td><div title=\"59541b7b1276452e8b90a43b2d1dd260\"><a href=\"https://mlrun-ui.default-tenant.app.pzlcbitaiwad.iguazio-cd1.com/projects/getting-started-iris-iguazio/jobs/59541b7b1276452e8b90a43b2d1dd260/info\" target=\"_blank\" >...2d1dd260</a></div></td>\n",
       "      <td>0</td>\n",
       "      <td>Jul 26 14:31:12</td>\n",
       "      <td>completed</td>\n",
       "      <td>serving-tester</td>\n",
       "      <td><div class=\"dictlist\">v3io_user=iguazio</div><div class=\"dictlist\">owner=iguazio</div><div class=\"dictlist\">workflow=bff0c3e3-3d66-41f8-9213-6b71064b02f6</div><div class=\"dictlist\">kind=job</div><div class=\"dictlist\">host=serving-tester-9t22v</div></td>\n",
       "      <td><div title=\"store://getting-started-iris-iguazio/train_test_set#bff0c3e3-3d66-41f8-9213-6b71064b02f6\">table</div></td>\n",
       "      <td><div class=\"dictlist\">addr=http://3.12.228.1:31847</div><div class=\"dictlist\">model=iris_dataset_v1</div></td>\n",
       "      <td><div class=\"dictlist\">total_tests=15</div><div class=\"dictlist\">errors=0</div><div class=\"dictlist\">match=14</div><div class=\"dictlist\">avg_latency=12695</div><div class=\"dictlist\">min_latency=11513</div><div class=\"dictlist\">max_latency=15927</div></td>\n",
       "      <td><div class=\"artifact\" onclick=\"expandPanel(this)\" paneName=\"result4a7807f4\" title=\"/files/getting-started-tutorial/pipeline/bff0c3e3-3d66-41f8-9213-6b71064b02f6/latency.html\">latency</div></td>\n",
       "    </tr>\n",
       "    <tr>\n",
       "      <td>getting-started-iris-iguazio</td>\n",
       "      <td><div title=\"552c258795b6431795c3af1ce527168d\"><a href=\"https://mlrun-ui.default-tenant.app.pzlcbitaiwad.iguazio-cd1.com/projects/getting-started-iris-iguazio/jobs/552c258795b6431795c3af1ce527168d/info\" target=\"_blank\" >...e527168d</a></div></td>\n",
       "      <td>0</td>\n",
       "      <td>Jul 26 14:30:50</td>\n",
       "      <td>completed</td>\n",
       "      <td>test</td>\n",
       "      <td><div class=\"dictlist\">v3io_user=iguazio</div><div class=\"dictlist\">owner=iguazio</div><div class=\"dictlist\">workflow=bff0c3e3-3d66-41f8-9213-6b71064b02f6</div><div class=\"dictlist\">kind=job</div><div class=\"dictlist\">host=test-k7hf2</div></td>\n",
       "      <td><div title=\"store://getting-started-iris-iguazio/train_model#bff0c3e3-3d66-41f8-9213-6b71064b02f6\">models_path</div><div title=\"store://getting-started-iris-iguazio/train_test_set#bff0c3e3-3d66-41f8-9213-6b71064b02f6\">test_set</div></td>\n",
       "      <td><div class=\"dictlist\">label_column=label</div></td>\n",
       "      <td><div class=\"dictlist\">accuracy=0.9333333333333333</div><div class=\"dictlist\">test-error=0.06666666666666667</div><div class=\"dictlist\">auc-micro=0.9733333333333334</div><div class=\"dictlist\">auc-weighted=0.9888888888888889</div><div class=\"dictlist\">f1-score=0.9137254901960784</div><div class=\"dictlist\">precision_score=0.8888888888888888</div><div class=\"dictlist\">recall_score=0.9629629629629629</div></td>\n",
       "      <td><div class=\"artifact\" onclick=\"expandPanel(this)\" paneName=\"result4a7807f4\" title=\"/files/getting-started-tutorial/pipeline/bff0c3e3-3d66-41f8-9213-6b71064b02f6/plots/confusion-matrix.html\">confusion-matrix</div><div class=\"artifact\" onclick=\"expandPanel(this)\" paneName=\"result4a7807f4\" title=\"/files/getting-started-tutorial/pipeline/bff0c3e3-3d66-41f8-9213-6b71064b02f6/plots/feature-importances.html\">feature-importances</div><div class=\"artifact\" onclick=\"expandPanel(this)\" paneName=\"result4a7807f4\" title=\"/files/getting-started-tutorial/pipeline/bff0c3e3-3d66-41f8-9213-6b71064b02f6/plots/precision-recall-multiclass.html\">precision-recall-multiclass</div><div class=\"artifact\" onclick=\"expandPanel(this)\" paneName=\"result4a7807f4\" title=\"/files/getting-started-tutorial/pipeline/bff0c3e3-3d66-41f8-9213-6b71064b02f6/plots/roc-multiclass.html\">roc-multiclass</div><div title=\"/User/getting-started-tutorial/pipeline/bff0c3e3-3d66-41f8-9213-6b71064b02f6/test_set_preds.parquet\">test_set_preds</div></td>\n",
       "    </tr>\n",
       "    <tr>\n",
       "      <td>getting-started-iris-iguazio</td>\n",
       "      <td><div title=\"8847db5baab04feb806680ed3f11a2f7\"><a href=\"https://mlrun-ui.default-tenant.app.pzlcbitaiwad.iguazio-cd1.com/projects/getting-started-iris-iguazio/jobs/8847db5baab04feb806680ed3f11a2f7/info\" target=\"_blank\" >...3f11a2f7</a></div></td>\n",
       "      <td>0</td>\n",
       "      <td>Jul 26 14:30:28</td>\n",
       "      <td>completed</td>\n",
       "      <td>summary</td>\n",
       "      <td><div class=\"dictlist\">v3io_user=iguazio</div><div class=\"dictlist\">owner=iguazio</div><div class=\"dictlist\">workflow=bff0c3e3-3d66-41f8-9213-6b71064b02f6</div><div class=\"dictlist\">kind=job</div><div class=\"dictlist\">host=summary-svnmr</div></td>\n",
       "      <td><div title=\"store://getting-started-iris-iguazio/get-data_iris_dataset#bff0c3e3-3d66-41f8-9213-6b71064b02f6\">table</div></td>\n",
       "      <td><div class=\"dictlist\">label_column=label</div></td>\n",
       "      <td></td>\n",
       "      <td><div class=\"artifact\" onclick=\"expandPanel(this)\" paneName=\"result4a7807f4\" title=\"/files/getting-started-tutorial/pipeline/bff0c3e3-3d66-41f8-9213-6b71064b02f6/plots/hist.html\">histograms</div><div class=\"artifact\" onclick=\"expandPanel(this)\" paneName=\"result4a7807f4\" title=\"/files/getting-started-tutorial/pipeline/bff0c3e3-3d66-41f8-9213-6b71064b02f6/plots/violin.html\">violin</div><div class=\"artifact\" onclick=\"expandPanel(this)\" paneName=\"result4a7807f4\" title=\"/files/getting-started-tutorial/pipeline/bff0c3e3-3d66-41f8-9213-6b71064b02f6/plots/imbalance.html\">imbalance</div><div class=\"artifact\" onclick=\"expandPanel(this)\" paneName=\"result4a7807f4\" title=\"/files/getting-started-tutorial/pipeline/bff0c3e3-3d66-41f8-9213-6b71064b02f6/plots/imbalance-weights-vec.csv\">imbalance-weights-vec</div><div class=\"artifact\" onclick=\"expandPanel(this)\" paneName=\"result4a7807f4\" title=\"/files/getting-started-tutorial/pipeline/bff0c3e3-3d66-41f8-9213-6b71064b02f6/plots/correlation-matrix.csv\">correlation-matrix</div><div class=\"artifact\" onclick=\"expandPanel(this)\" paneName=\"result4a7807f4\" title=\"/files/getting-started-tutorial/pipeline/bff0c3e3-3d66-41f8-9213-6b71064b02f6/plots/corr.html\">correlation</div></td>\n",
       "    </tr>\n",
       "    <tr>\n",
       "      <td>getting-started-iris-iguazio</td>\n",
       "      <td><div title=\"3adf06b2c5fd41d29eafc155133310c9\"><a href=\"https://mlrun-ui.default-tenant.app.pzlcbitaiwad.iguazio-cd1.com/projects/getting-started-iris-iguazio/jobs/3adf06b2c5fd41d29eafc155133310c9/info\" target=\"_blank\" >...133310c9</a></div></td>\n",
       "      <td>0</td>\n",
       "      <td>Jul 26 14:30:26</td>\n",
       "      <td>completed</td>\n",
       "      <td>train</td>\n",
       "      <td><div class=\"dictlist\">v3io_user=iguazio</div><div class=\"dictlist\">owner=iguazio</div><div class=\"dictlist\">workflow=bff0c3e3-3d66-41f8-9213-6b71064b02f6</div><div class=\"dictlist\">kind=job</div></td>\n",
       "      <td><div title=\"store://getting-started-iris-iguazio/get-data_iris_dataset#bff0c3e3-3d66-41f8-9213-6b71064b02f6\">dataset</div></td>\n",
       "      <td><div class=\"dictlist\">sample=-1</div><div class=\"dictlist\">label_column=label</div><div class=\"dictlist\">test_size=0.1</div></td>\n",
       "      <td><div class=\"dictlist\">best_iteration=1</div><div class=\"dictlist\">accuracy=0.9705882352941176</div><div class=\"dictlist\">test-error=0.029411764705882353</div><div class=\"dictlist\">auc-micro=0.9969723183391004</div><div class=\"dictlist\">auc-weighted=0.9949732620320856</div><div class=\"dictlist\">f1-score=0.9679633867276888</div><div class=\"dictlist\">precision_score=0.9666666666666667</div><div class=\"dictlist\">recall_score=0.9722222222222222</div></td>\n",
       "      <td><div title=\"/User/getting-started-tutorial/pipeline/bff0c3e3-3d66-41f8-9213-6b71064b02f6/data/1/test_set.parquet\">test_set</div><div class=\"artifact\" onclick=\"expandPanel(this)\" paneName=\"result4a7807f4\" title=\"/files/getting-started-tutorial/pipeline/bff0c3e3-3d66-41f8-9213-6b71064b02f6/model/plots/1/confusion-matrix.html\">confusion-matrix</div><div class=\"artifact\" onclick=\"expandPanel(this)\" paneName=\"result4a7807f4\" title=\"/files/getting-started-tutorial/pipeline/bff0c3e3-3d66-41f8-9213-6b71064b02f6/model/plots/1/feature-importances.html\">feature-importances</div><div class=\"artifact\" onclick=\"expandPanel(this)\" paneName=\"result4a7807f4\" title=\"/files/getting-started-tutorial/pipeline/bff0c3e3-3d66-41f8-9213-6b71064b02f6/model/plots/1/precision-recall-multiclass.html\">precision-recall-multiclass</div><div class=\"artifact\" onclick=\"expandPanel(this)\" paneName=\"result4a7807f4\" title=\"/files/getting-started-tutorial/pipeline/bff0c3e3-3d66-41f8-9213-6b71064b02f6/model/plots/1/roc-multiclass.html\">roc-multiclass</div><div title=\"/User/getting-started-tutorial/pipeline/bff0c3e3-3d66-41f8-9213-6b71064b02f6/model/1\">model</div><div class=\"artifact\" onclick=\"expandPanel(this)\" paneName=\"result4a7807f4\" title=\"/files/getting-started-tutorial/pipeline/bff0c3e3-3d66-41f8-9213-6b71064b02f6/iteration_results.csv\">iteration_results</div></td>\n",
       "    </tr>\n",
       "    <tr>\n",
       "      <td>getting-started-iris-iguazio</td>\n",
       "      <td><div title=\"4cf4bd9adbb649618b6e396d6e850721\"><a href=\"https://mlrun-ui.default-tenant.app.pzlcbitaiwad.iguazio-cd1.com/projects/getting-started-iris-iguazio/jobs/4cf4bd9adbb649618b6e396d6e850721/info\" target=\"_blank\" >...6e850721</a></div></td>\n",
       "      <td>0</td>\n",
       "      <td>Jul 26 14:30:09</td>\n",
       "      <td>completed</td>\n",
       "      <td>get-data</td>\n",
       "      <td><div class=\"dictlist\">v3io_user=iguazio</div><div class=\"dictlist\">owner=iguazio</div><div class=\"dictlist\">workflow=bff0c3e3-3d66-41f8-9213-6b71064b02f6</div><div class=\"dictlist\">kind=job</div><div class=\"dictlist\">host=get-data-k4668</div></td>\n",
       "      <td><div title=\"http://iguazio-sample-data.s3.amazonaws.com/iris_dataset.csv\">source_url</div></td>\n",
       "      <td><div class=\"dictlist\">format=pq</div></td>\n",
       "      <td></td>\n",
       "      <td><div title=\"/User/getting-started-tutorial/pipeline/bff0c3e3-3d66-41f8-9213-6b71064b02f6/data/iris_dataset.parquet\">iris_dataset</div></td>\n",
       "    </tr>\n",
       "  </tbody>\n",
       "</table>\n",
       "</div></div>\n",
       "  <div id=\"result4a7807f4-pane\" class=\"right-pane block hidden\">\n",
       "    <div class=\"pane-header\">\n",
       "      <span id=\"result4a7807f4-title\" class=\"pane-header-title\">Title</span>\n",
       "      <span onclick=\"closePanel(this)\" paneName=\"result4a7807f4\" class=\"close clickable\">&times;</span>\n",
       "    </div>\n",
       "    <iframe class=\"fileview\" id=\"result4a7807f4-body\"></iframe>\n",
       "  </div>\n",
       "</div>\n"
      ],
      "text/plain": [
       "<IPython.core.display.HTML object>"
      ]
     },
     "metadata": {},
     "output_type": "display_data"
    }
   ],
   "source": [
    "from mlrun import get_run_db\n",
    "db = get_run_db().connect()\n",
    "db.list_runs(project=project.name, labels=f'workflow={run_id}').show()"
   ]
  },
  {
   "cell_type": "markdown",
   "metadata": {},
   "source": [
    "<a id=\"gs-done\"></a>"
   ]
  },
  {
   "cell_type": "markdown",
   "metadata": {},
   "source": [
    "## Done!"
   ]
  },
  {
   "cell_type": "markdown",
   "metadata": {},
   "source": [
    "Congratulation. You've completed your first Iguazio Data Science Platform tutorial!.<br>\n",
    "To learn more, go to the **demos** tutorial-notebooks directory and check out the provided end-to-end use-case demo applications."
   ]
  }
 ],
 "metadata": {
  "kernelspec": {
   "display_name": "Python 3",
   "language": "python",
   "name": "python3"
  },
  "language_info": {
   "codemirror_mode": {
    "name": "ipython",
    "version": 3
   },
   "file_extension": ".py",
   "mimetype": "text/x-python",
   "name": "python",
   "nbconvert_exporter": "python",
   "pygments_lexer": "ipython3",
   "version": "3.7.6"
  },
  "toc-showcode": false,
  "toc-showmarkdowntxt": false
 },
 "nbformat": 4,
 "nbformat_minor": 4
}
