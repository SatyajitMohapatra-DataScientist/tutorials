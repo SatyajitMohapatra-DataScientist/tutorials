{
 "cells": [
  {
   "cell_type": "markdown",
   "metadata": {},
   "source": [
    "# Updating the Tutorial Notebooks"
   ]
  },
  {
   "cell_type": "markdown",
   "metadata": {},
   "source": [
    "You can use the provided [**igz-tutorials-get.sh**](https://github.com/v3io/tutorials/blob/master/igz-tutorials-get.sh) script to update the tutorial notebooks to the latest stable version available on [GitHub](https://github.com/v3io/tutorials/). The script copies the file and directories of latest tag corresponding to the current platform version to the **/v3io/users/&lt;username&gt;** directory, where `<username>` is the name of the running service user (`$V3IO_USERNAME`) unless you pass another username.\n",
    "\n",
    "> **Note:**\n",
    "> - Before running the script, close all GitHub tutorial files that might be updated, such as **welcome.ipynb**, **README.md**, or any of the **demo** or **data-ingestion-and-preparation** notebooks.<br>\n",
    ">   The script doesn't overwrite the current notebook (**update-tutorials.ipynb**) and the **igz-tutorials-get.sh** script nor any custom file or directory that you created.\n",
    "> - You can use the ``--dry-run` parameter to list the files that are going to be updated without overwriting the existing files.\n",
    "> - You can override the branch by spacifying the `-b` or `--branch` parameter follows by the branch name. Make sure that the updated notebooks match your version of the Iguazio Data Science Platform. If in doubt, consult the [customer-success team](mailto:support@iguazio.com)."
   ]
  },
  {
   "cell_type": "markdown",
   "metadata": {},
   "source": [
    "For full usage instructions, run the script with the `-h` or `--help` flag:"
   ]
  },
  {
   "cell_type": "code",
   "execution_count": 1,
   "metadata": {},
   "outputs": [
    {
     "name": "stdout",
     "output_type": "stream",
     "text": [
      "/User/igz-tutorials-get.sh:\n",
      "Retrieves latest-release Iguazio Data Science Platform tutorial files from the v3io/tutorials GitHub repo.\n",
      "USAGE: /User/igz-tutorials-get.sh [-b branch/tag] [<username>]\n",
      "PARAMETERS:\n",
      "  <username> - Username, which determines the directory to which to copy the files - /v3io/users/<username>.\n",
      "               Default = $V3IO_USERNAME (if set to a non-empty string)\n",
      "OPTIONS:\n",
      "  -h|--help   -  Display this message and exit.\n",
      "  -b|--branch -  Branch name (default is latest tag of current platform version).\n",
      "  --dry-run   -  Do not update the files, but rather show the pending changes.\n"
     ]
    }
   ],
   "source": [
    "!/User/igz-tutorials-get.sh -h"
   ]
  },
  {
   "cell_type": "markdown",
   "metadata": {},
   "source": [
    "To update the tutorial notebooks in your user home directory, simply run the following code:"
   ]
  },
  {
   "cell_type": "code",
   "execution_count": 2,
   "metadata": {},
   "outputs": [
    {
     "name": "stdout",
     "output_type": "stream",
     "text": [
      "Detected platform version: 2.10\n",
      "Updating Iguazio Data Science Platform tutorial files of branch v2.10.5 in '/v3io/users/iguazio' ...\n",
      "Cloning into '/v3io/users/iguazio/temp-igz-tutorials'...\n",
      "remote: Enumerating objects: 81, done.\u001b[K\n",
      "remote: Counting objects: 100% (81/81), done.\u001b[K\n",
      "remote: Compressing objects: 100% (74/74), done.\u001b[K\n",
      "remote: Total 81 (delta 10), reused 31 (delta 2), pack-reused 0\u001b[K\n",
      "Unpacking objects: 100% (81/81), done.\n",
      "Copying files to '/v3io/users/iguazio'...\n",
      "Deleting temporary '/v3io/users/iguazio/temp-igz-tutorials' directory ...\n",
      "DONE\n"
     ]
    }
   ],
   "source": [
    "!/User/igz-tutorials-get.sh"
   ]
  }
 ],
 "metadata": {
  "kernelspec": {
   "display_name": "Python 3",
   "language": "python",
   "name": "python3"
  },
  "language_info": {
   "codemirror_mode": {
    "name": "ipython",
    "version": 3
   },
   "file_extension": ".py",
   "mimetype": "text/x-python",
   "name": "python",
   "nbconvert_exporter": "python",
   "pygments_lexer": "ipython3",
   "version": "3.7.6"
  }
 },
 "nbformat": 4,
 "nbformat_minor": 4
}
