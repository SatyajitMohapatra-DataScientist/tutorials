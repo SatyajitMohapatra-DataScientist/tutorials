{
 "cells": [
  {
   "cell_type": "markdown",
   "metadata": {},
   "source": [
    "# Welcome to the Iguazio Data Science Platform\n",
    "\n",
    "An initial introduction to the Iguazio Data Science Platform and the platform tutorials"
   ]
  },
  {
   "cell_type": "markdown",
   "metadata": {},
   "source": [
    "- [Platform Overview](#platform-overview)\n",
    "- [Data Science Workflow](#data-science-workflow)\n",
    "- [The Tutorial Notebooks](#the-tutorial-notebooks)\n",
    "- [Getting-Started Tutorial](#getting-started-tutorial)\n",
    "- [End-to-End Use-Case Applications](#end-to-end-use-case-applications)\n",
    "- [Additional Platform Resources](#platform-resources)\n",
    "- [Miscellaneous](#misc)"
   ]
  },
  {
   "cell_type": "markdown",
   "metadata": {},
   "source": [
    "<a id=\"platform-overview\"></a>\n",
    "## Platform Overview\n",
    "\n",
    "The Iguazio Data Science Platform (**\"the platform\"**) is a fully integrated and secure data science platform as a service (PaaS), which simplifies development, accelerates performance, facilitates collaboration, and addresses operational challenges.\n",
    "The platform incorporates the following components:\n",
    "\n",
    "- A data science workbench that includes Jupyter Notebook, integrated analytics engines, and Python packages\n",
    "- Model management with experiments tracking and automated pipeline capabilities\n",
    "- Managed data and machine-learning (ML) services over a scalable Kubernetes cluster\n",
    "- A real-time serverless functions framework &mdash; Nuclio\n",
    "- An extremely fast and secure data layer that supports SQL, NoSQL, time-series databases, files (simple objects), and streaming\n",
    "- Integration with third-party data sources such as Amazon S3, HDFS, SQL databases, and streaming or messaging protocols\n",
    "- Real-time dashboards based on Grafana\n",
    "\n",
    "<br><img src=\"./assets/images/igz-self-service-platform.png\" alt=\"Self-service data science platform\" width=\"650\"/><br>"
   ]
  },
  {
   "cell_type": "markdown",
   "metadata": {},
   "source": [
    "<a id=\"data-science-workflow\"></a>\n",
    "## Data Science Workflow\n",
    "\n",
    "The platform provides a complete data science workflow in a single ready-to-use platform that includes all the required building blocks for creating data science applications from research to production:\n",
    "\n",
    "- Collect, explore, and label data from various real-time or offline sources\n",
    "- Run ML training and validation at scale over multiple CPUs and GPUs\n",
    "- Deploy models and applications into production with serverless functions\n",
    "- Log, monitor, and visualize all your data and services\n",
    "\n",
    "![Data Science Workflow](./assets/images/igz-data-science-workflow.gif)"
   ]
  },
  {
   "cell_type": "markdown",
   "metadata": {},
   "source": [
    "<a id=\"the-tutorial-notebooks\"></a>\n",
    "## The Tutorial Notebooks\n",
    "\n",
    "The home directory of the platform's running-user directory (**/User/&lt;running user&gt;**) contains pre-deployed tutorial Jupyter notebooks with code samples and documentation to assist you in your development &mdash; including a [**demos**](demos/README.ipynb) directory with end-to-end use-case applications (see the next section) and a [**data-ingestion-and-preparation**](data-ingestion-and-preparation/README.ipynb) directory with documentation and examples for performing data ingestion and preparation tasks.\n",
    "\n",
    "> **Note:**\n",
    "> - To view and run the tutorials from the platform, you first need to create a Jupyter Notebook service.\n",
    "> - The **welcome.ipynb** notebook and main **README.md** file provide the same introduction in different formats."
   ]
  },
  {
   "cell_type": "markdown",
   "metadata": {},
   "source": [
    "<a id=\"getting-started-tutorial\"></a>\n",
    "## Getting-Started Tutorial\n",
    "\n",
    "Start out by running the getting-started tutorial to familiarize yourself with the platform and experience firsthand some of its main capabilities.<br>\n",
    "<br>\n",
    "<a href=\"getting-started-tutorial/getting-started-tutorial.ipynb\"><img src=\"./assets/images/view-tutorial-button.png\" alt=\"View tutorial\"/></a>"
   ]
  },
  {
   "cell_type": "markdown",
   "metadata": {},
   "source": [
    "<a id=\"end-to-end-use-case-applications\"></a>\n",
    "## End-to-End Use-Case Applications\n",
    "\n",
    "Iguazio provides full end-to-end use-case applications (demos) that demonstrate how to use the platform and related tools to address data science requirements for different industries and implementations."
   ]
  },
  {
   "cell_type": "markdown",
   "metadata": {},
   "source": [
    "<a id=\"predeployed-demos\"></a>\n",
    "### Pre-Deployed Platform Demos\n",
    "\n",
    "The platform comes pre-deployed with the following end-to-end use-case demos, which are available in the [**MLRun demos repository**](https://github.com/mlrun/demos):\n",
    "\n",
    "- <a id=\"demo-sklearn-pipe\"></a>[**scikit-learn pipeline**](https://github.com/mlrun/demos/blob/master/sklearn-pipe/) &mdash; builds a full end-to-end pipeline using [scikit-learn](https://scikit-learn.org) and the UCI [Iris data set](http://archive.ics.uci.edu/ml/datasets/iris).\n",
    "- <a id=\"demo-image-classification\"></a>[**Image classification with distributed training**](https://github.com/mlrun/demos/tree/master/horovod-pipe) &mdash; implements an end-to-end image-classification solution using [TensorFlow](https://www.tensorflow.org/) (versions 1 or 2), [Keras](https://keras.io/), [Horovod](https://eng.uber.com/horovod/), and [Nuclio](https://nuclio.io/).\n",
    "- <a id=demo-face-recognition/>[**Face reconition**](https://github.com/mlrun/demos/tree/master/faces) &mdash; real-time capture, recognition, and classification of face images over a video stream, as well as location tracking of identities using [PyTorch](https://pytorch.org/), Image identification and tracking using [OpenCV](https://opencv.org/) and labeling application for tagging unidentified faces using [Streamlit](https://www.streamlit.io/)\n",
    "- <a id=demo-churn/>[**Customer churn prediction**](https://github.com/mlrun/demos/tree/master/churn) &mdash;  analyses of customer-churn data using the Kaggle [Telco Customer Churn data set](https://www.kaggle.com/blastchar/telco-customer-churn), model training and validation using [XGBoost](https://xgboost.readthedocs.io/), and model serving using real-time Nuclio serverless functions."
   ]
  },
  {
   "cell_type": "markdown",
   "metadata": {},
   "source": [
    "You can update the demos repository by running the following command"
   ]
  },
  {
   "cell_type": "code",
   "execution_count": null,
   "metadata": {},
   "outputs": [],
   "source": [
    "!git -C /User/demos pull origin"
   ]
  },
  {
   "cell_type": "markdown",
   "metadata": {},
   "source": [
    "<a id=\"additional-demos\"></a>\n",
    "### Additional Demos\n",
    "\n",
    "You can download additional demos from GitHub &mdash; for example:\n",
    "\n",
    "- <a id=\"network-operations-demo\"></a>[**Network operations**](https://github.com/mlrun/demo-network-operations) &mdash; error prediction based on network device telematry. Training pipeline to create a new model, serving with streaming and concept drift to monitor the model performance.\n",
    "- <a id=\"stocks-demo\"></a>[**Smart stock trading**](https://github.com/mlrun/demo-stocks) &mdash; reads stock-exchange data from an internet service into a time-series database (TSDB) and performs real-time market-sentiment analysis on specific stocks; the data is saved to a platform NoSQL table for generating reports and analyzing and visualizing the data on a Grafana dashboard.\n",
    "- <a id=\"model-deployment-with-streaming\"></a>[**Model deployment with streaming**](https://github.com/mlrun/demo-model-deployment-with-streaming) &mdash; deploy model and calculate features in a streaming pipeline to address low latency processing, such as 1<sup>st</sup> day churn. This demo leverages Nuclio to use the same feature calculation function in training and in serving.\n",
    "\n",
    "You can download the additional demos from their respective repositories by executing the following command:"
   ]
  },
  {
   "cell_type": "code",
   "execution_count": null,
   "metadata": {},
   "outputs": [],
   "source": [
    "# Get additional demos\n",
    "!/User/get-additional-demos.sh"
   ]
  },
  {
   "cell_type": "markdown",
   "metadata": {},
   "source": [
    "<a id=\"platform-resources\"></a>\n",
    "## Additional Platform Resources\n",
    "\n",
    "- [Introduction video](https://www.youtube.com/watch?v=8OmAN4wd7To)\n",
    "- [In-depth platform overview](platform-overview.ipynb) with a break down of the steps for developing a full data science workflow from development to production\n",
    "- [Platform components, services, and development ecosystem introduction](https://www.iguazio.com/docs/latest-release/intro/ecosystem/)\n",
    "- [References](https://iguazio.com/docs/latest-release/reference/)\n",
    "- [MLRun documentation](https://mlrun.readthedocs.io/)\n",
    "- [nuclio-jupyter SDK](https://github.com/nuclio/nuclio-jupyter/blob/master/README.md) for creating and deploying Nuclio functions with Python and Jupyter Notebook"
   ]
  },
  {
   "cell_type": "markdown",
   "metadata": {},
   "source": [
    "<a id=\"misc\"></a>\n",
    "## Miscellaneous"
   ]
  },
  {
   "cell_type": "markdown",
   "metadata": {},
   "source": [
    "<a id=\"creating-virtual-environments-in-jupyter-notebook\"></a>\n",
    "### Creating Virtual Environments in Jupyter Notebook\n",
    "\n",
    "A virtual environment is a named, isolated, working copy of Python that maintains its own files, directories, and paths so that you can work with specific versions of libraries or Python itself without affecting other Python projects.\n",
    "Virtual environments make it easy to cleanly separate projects and avoid problems with different dependencies and version requirements across components.\n",
    "See the [virtual-env](virtual-env.ipynb) tutorial notebook for step-by-step instructions for using conda to create your own Python virtual environments, which will appear as custom kernels in Jupyter Notebook."
   ]
  },
  {
   "cell_type": "markdown",
   "metadata": {},
   "source": [
    "<a id=\"update-notebooks\"></a>\n",
    "### Updating the Tutorial Notebooks to the Latest Version\n",
    "\n",
    "You can use the provided **igz-tutorials-get.sh** script to update the tutorial notebooks to the latest stable version available on [GitHub](https://github.com/v3io/tutorials/).\n",
    "For details, see the [**update-tutorials.ipynb**](update-tutorials.ipynb) notebook."
   ]
  },
  {
   "cell_type": "markdown",
   "metadata": {},
   "source": [
    "<a id=\"v3io-dir\"></a>\n",
    "### The v3io Directory\n",
    "\n",
    "The **v3io** directory that you see in the file browser of the Jupyter UI displays the contents of the `v3io` data mount for browsing the platform data containers.\n",
    "For information about the predefined data containers and data mounts and how to reference data in these containers, see [Platform Data Containers](data-ingestion-and-preparation/README.ipynb#platform-data-containers)."
   ]
  },
  {
   "cell_type": "markdown",
   "metadata": {},
   "source": [
    "<a id=\"support\"></a>\n",
    "### Support\n",
    "\n",
    "The Iguazio [support team](mailto:support@iguazio.com) will be happy to assist with any questions."
   ]
  }
 ],
 "metadata": {
  "kernelspec": {
   "display_name": "Python 3",
   "language": "python",
   "name": "python3"
  },
  "language_info": {
   "codemirror_mode": {
    "name": "ipython",
    "version": 3
   },
   "file_extension": ".py",
   "mimetype": "text/x-python",
   "name": "python",
   "nbconvert_exporter": "python",
   "pygments_lexer": "ipython3",
   "version": "3.7.7"
  }
 },
 "nbformat": 4,
 "nbformat_minor": 4
}
