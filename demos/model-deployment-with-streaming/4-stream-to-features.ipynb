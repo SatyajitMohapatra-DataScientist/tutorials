{
 "cells": [
  {
   "cell_type": "markdown",
   "metadata": {},
   "source": [
    "# 4. Stream to Features\n",
    "  --------------------------------------------------------------------"
   ]
  },
  {
   "cell_type": "markdown",
   "metadata": {},
   "source": [
    "Receive a stream of events from `enriched-events-stream`, update a set of aggregations on the data. The output data is stored to an aggregation table called `feature-table` and a new event that includes the calculated features is written to `serving-stream`\n",
    "\n",
    "![Model deployment with streaming Real-time operational Pipeline](../../assets/images/model-deployment-with-streaming.png)"
   ]
  },
  {
   "cell_type": "markdown",
   "metadata": {},
   "source": [
    "You can change the incoming events and the generated features by customizing the methods below."
   ]
  },
  {
   "cell_type": "markdown",
   "metadata": {},
   "source": [
    "## Initialize"
   ]
  },
  {
   "cell_type": "markdown",
   "metadata": {},
   "source": [
    "Load the project"
   ]
  },
  {
   "cell_type": "code",
   "execution_count": 1,
   "metadata": {},
   "outputs": [],
   "source": [
    "from mlrun import load_project\n",
    "from os import path\n",
    "\n",
    "project_path = path.abspath('conf')\n",
    "project = load_project(project_path)"
   ]
  },
  {
   "cell_type": "markdown",
   "metadata": {},
   "source": [
    "Get the enriched events stream as the input"
   ]
  },
  {
   "cell_type": "code",
   "execution_count": 2,
   "metadata": {},
   "outputs": [],
   "source": [
    "input_stream = project.params.get('STREAM_CONFIGS').get('enriched-events-stream')\n",
    "input_stream_path =  input_stream.get('path')"
   ]
  },
  {
   "cell_type": "markdown",
   "metadata": {},
   "source": [
    "Nuclio leverages consumer groups. When one or more Nuclio replicas join a consumer group, each replica receives its equal share of the shards, based on the number of replicas that are defined in the function.\n",
    "\n",
    "We set up the input stream URL below. A consumer-group URL is in the form of `http://v3io-webapi:8081/<container name>/<stream path>@<consumer group name>`. In this case we use `WEB_API_USERS` for URL prefix `http://v3io-webapi:8081/<container name>` and a consumer group named **`stream2features`**.\n",
    "\n",
    "For more information, refer to the [Nuclio v3iostream trigger reference documentation](https://nuclio.io/docs/latest/reference/triggers/v3iostream/)."
   ]
  },
  {
   "cell_type": "code",
   "execution_count": 3,
   "metadata": {},
   "outputs": [
    {
     "name": "stdout",
     "output_type": "stream",
     "text": [
      "Input stream URL: http://v3io-webapi:8081/users/iguazio/examples/model-deployment-with-streaming/data/enriched-events-stream@stream2features\n"
     ]
    }
   ],
   "source": [
    "WEB_API_USERS = project.params.get('WEB_API_USERS')\n",
    "input_stream_url = path.join(WEB_API_USERS, input_stream_path) + \"@stream2features\"\n",
    "print(f'Input stream URL: {input_stream_url}')"
   ]
  },
  {
   "cell_type": "markdown",
   "metadata": {},
   "source": [
    "Get the serving stream path, this is where we output the data"
   ]
  },
  {
   "cell_type": "code",
   "execution_count": 4,
   "metadata": {},
   "outputs": [
    {
     "name": "stdout",
     "output_type": "stream",
     "text": [
      "Output stream path: iguazio/examples/model-deployment-with-streaming/data/serving-stream\n"
     ]
    }
   ],
   "source": [
    "output_stream = project.params.get('STREAM_CONFIGS').get('serving-stream')\n",
    "output_stream_path =  output_stream.get('path')\n",
    "print(f'Output stream path: {output_stream_path}')"
   ]
  },
  {
   "cell_type": "markdown",
   "metadata": {},
   "source": [
    "## Create and Test a Local Function \n",
    "Import nuclio SDK and magics"
   ]
  },
  {
   "cell_type": "code",
   "execution_count": 5,
   "metadata": {},
   "outputs": [],
   "source": [
    "import nuclio"
   ]
  },
  {
   "cell_type": "markdown",
   "metadata": {},
   "source": [
    "#### Functions imports"
   ]
  },
  {
   "cell_type": "code",
   "execution_count": 6,
   "metadata": {},
   "outputs": [],
   "source": [
    "# nuclio: start-code"
   ]
  },
  {
   "cell_type": "code",
   "execution_count": 7,
   "metadata": {},
   "outputs": [],
   "source": [
    "import os\n",
    "import json\n",
    "import numpy as np\n",
    "from v3io import dataplane, common\n",
    "from datetime import datetime"
   ]
  },
  {
   "cell_type": "markdown",
   "metadata": {},
   "source": [
    "<b>Specify function dependencies and configuration<b>"
   ]
  },
  {
   "cell_type": "code",
   "execution_count": 8,
   "metadata": {},
   "outputs": [],
   "source": [
    "%nuclio cmd -c pip install v3io numpy"
   ]
  },
  {
   "cell_type": "code",
   "execution_count": 9,
   "metadata": {},
   "outputs": [
    {
     "name": "stdout",
     "output_type": "stream",
     "text": [
      "%nuclio: setting spec.build.baseImage to 'mlrun/ml-models'\n"
     ]
    }
   ],
   "source": [
    "%%nuclio config\n",
    "spec.build.baseImage = \"mlrun/ml-models\""
   ]
  },
  {
   "cell_type": "markdown",
   "metadata": {},
   "source": [
    "## Function code"
   ]
  },
  {
   "cell_type": "code",
   "execution_count": 10,
   "metadata": {},
   "outputs": [],
   "source": [
    "def init_context(context):\n",
    "    V3IO_ACCESS_KEY = os.getenv('V3IO_ACCESS_KEY')\n",
    "    container = os.getenv('CONTAINER')\n",
    "    feature_table_path = os.getenv('FEATURE_TABLE_PATH')\n",
    "    feature_list = os.getenv('FEATURE_LIST').strip(\"'][\").split(\"','\")\n",
    "    serving_events = os.getenv('SERVING_EVENTS').replace(' ','').strip(\"'][\").split(\"','\")\n",
    "    output_stream_path = os.getenv('OUTPUT_STREAM_PATH')    \n",
    "    partition_attr = os.getenv('PARTITION_ATTR')\n",
    "    \n",
    "    v3io_client = dataplane.Client(endpoint='http://v3io-webapi:8081', access_key=V3IO_ACCESS_KEY)\n",
    "    \n",
    "    event_handlers = {'registration': process_registration,\n",
    "                      'purchase': process_purchase,\n",
    "                      'bet': process_bet,\n",
    "                      'win': process_win}\n",
    "    \n",
    "    setattr(context, 'v3io_client', v3io_client)\n",
    "    setattr(context, 'container', container)\n",
    "    setattr(context, 'feature_table_path', feature_table_path)\n",
    "    setattr(context, 'feature_list', feature_list)\n",
    "    setattr(context, 'serving_events', serving_events)\n",
    "    setattr(context, 'output_stream_path', output_stream_path)\n",
    "    setattr(context, 'partition_attr', partition_attr)\n",
    "    setattr(context, 'event_handlers', event_handlers)\n",
    "\n",
    "def handler(context, event):\n",
    "    if type(event.body) is dict:\n",
    "        event_dict = event.body\n",
    "    else:\n",
    "        event_dict = json.loads(event.body)\n",
    "        \n",
    "    if is_relevant_event(context, event_dict):\n",
    "        event_type = get_event_type(event_dict)\n",
    "        context.logger.info(f'Incoming event type: {event_type}')\n",
    "        \n",
    "        # python switch-case\n",
    "        process_func = context.event_handlers.get(event_type)\n",
    "        context.logger.info(f'Processing event {event_dict}')\n",
    "        response = process_func(context, event_dict)\n",
    "        context.logger.info(f'Finished processing with status: {response.status_code} - and response body: {response.body} , event: {event_dict}')\n",
    "        if event_type in context.serving_events and (200 <= response.status_code < 300) :\n",
    "            context.logger.info(f'sending event for serving')\n",
    "            write_to_output_stream(context, event_dict)\n",
    "    else:\n",
    "        context.logger.info(f'Not relevant event')    \n",
    "\n",
    "        \n",
    "def get_event_type(event):\n",
    "    return event['event_type']\n",
    "\n",
    "\n",
    "def is_relevant_event(context, event):\n",
    "    return get_event_type(event) in context.event_handlers\n",
    "        \n",
    "def get_features(context, event):\n",
    "    user_id = event['user_id']\n",
    "    features_list = context.feature_list\n",
    "    resp = context.v3io_client.get_item(container=context.container, \n",
    "                                        path=common.helpers.url_join(context.feature_table_path, str(user_id)),\n",
    "                                        raise_for_status=dataplane.RaiseForStatus.never)\n",
    "    \n",
    "    feat_list = [resp.output.item.get(feat) for feat in features_list]\n",
    "    return json.dumps({'instances': np.array(feat_list).reshape(1,-1).tolist()})\n",
    "    \n",
    "def write_to_output_stream(context, event):\n",
    "    partition_key = event.get(context.partition_attr)    \n",
    "    data = get_features(context, event)\n",
    "    \n",
    "    record = {'partition_key': str(partition_key), 'data': data }\n",
    "    resp = context.v3io_client.put_records(container=context.container, \n",
    "                                           path=context.output_stream_path, \n",
    "                                           records=[record], \n",
    "                                           raise_for_status=dataplane.RaiseForStatus.never)\n",
    "    context.logger.info(f'Sent features for user: {event[\"user_id\"]} to serving stream')\n",
    "\n",
    "\n",
    "def event_time_to_ts(event_time):\n",
    "    dt = datetime.strptime(event_time,'%Y-%m-%d %H:%M:%S.%f')\n",
    "    return datetime.timestamp(dt)\n",
    "\n",
    "\n",
    "def get_sum_count_mean_var_expr(feature: str, current_value):\n",
    "    sum_str = f\"SET {feature}_sum= if_not_exists({feature}_sum, 0) + {current_value};\"\n",
    "    count_str = f\"SET {feature}_count= if_not_exists({feature}_count, 0) + 1;\"\n",
    "    delta_str = f\"SET {feature}_delta= {current_value} - if_not_exists({feature}_mean, 0);\"\n",
    "    mean_str = f\"SET {feature}_mean= if_not_exists({feature}_mean, 0) + ({feature}_delta / {feature}_count);\"\n",
    "    m2_str = f\"SET {feature}_m2= if_not_exists({feature}_m2, 0) + ({feature}_delta * ({current_value} - {feature}_mean));\"\n",
    "    var_str = f\"SET {feature}_var= {feature}_m2 / (max(2, {feature}_count)-1) ;\"\n",
    "    expression = sum_str + count_str + delta_str + mean_str + m2_str + var_str\n",
    "    return expression\n",
    "\n",
    "\n",
    "def update_features(context, user_id, expression, condition):\n",
    "    return context.v3io_client.update_item(container=context.container,\n",
    "                                          path=common.helpers.url_join(context.feature_table_path, str(user_id)),\n",
    "                                          condition=condition,\n",
    "                                          expression=expression,\n",
    "                                          raise_for_status=dataplane.RaiseForStatus.never)\n",
    "\n",
    "\n",
    "def process_registration(context, event):\n",
    "    user_id = event['user_id']\n",
    "    \n",
    "    features = {'user_id': event['user_id'],\n",
    "               'registration_date': event['event_time'],\n",
    "               'date_of_birth': event['date_of_birth'],\n",
    "               'socioeconomic_idx':  event['socioeconomic_idx'],\n",
    "               'affiliate_url': event['affiliate_url'],\n",
    "               'label': event['label']}\n",
    "    \n",
    "    response = context.v3io_client.put_item(container=context.container,\n",
    "                                       path=common.helpers.url_join(context.feature_table_path, str(user_id)),\n",
    "                                       attributes=features,\n",
    "                                       raise_for_status=dataplane.RaiseForStatus.never)\n",
    "    return response\n",
    "\n",
    "\n",
    "def process_purchase(context, event):\n",
    "    user_id = event['user_id']\n",
    "    event_time = event['event_time']\n",
    "    event_ts = event_time_to_ts(event_time)\n",
    "    \n",
    "    purchase_amount = event['amount']\n",
    "\n",
    "    first_purchase_ts_str = f\"SET first_purchase_ts=if_not_exists(first_purchase_ts, {event_ts});\"\n",
    "    sum_count_mean_var_expr = get_sum_count_mean_var_expr('purchase', purchase_amount)\n",
    "    \n",
    "    expression = first_purchase_ts_str + sum_count_mean_var_expr\n",
    "    condition = f\"exists(registration_date) AND (NOT exists(first_purchase_ts) OR first_purchase_ts >= ({event_ts} - 86400 ))\"\n",
    "    \n",
    "    return update_features(context, user_id, expression, condition)\n",
    "\n",
    "\n",
    "def process_bet(context, event):\n",
    "    user_id = event['user_id']\n",
    "    event_time = event['event_time']\n",
    "    event_ts = event_time_to_ts(event_time)\n",
    "    \n",
    "    bet_amount = event['bet_amount']\n",
    "\n",
    "    sum_count_mean_var_expr = get_sum_count_mean_var_expr('bet', bet_amount)\n",
    "    \n",
    "    expression = sum_count_mean_var_expr\n",
    "    condition = f\"first_purchase_ts >= ({event_ts} - 86400 )\"\n",
    "    \n",
    "    return update_features(context, user_id, expression, condition)\n",
    "\n",
    "\n",
    "def process_win(context, event):\n",
    "    user_id = event['user_id']\n",
    "    event_time = event['event_time']\n",
    "    event_ts = event_time_to_ts(event_time)\n",
    "    \n",
    "    win_amount = event['win_amount']\n",
    "\n",
    "    sum_count_mean_var_expr = get_sum_count_mean_var_expr('win', win_amount)\n",
    "    \n",
    "    expression = sum_count_mean_var_expr\n",
    "    condition = f\"first_purchase_ts >= ({event_ts} - 86400 )\"\n",
    "    \n",
    "    return update_features(context, user_id, expression, condition)\n"
   ]
  },
  {
   "cell_type": "markdown",
   "metadata": {},
   "source": [
    "The following end-code annotation tells ```nuclio``` to stop parsing the notebook from this cell. _**Please do not remove this cell**_:"
   ]
  },
  {
   "cell_type": "code",
   "execution_count": 11,
   "metadata": {},
   "outputs": [],
   "source": [
    "# nuclio: end-code\n",
    "# marks the end of a code section"
   ]
  },
  {
   "cell_type": "code",
   "execution_count": 12,
   "metadata": {},
   "outputs": [],
   "source": [
    "envs = {'V3IO_ACCESS_KEY': os.getenv('V3IO_ACCESS_KEY'),\n",
    "        'FEATURE_TABLE_PATH': project.params.get('FEATURE_TABLE_PATH'),\n",
    "        'SERVING_EVENTS':['bet','win'],\n",
    "        'FEATURE_LIST':['socioeconomic_idx','purchase_sum','purchase_mean','purchase_count','purchase_var','bet_sum','bet_mean','bet_count','bet_var','win_sum','win_mean','win_count','win_var'],\n",
    "        'CONTAINER': project.params.get('CONTAINER'),\n",
    "        'OUTPUT_STREAM_PATH': output_stream_path,\n",
    "        'PARTITION_ATTR': project.params.get('PARTITION_ATTR')}"
   ]
  },
  {
   "cell_type": "markdown",
   "metadata": {},
   "source": [
    "## Test locally"
   ]
  },
  {
   "cell_type": "code",
   "execution_count": 13,
   "metadata": {},
   "outputs": [
    {
     "name": "stdout",
     "output_type": "stream",
     "text": [
      "Python> 2020-08-19 18:50:29,541 [info] Incoming event type: registration\n",
      "Python> 2020-08-19 18:50:29,542 [info] Processing event {'user_id': 111111, 'affiliate_url': 'aa.biz', 'event_type': 'registration', 'postcode': 11014, 'event_time': '2020-07-20 11:00:00', 'date_of_birth': '1970-03-03', 'socioeconomic_idx': 3, 'label': 0}\n",
      "Python> 2020-08-19 18:50:29,543 [info] Finished processing with status: 200 - and response body: b'' , event: {'user_id': 111111, 'affiliate_url': 'aa.biz', 'event_type': 'registration', 'postcode': 11014, 'event_time': '2020-07-20 11:00:00', 'date_of_birth': '1970-03-03', 'socioeconomic_idx': 3, 'label': 0}\n",
      "Python> 2020-08-19 18:50:29,544 [info] Incoming event type: purchase\n",
      "Python> 2020-08-19 18:50:29,544 [info] Processing event {'user_id': 111111, 'amount': 3000, 'event_type': 'purchase', 'event_time': '2020-07-20 11:00:00.009'}\n",
      "Python> 2020-08-19 18:50:29,546 [info] Finished processing with status: 200 - and response body: b'' , event: {'user_id': 111111, 'amount': 3000, 'event_type': 'purchase', 'event_time': '2020-07-20 11:00:00.009'}\n",
      "Python> 2020-08-19 18:50:29,547 [info] Incoming event type: bet\n",
      "Python> 2020-08-19 18:50:29,547 [info] Processing event {'user_id': 111111, 'bet_amount': 300, 'event_type': 'bet', 'event_time': '2020-07-20 11:00:00.889'}\n",
      "Python> 2020-08-19 18:50:29,548 [info] Finished processing with status: 200 - and response body: b'' , event: {'user_id': 111111, 'bet_amount': 300, 'event_type': 'bet', 'event_time': '2020-07-20 11:00:00.889'}\n",
      "Python> 2020-08-19 18:50:29,548 [info] sending event for serving\n",
      "Python> 2020-08-19 18:50:29,550 [info] Sent features for user: 111111 to serving stream\n"
     ]
    }
   ],
   "source": [
    "for key, value in envs.items():\n",
    "    os.environ[key] = str(value)\n",
    "reg_event = nuclio.Event(body=b'{\"user_id\" : 111111 ,\"affiliate_url\":\"aa.biz\", \"event_type\": \"registration\", \"postcode\": 11014, \"event_time\": \"2020-07-20 11:00:00\",\"date_of_birth\": \"1970-03-03\", \"socioeconomic_idx\": 3, \"label\":0}')\n",
    "pur_event = nuclio.Event(body=b'{\"user_id\" : 111111 ,\"amount\": 3000, \"event_type\": \"purchase\", \"event_time\": \"2020-07-20 11:00:00.009\"}') \n",
    "bet_event = nuclio.Event(body=b'{\"user_id\" : 111111 ,\"bet_amount\": 300, \"event_type\": \"bet\", \"event_time\": \"2020-07-20 11:00:00.889\"}') \n",
    "init_context(context)\n",
    "handler(context, reg_event)\n",
    "handler(context, pur_event)\n",
    "handler(context, bet_event)"
   ]
  },
  {
   "cell_type": "markdown",
   "metadata": {},
   "source": [
    "# MLRun"
   ]
  },
  {
   "cell_type": "code",
   "execution_count": 14,
   "metadata": {},
   "outputs": [
    {
     "data": {
      "text/plain": [
       "<mlrun.runtimes.function.RemoteRuntime at 0x7f4f7644cd90>"
      ]
     },
     "execution_count": 14,
     "metadata": {},
     "output_type": "execute_result"
    }
   ],
   "source": [
    "from mlrun import code_to_function\n",
    "\n",
    "gen_func = code_to_function(name='features', kind = 'nuclio')\n",
    "project.set_function(gen_func)\n",
    "features = project.func('features')\n",
    "features.set_envs(envs)\n",
    "features.add_trigger('incoming', nuclio.triggers.V3IOStreamTrigger(url=input_stream_url, access_key=os.getenv('V3IO_ACCESS_KEY'), maxWorkers=10))"
   ]
  },
  {
   "cell_type": "code",
   "execution_count": 15,
   "metadata": {},
   "outputs": [],
   "source": [
    "project.save()"
   ]
  },
  {
   "cell_type": "code",
   "execution_count": 16,
   "metadata": {},
   "outputs": [
    {
     "name": "stdout",
     "output_type": "stream",
     "text": [
      "> 2020-08-19 18:50:31,481 [info] deploy started\n",
      "[nuclio] 2020-08-19 18:50:32,554 (info) Build complete\n",
      "[nuclio] 2020-08-19 18:50:36,611 (info) Function deploy complete\n",
      "[nuclio] 2020-08-19 18:50:36,616 done creating model-deployment-with-streaming-iguazio-features, function address: 3.131.87.251:30387\n"
     ]
    },
    {
     "data": {
      "text/plain": [
       "'http://3.131.87.251:30387'"
      ]
     },
     "execution_count": 16,
     "metadata": {},
     "output_type": "execute_result"
    }
   ],
   "source": [
    "features.deploy()"
   ]
  }
 ],
 "metadata": {
  "kernelspec": {
   "display_name": "Python [conda env:root] *",
   "language": "python",
   "name": "conda-root-py"
  },
  "language_info": {
   "codemirror_mode": {
    "name": "ipython",
    "version": 3
   },
   "file_extension": ".py",
   "mimetype": "text/x-python",
   "name": "python",
   "nbconvert_exporter": "python",
   "pygments_lexer": "ipython3",
   "version": "3.7.6"
  }
 },
 "nbformat": 4,
 "nbformat_minor": 4
}
