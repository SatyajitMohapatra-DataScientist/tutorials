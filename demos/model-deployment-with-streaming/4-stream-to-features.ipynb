{
 "cells": [
  {
   "cell_type": "markdown",
   "metadata": {},
   "source": [
    "# 4. Stream to Features\n",
    "  --------------------------------------------------------------------"
   ]
  },
  {
   "cell_type": "markdown",
   "metadata": {},
   "source": [
    "Receive a stream of events from `enriched-events-stream`, update a set of aggregations on the data. The output data is stored to an aggregation table called `feature-table` and a new event that includes the calculated features is written to `serving-stream`\n",
    "\n",
    "![Model deployment with streaming Real-time operational Pipeline](../../assets/images/model-deployment-with-streaming.png)"
   ]
  },
  {
   "cell_type": "markdown",
   "metadata": {},
   "source": [
    "You can change the incoming events and the generated features by customizing the methods below."
   ]
  },
  {
   "cell_type": "markdown",
   "metadata": {},
   "source": [
    "## Create and Test a Local Function \n",
    "Import nuclio SDK and magics, <b>do not remove the cell and comment !!!</b>"
   ]
  },
  {
   "cell_type": "code",
   "execution_count": null,
   "metadata": {},
   "outputs": [],
   "source": [
    "# nuclio: ignore\n",
    "import nuclio"
   ]
  },
  {
   "cell_type": "code",
   "execution_count": null,
   "metadata": {},
   "outputs": [],
   "source": [
    "%run config.py"
   ]
  },
  {
   "cell_type": "code",
   "execution_count": null,
   "metadata": {},
   "outputs": [],
   "source": [
    "import os\n",
    "input_stream_url = path.join(WEB_API_USERS, STREAM_CONFIGS['enriched-events-stream']['path']) + \"@stream2features\"\n"
   ]
  },
  {
   "cell_type": "markdown",
   "metadata": {},
   "source": [
    "#### Functions imports"
   ]
  },
  {
   "cell_type": "code",
   "execution_count": null,
   "metadata": {},
   "outputs": [],
   "source": [
    "# nuclio: start-code"
   ]
  },
  {
   "cell_type": "code",
   "execution_count": null,
   "metadata": {},
   "outputs": [],
   "source": [
    "import os\n",
    "import json\n",
    "import numpy as np\n",
    "from v3io import dataplane, common\n",
    "from datetime import datetime"
   ]
  },
  {
   "cell_type": "markdown",
   "metadata": {},
   "source": [
    "<b>Specify function dependencies and configuration<b>"
   ]
  },
  {
   "cell_type": "code",
   "execution_count": null,
   "metadata": {},
   "outputs": [],
   "source": [
    "%nuclio cmd -c pip install v3io numpy"
   ]
  },
  {
   "cell_type": "code",
   "execution_count": null,
   "metadata": {},
   "outputs": [],
   "source": [
    "%%nuclio config\n",
    "spec.build.baseImage = \"mlrun/ml-models\"\n"
   ]
  },
  {
   "cell_type": "markdown",
   "metadata": {},
   "source": [
    "## Function code"
   ]
  },
  {
   "cell_type": "code",
   "execution_count": null,
   "metadata": {},
   "outputs": [],
   "source": [
    "def init_context(context):\n",
    "    V3IO_ACCESS_KEY = os.getenv('V3IO_ACCESS_KEY')\n",
    "    CONTAINER = os.getenv('CONTAINER')\n",
    "    FEATURE_TABLE_PATH = os.getenv('FEATURE_TABLE_PATH')\n",
    "    FEATURE_LIST = os.getenv('FEATURE_LIST').strip(\"'][\").split(\"','\")\n",
    "    SERVING_EVENTS = os.getenv('SERVING_EVENTS').replace(' ','').strip(\"'][\").split(\"','\")\n",
    "    OUTPUT_STREAM_PATH = os.getenv('MDWS_S2F_OUTPUT_STREAM_PATH')    \n",
    "    PARTITION_ATTR = os.getenv('MDWS_PARTITION_ATTR')\n",
    "    \n",
    "    v3io_client = dataplane.Client(endpoint='http://v3io-webapi:8081', access_key=V3IO_ACCESS_KEY)\n",
    "    \n",
    "    event_handlers = {'registration': process_registration,\n",
    "                      'purchase': process_purchase,\n",
    "                      'bet': process_bet,\n",
    "                      'win': process_win}\n",
    "    \n",
    "    setattr(context, 'v3io_client', v3io_client)\n",
    "    setattr(context, 'container', CONTAINER)\n",
    "    setattr(context, 'feature_table_path', FEATURE_TABLE_PATH)\n",
    "    setattr(context, 'feature_list', FEATURE_LIST)\n",
    "    setattr(context, 'serving_events', SERVING_EVENTS)\n",
    "    setattr(context, 'output_stream_path', OUTPUT_STREAM_PATH)\n",
    "    setattr(context, 'partition_attr', PARTITION_ATTR)\n",
    "    setattr(context, 'event_handlers', event_handlers)\n",
    "\n",
    "def handler(context, event):\n",
    "    if type(event.body) is dict:\n",
    "        event_dict = event.body\n",
    "    else:\n",
    "        event_dict = json.loads(event.body)\n",
    "        \n",
    "    if is_relevant_event(context, event_dict):\n",
    "        event_type = get_event_type(event_dict)\n",
    "        context.logger.info(f'Incoming event type: {event_type}')\n",
    "        \n",
    "        # python switch-case\n",
    "        process_func = context.event_handlers.get(event_type)\n",
    "        context.logger.info(f'Processing event {event_dict}')\n",
    "        response = process_func(context, event_dict)\n",
    "        context.logger.info(f'Finished processing with status: {response.status_code} - and response body: {response.body} , event: {event_dict}')\n",
    "        if event_type in context.serving_events and (200 <= response.status_code < 300) :\n",
    "            context.logger.info(f'sending event for serving')\n",
    "            write_to_output_stream(context, event_dict)\n",
    "    else:\n",
    "        context.logger.info(f'Not relevant event')    \n",
    "\n",
    "        \n",
    "def get_event_type(event):\n",
    "    return event['event_type']\n",
    "\n",
    "\n",
    "def is_relevant_event(context, event):\n",
    "    return get_event_type(event) in context.event_handlers\n",
    "        \n",
    "def get_features(context, event):\n",
    "    user_id = event['user_id']\n",
    "    features_list = context.feature_list\n",
    "    resp = context.v3io_client.get_item(container=context.container, \n",
    "                                        path=common.helpers.url_join(context.feature_table_path, str(user_id)),\n",
    "                                        raise_for_status=dataplane.RaiseForStatus.never)\n",
    "    \n",
    "    feat_list = [resp.output.item.get(feat) for feat in features_list]\n",
    "    return json.dumps({'instances': np.array(feat_list).reshape(1,-1).tolist()})\n",
    "    \n",
    "def write_to_output_stream(context, event):\n",
    "    partition_key = event.get(context.partition_attr)    \n",
    "    data = get_features(context, event)\n",
    "    \n",
    "    record = {'partition_key': str(partition_key), 'data': data }\n",
    "    resp = context.v3io_client.put_records(container=context.container, \n",
    "                                           path=context.output_stream_path, \n",
    "                                           records=[record], \n",
    "                                           raise_for_status=dataplane.RaiseForStatus.never)\n",
    "    context.logger.info(f'Sent features for user: {event[\"user_id\"]} to serving stream')\n",
    "\n",
    "\n",
    "def event_time_to_ts(event_time):\n",
    "    dt = datetime.strptime(event_time,'%Y-%m-%d %H:%M:%S.%f')\n",
    "    return datetime.timestamp(dt)\n",
    "\n",
    "\n",
    "def get_sum_count_mean_var_expr(feature: str, current_value):\n",
    "    sum_str = f\"SET {feature}_sum= if_not_exists({feature}_sum, 0) + {current_value};\"\n",
    "    count_str = f\"SET {feature}_count= if_not_exists({feature}_count, 0) + 1;\"\n",
    "    delta_str = f\"SET {feature}_delta= {current_value} - if_not_exists({feature}_mean, 0);\"\n",
    "    mean_str = f\"SET {feature}_mean= if_not_exists({feature}_mean, 0) + ({feature}_delta / {feature}_count);\"\n",
    "    m2_str = f\"SET {feature}_m2= if_not_exists({feature}_m2, 0) + ({feature}_delta * ({current_value} - {feature}_mean));\"\n",
    "    var_str = f\"SET {feature}_var= {feature}_m2 / (max(2, {feature}_count)-1) ;\"\n",
    "    expression = sum_str + count_str + delta_str + mean_str + m2_str + var_str\n",
    "    return expression\n",
    "\n",
    "\n",
    "def update_features(context, user_id, expression, condition):\n",
    "    return context.v3io_client.update_item(container=context.container,\n",
    "                                          path=common.helpers.url_join(context.feature_table_path, str(user_id)),\n",
    "                                          condition=condition,\n",
    "                                          expression=expression,\n",
    "                                          raise_for_status=dataplane.RaiseForStatus.never)\n",
    "\n",
    "\n",
    "def process_registration(context, event):\n",
    "    user_id = event['user_id']\n",
    "    \n",
    "    features = {'user_id': event['user_id'],\n",
    "               'registration_date': event['event_time'],\n",
    "               'date_of_birth': event['date_of_birth'],\n",
    "               'socioeconomic_idx':  event['socioeconomic_idx'],\n",
    "               'affiliate_url': event['affiliate_url'],\n",
    "               'label': event['label']}\n",
    "    \n",
    "    response = context.v3io_client.put_item(container=context.container,\n",
    "                                       path=common.helpers.url_join(context.feature_table_path, str(user_id)),\n",
    "                                       attributes=features,\n",
    "                                       raise_for_status=dataplane.RaiseForStatus.never)\n",
    "    return response\n",
    "\n",
    "\n",
    "def process_purchase(context, event):\n",
    "    user_id = event['user_id']\n",
    "    event_time = event['event_time']\n",
    "    event_ts = event_time_to_ts(event_time)\n",
    "    \n",
    "    purchase_amount = event['amount']\n",
    "\n",
    "    first_purchase_ts_str = f\"SET first_purchase_ts=if_not_exists(first_purchase_ts, {event_ts});\"\n",
    "    sum_count_mean_var_expr = get_sum_count_mean_var_expr('purchase', purchase_amount)\n",
    "    \n",
    "    expression = first_purchase_ts_str + sum_count_mean_var_expr\n",
    "    condition = f\"exists(registration_date) AND (NOT exists(first_purchase_ts) OR first_purchase_ts >= ({event_ts} - 86400 ))\"\n",
    "    \n",
    "    return update_features(context, user_id, expression, condition)\n",
    "\n",
    "\n",
    "def process_bet(context, event):\n",
    "    user_id = event['user_id']\n",
    "    event_time = event['event_time']\n",
    "    event_ts = event_time_to_ts(event_time)\n",
    "    \n",
    "    bet_amount = event['bet_amount']\n",
    "\n",
    "    sum_count_mean_var_expr = get_sum_count_mean_var_expr('bet', bet_amount)\n",
    "    \n",
    "    expression = sum_count_mean_var_expr\n",
    "    condition = f\"first_purchase_ts >= ({event_ts} - 86400 )\"\n",
    "    \n",
    "    return update_features(context, user_id, expression, condition)\n",
    "\n",
    "\n",
    "def process_win(context, event):\n",
    "    user_id = event['user_id']\n",
    "    event_time = event['event_time']\n",
    "    event_ts = event_time_to_ts(event_time)\n",
    "    \n",
    "    win_amount = event['win_amount']\n",
    "\n",
    "    sum_count_mean_var_expr = get_sum_count_mean_var_expr('win', win_amount)\n",
    "    \n",
    "    expression = sum_count_mean_var_expr\n",
    "    condition = f\"first_purchase_ts >= ({event_ts} - 86400 )\"\n",
    "    \n",
    "    return update_features(context, user_id, expression, condition)\n"
   ]
  },
  {
   "cell_type": "markdown",
   "metadata": {},
   "source": [
    "The following end-code annotation tells ```nuclio``` to stop parsing the notebook from this cell. _**Please do not remove this cell**_:"
   ]
  },
  {
   "cell_type": "code",
   "execution_count": null,
   "metadata": {},
   "outputs": [],
   "source": [
    "# nuclio: end-code\n",
    "# marks the end of a code section"
   ]
  },
  {
   "cell_type": "markdown",
   "metadata": {},
   "source": [
    "## Test locally"
   ]
  },
  {
   "cell_type": "code",
   "execution_count": null,
   "metadata": {},
   "outputs": [],
   "source": [
    "reg_event = nuclio.Event(body=b'{\"user_id\" : 111111 ,\"affiliate_url\":\"aa.biz\", \"event_type\": \"registration\", \"postcode\": 11014, \"event_time\": \"2020-07-20 11:00:00\",\"date_of_birth\": \"1970-03-03\", \"socioeconomic_idx\": 3, \"label\":0}')\n",
    "pur_event = nuclio.Event(body=b'{\"user_id\" : 111111 ,\"amount\": 3000, \"event_type\": \"purchase\", \"event_time\": \"2020-07-20 11:00:00.009\"}') \n",
    "bet_event = nuclio.Event(body=b'{\"user_id\" : 111111 ,\"bet_amount\": 300, \"event_type\": \"bet\", \"event_time\": \"2020-07-20 11:00:00.889\"}') \n",
    "init_context(context)\n",
    "handler(context, reg_event)\n",
    "handler(context, pur_event)\n",
    "handler(context, bet_event)"
   ]
  },
  {
   "cell_type": "markdown",
   "metadata": {},
   "source": [
    "# MLRUN"
   ]
  },
  {
   "cell_type": "code",
   "execution_count": null,
   "metadata": {},
   "outputs": [],
   "source": [
    "%store -r project_name\n",
    "%store -r project_path\n",
    "%store -r artifact_path\n",
    "%store -r project"
   ]
  },
  {
   "cell_type": "code",
   "execution_count": null,
   "metadata": {},
   "outputs": [],
   "source": [
    "from mlrun import code_to_function\n",
    "\n",
    "gen_func = code_to_function(name='features', kind = 'nuclio')\n",
    "project.set_function(gen_func)\n",
    "features = project.func('features')\n",
    "features.set_envs({'FEATURE_TABLE_PATH':FEATURE_TABLE_PATH,'SERVING_EVENTS':['bet','win'],'FEATURE_LIST':['socioeconomic_idx','purchase_sum','purchase_mean','purchase_count','purchase_var','bet_sum','bet_mean','bet_count','bet_var','win_sum','win_mean','win_count','win_var'],'V3IO_ACCESS_KEY': V3IO_ACCESS_KEY, 'CONTAINER': \"users\", 'MDWS_S2F_OUTPUT_STREAM_PATH': STREAM_CONFIGS['serving-stream']['path'], 'MDWS_PARTITION_ATTR':PARTITION_ATTR,'SHARDS_COUNT':8, })\n",
    "features.add_trigger('incoming', nuclio.triggers.V3IOStreamTrigger(url=input_stream_url, access_key=V3IO_ACCESS_KEY,maxWorkers=10))\n"
   ]
  },
  {
   "cell_type": "code",
   "execution_count": null,
   "metadata": {},
   "outputs": [],
   "source": [
    "features.deploy()"
   ]
  }
 ],
 "metadata": {
  "kernelspec": {
   "display_name": "Python [conda env:root] *",
   "language": "python",
   "name": "conda-root-py"
  },
  "language_info": {
   "codemirror_mode": {
    "name": "ipython",
    "version": 3
   },
   "file_extension": ".py",
   "mimetype": "text/x-python",
   "name": "python",
   "nbconvert_exporter": "python",
   "pygments_lexer": "ipython3",
   "version": "3.6.8"
  }
 },
 "nbformat": 4,
 "nbformat_minor": 4
}
