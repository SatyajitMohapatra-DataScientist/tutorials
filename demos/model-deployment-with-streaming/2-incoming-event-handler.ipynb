{
 "cells": [
  {
   "cell_type": "markdown",
   "metadata": {},
   "source": [
    "# 2. Incoming Event Handler\n",
    "  --------------------------------------------------------------------"
   ]
  },
  {
   "cell_type": "markdown",
   "metadata": {},
   "source": [
    "Handle incoming events and write them to an output V3IO Stream `incoming-events-stream`.\n",
    "The received data is partitioned by `user_id`.\n",
    "\n",
    "![Model deployment with streaming Real-time operational Pipeline](../../assets/images/model-deployment-with-streaming.png)\n",
    "\n",
    "The rest of the notebooks rely on the output stream of this notebook. Therefore, one can change the input data without affecting the rest of the workflow."
   ]
  },
  {
   "cell_type": "markdown",
   "metadata": {},
   "source": [
    "## Create and Test a Local Function \n",
    "Import nuclio SDK and magics, <b>do not remove the cell and comment !!!</b>"
   ]
  },
  {
   "cell_type": "code",
   "execution_count": null,
   "metadata": {},
   "outputs": [],
   "source": [
    "# nuclio: ignore\n",
    "import nuclio"
   ]
  },
  {
   "cell_type": "code",
   "execution_count": null,
   "metadata": {},
   "outputs": [],
   "source": [
    "%run config.py"
   ]
  },
  {
   "cell_type": "code",
   "execution_count": null,
   "metadata": {},
   "outputs": [],
   "source": [
    "print(PARTITION_ATTR)"
   ]
  },
  {
   "cell_type": "code",
   "execution_count": null,
   "metadata": {},
   "outputs": [],
   "source": [
    "import os\n",
    "MDWS_EH_OUTPUT_STREAM_PATH = STREAM_CONFIGS['incoming-events-stream']['path']\n",
    "input_stream_url = path.join(WEB_API_USERS, STREAM_CONFIGS['generated-stream']['path']) + \"@incomingeventhandler\""
   ]
  },
  {
   "cell_type": "code",
   "execution_count": null,
   "metadata": {},
   "outputs": [],
   "source": [
    "# nuclio: start-code"
   ]
  },
  {
   "cell_type": "markdown",
   "metadata": {},
   "source": [
    "#### Functions imports"
   ]
  },
  {
   "cell_type": "code",
   "execution_count": null,
   "metadata": {},
   "outputs": [],
   "source": [
    "import v3io.dataplane"
   ]
  },
  {
   "cell_type": "markdown",
   "metadata": {},
   "source": [
    "<b>Specify function dependencies and configuration<b>"
   ]
  },
  {
   "cell_type": "code",
   "execution_count": null,
   "metadata": {},
   "outputs": [],
   "source": [
    "%nuclio cmd -c pip install v3io"
   ]
  },
  {
   "cell_type": "code",
   "execution_count": null,
   "metadata": {},
   "outputs": [],
   "source": [
    "%%nuclio config\n",
    "spec.build.baseImage = \"mlrun/ml-models\""
   ]
  },
  {
   "cell_type": "markdown",
   "metadata": {},
   "source": [
    "## Function code"
   ]
  },
  {
   "cell_type": "code",
   "execution_count": null,
   "metadata": {},
   "outputs": [],
   "source": [
    "import os\n",
    "import json\n",
    "def init_context(context):\n",
    "    V3IO_ACCESS_KEY = os.getenv('V3IO_ACCESS_KEY')\n",
    "    CONTAINER = os.getenv('CONTAINER')\n",
    "    OUTPUT_STREAM_PATH = os.getenv('MDWS_EH_OUTPUT_STREAM_PATH')\n",
    "    PARTITION_ATTR = os.getenv('MDWS_PARTITION_ATTR')\n",
    "    WEB_API = os.getenv('WEB_API')\n",
    "    v3io_client = v3io.dataplane.Client(endpoint=WEB_API, access_key=V3IO_ACCESS_KEY)\n",
    "\n",
    "    setattr(context, 'v3io_client', v3io_client)\n",
    "    setattr(context, 'partition_attr', PARTITION_ATTR)\n",
    "    setattr(context, 'container', CONTAINER)\n",
    "    setattr(context, 'output_stream_path', OUTPUT_STREAM_PATH)\n",
    "\n",
    "\n",
    "def handler(context, event):\n",
    "    if type(event.body) is dict:\n",
    "        event_dict = event.body\n",
    "    else:\n",
    "        event_dict = json.loads(event.body)\n",
    "        \n",
    "    context.logger.info_with('Got invoked',\n",
    "                             trigger_kind=event.trigger.kind,\n",
    "                             event_body=event_dict)\n",
    "        \n",
    "    partition_key = event_dict.get(context.partition_attr)\n",
    "    record = event_to_record(event_dict, partition_key)\n",
    "    \n",
    "    print(\"saasasas\" + context.output_stream_path)\n",
    "    resp = context.v3io_client.put_records(container=context.container, \n",
    "                                   path=context.output_stream_path, \n",
    "                                   records=[record], \n",
    "                                   raise_for_status=v3io.dataplane.RaiseForStatus.never)\n",
    "    \n",
    "    context.logger.info_with('Sent event to stream', \n",
    "                             record=record,\n",
    "                             response_status=resp.status_code, \n",
    "                             response_body=resp.body.decode('utf-8'))\n",
    "    \n",
    "    return resp.status_code\n",
    "\n",
    "\n",
    "def event_to_record(event_dict, partition_key):\n",
    "    event_str = json.dumps(event_dict)\n",
    "    return {'data': event_str, 'partition_key': str(partition_key)}"
   ]
  },
  {
   "cell_type": "markdown",
   "metadata": {},
   "source": [
    "The following end-code annotation tells ```nuclio``` to stop parsing the notebook from this cell. _**Please do not remove this cell**_:"
   ]
  },
  {
   "cell_type": "code",
   "execution_count": null,
   "metadata": {},
   "outputs": [],
   "source": [
    "# nuclio: end-code\n",
    "# marks the end of a code section"
   ]
  },
  {
   "cell_type": "markdown",
   "metadata": {},
   "source": [
    "## Test locally"
   ]
  },
  {
   "cell_type": "code",
   "execution_count": null,
   "metadata": {},
   "outputs": [],
   "source": [
    "event = nuclio.Event(body=b'{\"user_id\" : 111111 , \"event_type\": \"spin\"}')\n",
    "init_context(context)\n",
    "handler(context, event)"
   ]
  },
  {
   "cell_type": "markdown",
   "metadata": {},
   "source": [
    "# MLRUN"
   ]
  },
  {
   "cell_type": "code",
   "execution_count": null,
   "metadata": {},
   "outputs": [],
   "source": [
    "%store -r project_name\n",
    "%store -r project_path\n",
    "%store -r artifact_path\n",
    "%store -r project"
   ]
  },
  {
   "cell_type": "code",
   "execution_count": null,
   "metadata": {},
   "outputs": [],
   "source": [
    "from mlrun import code_to_function\n",
    "\n",
    "gen_func = code_to_function(name='incoming', kind = 'nuclio')\n",
    "project.set_function(gen_func)\n",
    "incoming_event_handler = project.func('incoming')\n",
    "incoming_event_handler.set_envs({'WEB_API' : WEB_API, 'V3IO_ACCESS_KEY': V3IO_ACCESS_KEY, 'CONTAINER': \"users\", 'MDWS_EH_OUTPUT_STREAM_PATH':MDWS_EH_OUTPUT_STREAM_PATH, 'MDWS_PARTITION_ATTR':PARTITION_ATTR})\n",
    "incoming_event_handler.add_trigger('incoming', nuclio.triggers.V3IOStreamTrigger(url=input_stream_url, access_key=V3IO_ACCESS_KEY,maxWorkers=10))\n"
   ]
  },
  {
   "cell_type": "code",
   "execution_count": null,
   "metadata": {},
   "outputs": [],
   "source": [
    "#Build image\n",
    "incoming_event_handler.deploy()"
   ]
  }
 ],
 "metadata": {
  "kernelspec": {
   "display_name": "Python [conda env:root] *",
   "language": "python",
   "name": "conda-root-py"
  },
  "language_info": {
   "codemirror_mode": {
    "name": "ipython",
    "version": 3
   },
   "file_extension": ".py",
   "mimetype": "text/x-python",
   "name": "python",
   "nbconvert_exporter": "python",
   "pygments_lexer": "ipython3",
   "version": "3.6.8"
  }
 },
 "nbformat": 4,
 "nbformat_minor": 4
}
