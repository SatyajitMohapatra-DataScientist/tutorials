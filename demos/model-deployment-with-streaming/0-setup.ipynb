{
 "cells": [
  {
   "cell_type": "markdown",
   "metadata": {},
   "source": [
    "# 0. Setup"
   ]
  },
  {
   "cell_type": "markdown",
   "metadata": {},
   "source": [
    "Create an MLRun project and the streams relevant for our scenario.\n",
    "\n",
    "![Model deployment with streaming Real-time operational Pipeline](../../assets/images/model-deployment-with-streaming.png)"
   ]
  },
  {
   "cell_type": "markdown",
   "metadata": {},
   "source": [
    "### Load configurations"
   ]
  },
  {
   "cell_type": "code",
   "execution_count": 1,
   "metadata": {},
   "outputs": [],
   "source": [
    "import v3io.dataplane"
   ]
  },
  {
   "cell_type": "code",
   "execution_count": 2,
   "metadata": {},
   "outputs": [],
   "source": [
    "%run config.py"
   ]
  },
  {
   "cell_type": "markdown",
   "metadata": {},
   "source": [
    "## Create V3IO Client"
   ]
  },
  {
   "cell_type": "code",
   "execution_count": 3,
   "metadata": {},
   "outputs": [],
   "source": [
    "v3io_client = v3io.dataplane.Client(endpoint='http://v3io-webapi:8081', access_key=V3IO_ACCESS_KEY)"
   ]
  },
  {
   "cell_type": "markdown",
   "metadata": {},
   "source": [
    "## Manage Streams"
   ]
  },
  {
   "cell_type": "markdown",
   "metadata": {},
   "source": [
    "#### Delete all streams"
   ]
  },
  {
   "cell_type": "code",
   "execution_count": 4,
   "metadata": {},
   "outputs": [
    {
     "name": "stdout",
     "output_type": "stream",
     "text": [
      "Delete Stream call for stream generated-stream returned with status 204, and content: \n",
      "Delete Stream call for stream incoming-events-stream returned with status 204, and content: \n",
      "Delete Stream call for stream enriched-events-stream returned with status 204, and content: \n",
      "Delete Stream call for stream serving-stream returned with status 204, and content: \n",
      "Delete Stream call for stream inference-stream returned with status 204, and content: \n"
     ]
    }
   ],
   "source": [
    "for stream_name, stream_config in STREAM_CONFIGS.items():\n",
    "    resp = v3io_client.delete_stream(container=CONTAINER, path=stream_config['path'], \n",
    "                                     raise_for_status=v3io.dataplane.RaiseForStatus.never)\n",
    "    print(f'Delete Stream call for stream {stream_name} returned with status {resp.status_code}, and content: {resp.body.decode(\"utf-8\")}')"
   ]
  },
  {
   "cell_type": "markdown",
   "metadata": {},
   "source": [
    "#### Create all streams"
   ]
  },
  {
   "cell_type": "code",
   "execution_count": 5,
   "metadata": {},
   "outputs": [
    {
     "name": "stdout",
     "output_type": "stream",
     "text": [
      "michaelk/examples/model-deployment-with-streaming/data/generated-stream\n",
      "Create Stream call for stream generated-stream returned with status 204, and content: \n",
      "michaelk/examples/model-deployment-with-streaming/data/incoming-events-stream\n",
      "Create Stream call for stream incoming-events-stream returned with status 204, and content: \n",
      "michaelk/examples/model-deployment-with-streaming/data/enriched-events-stream\n",
      "Create Stream call for stream enriched-events-stream returned with status 204, and content: \n",
      "michaelk/examples/model-deployment-with-streaming/data/serving-stream\n",
      "Create Stream call for stream serving-stream returned with status 204, and content: \n",
      "michaelk/examples/model-deployment-with-streaming/data/inference-stream\n",
      "Create Stream call for stream inference-stream returned with status 204, and content: \n"
     ]
    }
   ],
   "source": [
    "for stream_name, stream_config in STREAM_CONFIGS.items():\n",
    "    print(stream_config['path'])\n",
    "    resp = v3io_client.create_stream(container=CONTAINER,\n",
    "                                     path=stream_config['path'],\n",
    "                                     shard_count=stream_config['shard_count'],\n",
    "                                    raise_for_status=v3io.dataplane.RaiseForStatus.never)\n",
    "    print(f'Create Stream call for stream {stream_name} returned with status {resp.status_code}, and content: {resp.body.decode(\"utf-8\")}')"
   ]
  },
  {
   "cell_type": "code",
   "execution_count": null,
   "metadata": {},
   "outputs": [],
   "source": []
  }
 ],
 "metadata": {
  "kernelspec": {
   "display_name": "Python 3",
   "language": "python",
   "name": "python3"
  },
  "language_info": {
   "codemirror_mode": {
    "name": "ipython",
    "version": 3
   },
   "file_extension": ".py",
   "mimetype": "text/x-python",
   "name": "python",
   "nbconvert_exporter": "python",
   "pygments_lexer": "ipython3",
   "version": "3.6.8"
  }
 },
 "nbformat": 4,
 "nbformat_minor": 4
}
