{
 "cells": [
  {
   "cell_type": "markdown",
   "metadata": {},
   "source": [
    "# Parquet Generator"
   ]
  },
  {
   "cell_type": "code",
   "execution_count": 8,
   "metadata": {},
   "outputs": [],
   "source": [
    "import nuclio\n",
    "import os"
   ]
  },
  {
   "cell_type": "code",
   "execution_count": 2,
   "metadata": {},
   "outputs": [
    {
     "name": "stdout",
     "output_type": "stream",
     "text": [
      "%nuclio: setting 'BATCH_SIZE' environment variable\n",
      "%nuclio: setting 'TARGET_PATH' environment variable\n",
      "%nuclio: setting 'FILE_NAME' environment variable\n",
      "%nuclio: setting 'OUTPUT_STREAM_PATH' environment variable\n",
      "%nuclio: setting 'SHARDS_COUNT' environment variable\n",
      "%nuclio: setting 'SHARD_KEY' environment variable\n",
      "%nuclio: setting 'V3IO_ACCESS_KEY' environment variable\n"
     ]
    }
   ],
   "source": [
    "%nuclio env BATCH_SIZE = 1024\n",
    "%nuclio env TARGET_PATH = /v3io/bigdata/rapid-prototype/events-pq-arthur\n",
    "%nuclio env FILE_NAME = test_arthur\n",
    "%nuclio env OUTPUT_STREAM_PATH = ${V3IO_USERNAME}/examples/rapid-prototype/enriched-events-stream\n",
    "%nuclio env SHARDS_COUNT = 8\n",
    "%nuclio env SHARD_KEY = user_id\n",
    "%nuclio env V3IO_ACCESS_KEY = ${V3IO_ACCESS_KEY}\n",
    "\n",
    "\n",
    "#optional %nuclio env PQ_PARTITIONS = part1,part2"
   ]
  },
  {
   "cell_type": "code",
   "execution_count": 3,
   "metadata": {},
   "outputs": [
    {
     "name": "stdout",
     "output_type": "stream",
     "text": [
      "%nuclio: setting kind to 'nuclio'\n"
     ]
    }
   ],
   "source": [
    "# Define function spec\n",
    "%nuclio config kind = \"nuclio\""
   ]
  },
  {
   "cell_type": "code",
   "execution_count": 4,
   "metadata": {},
   "outputs": [
    {
     "name": "stdout",
     "output_type": "stream",
     "text": [
      "Requirement already satisfied: pandas in /conda/lib/python3.6/site-packages (1.0.1)\n",
      "Requirement already satisfied: python-dateutil>=2.6.1 in /conda/lib/python3.6/site-packages (from pandas) (2.8.1)\n",
      "Requirement already satisfied: pytz>=2017.2 in /conda/lib/python3.6/site-packages (from pandas) (2019.3)\n",
      "Requirement already satisfied: numpy>=1.13.3 in /conda/lib/python3.6/site-packages (from pandas) (1.18.1)\n",
      "Requirement already satisfied: six>=1.5 in /conda/lib/python3.6/site-packages (from python-dateutil>=2.6.1->pandas) (1.14.0)\n",
      "Requirement already satisfied: pyarrow in /conda/lib/python3.6/site-packages (0.16.0)\n",
      "Requirement already satisfied: numpy>=1.14 in /conda/lib/python3.6/site-packages (from pyarrow) (1.18.1)\n",
      "Requirement already satisfied: six>=1.0.0 in /conda/lib/python3.6/site-packages (from pyarrow) (1.14.0)\n",
      "Requirement already satisfied: fastparquet in /User/.pythonlibs/jupyter/lib/python3.6/site-packages (0.4.1)\n",
      "Requirement already satisfied: six in /conda/lib/python3.6/site-packages (from fastparquet) (1.14.0)\n",
      "Requirement already satisfied: pandas>=0.19 in /conda/lib/python3.6/site-packages (from fastparquet) (1.0.1)\n",
      "Requirement already satisfied: numpy>=1.11 in /conda/lib/python3.6/site-packages (from fastparquet) (1.18.1)\n",
      "Requirement already satisfied: numba>=0.28 in /conda/lib/python3.6/site-packages (from fastparquet) (0.48.0)\n",
      "Requirement already satisfied: packaging in /conda/lib/python3.6/site-packages (from fastparquet) (20.3)\n",
      "Requirement already satisfied: thrift>=0.11.0 in /User/.pythonlibs/jupyter/lib/python3.6/site-packages (from fastparquet) (0.13.0)\n",
      "Requirement already satisfied: python-dateutil>=2.6.1 in /conda/lib/python3.6/site-packages (from pandas>=0.19->fastparquet) (2.8.1)\n",
      "Requirement already satisfied: pytz>=2017.2 in /conda/lib/python3.6/site-packages (from pandas>=0.19->fastparquet) (2019.3)\n",
      "Requirement already satisfied: llvmlite<0.32.0,>=0.31.0dev0 in /conda/lib/python3.6/site-packages (from numba>=0.28->fastparquet) (0.31.0)\n",
      "Requirement already satisfied: setuptools in /conda/lib/python3.6/site-packages (from numba>=0.28->fastparquet) (46.1.3.post20200330)\n",
      "Requirement already satisfied: pyparsing>=2.0.2 in /conda/lib/python3.6/site-packages (from packaging->fastparquet) (2.4.6)\n",
      "Requirement already satisfied: v3io in /User/.pythonlibs/jupyter/lib/python3.6/site-packages (0.3.15)\n",
      "Requirement already satisfied: requests>=2.19.1 in /conda/lib/python3.6/site-packages (from v3io) (2.23.0)\n",
      "Requirement already satisfied: ujson~=2.0 in /User/.pythonlibs/jupyter/lib/python3.6/site-packages (from v3io) (2.0.3)\n",
      "Requirement already satisfied: future>=0.18.2 in /conda/lib/python3.6/site-packages (from v3io) (0.18.2)\n",
      "Requirement already satisfied: idna<3,>=2.5 in /conda/lib/python3.6/site-packages (from requests>=2.19.1->v3io) (2.9)\n",
      "Requirement already satisfied: chardet<4,>=3.0.2 in /conda/lib/python3.6/site-packages (from requests>=2.19.1->v3io) (3.0.4)\n",
      "Requirement already satisfied: urllib3!=1.25.0,!=1.25.1,<1.26,>=1.21.1 in /conda/lib/python3.6/site-packages (from requests>=2.19.1->v3io) (1.24.3)\n",
      "Requirement already satisfied: certifi>=2017.4.17 in /conda/lib/python3.6/site-packages (from requests>=2.19.1->v3io) (2020.4.5.1)\n"
     ]
    }
   ],
   "source": [
    "%%nuclio cmd\n",
    "\n",
    "python -m pip install pandas\n",
    "python -m pip install pyarrow\n",
    "python -m pip install fastparquet\n",
    "python -m pip install v3io\n"
   ]
  },
  {
   "cell_type": "code",
   "execution_count": 5,
   "metadata": {},
   "outputs": [
    {
     "ename": "NameError",
     "evalue": "name 'os' is not defined",
     "output_type": "error",
     "traceback": [
      "\u001b[0;31m---------------------------------------------------------------------------\u001b[0m",
      "\u001b[0;31mNameError\u001b[0m                                 Traceback (most recent call last)",
      "\u001b[0;32m<ipython-input-5-6c1d95ba9ec6>\u001b[0m in \u001b[0;36m<module>\u001b[0;34m\u001b[0m\n\u001b[1;32m      1\u001b[0m \u001b[0mevent_dict\u001b[0m \u001b[0;34m=\u001b[0m \u001b[0;34m[\u001b[0m\u001b[0;34m{\u001b[0m\u001b[0;34m\"user_id\"\u001b[0m \u001b[0;34m:\u001b[0m \u001b[0mstr\u001b[0m\u001b[0;34m(\u001b[0m\u001b[0mi\u001b[0m\u001b[0;34m)\u001b[0m \u001b[0;34m,\u001b[0m \u001b[0;34m\"event_type\"\u001b[0m\u001b[0;34m:\u001b[0m \u001b[0;34m\"spin\"\u001b[0m \u001b[0;34m+\u001b[0m \u001b[0mstr\u001b[0m\u001b[0;34m(\u001b[0m\u001b[0mi\u001b[0m\u001b[0;34m)\u001b[0m\u001b[0;34m}\u001b[0m \u001b[0;32mfor\u001b[0m \u001b[0mi\u001b[0m \u001b[0;32min\u001b[0m \u001b[0mrange\u001b[0m\u001b[0;34m(\u001b[0m\u001b[0;36m10000000\u001b[0m\u001b[0;34m)\u001b[0m\u001b[0;34m]\u001b[0m\u001b[0;34m\u001b[0m\u001b[0;34m\u001b[0m\u001b[0m\n\u001b[1;32m      2\u001b[0m \u001b[0mfile_name\u001b[0m \u001b[0;34m=\u001b[0m \u001b[0;34m\"test_arthur\"\u001b[0m\u001b[0;34m\u001b[0m\u001b[0;34m\u001b[0m\u001b[0m\n\u001b[0;32m----> 3\u001b[0;31m \u001b[0mtarget_path\u001b[0m \u001b[0;34m=\u001b[0m \u001b[0mos\u001b[0m\u001b[0;34m.\u001b[0m\u001b[0mgetenv\u001b[0m\u001b[0;34m(\u001b[0m\u001b[0;34m'TARGET_PATH'\u001b[0m\u001b[0;34m)\u001b[0m\u001b[0;34m\u001b[0m\u001b[0;34m\u001b[0m\u001b[0m\n\u001b[0m\u001b[1;32m      4\u001b[0m \u001b[0mdf\u001b[0m \u001b[0;34m=\u001b[0m \u001b[0mpd\u001b[0m\u001b[0;34m.\u001b[0m\u001b[0mDataFrame\u001b[0m\u001b[0;34m.\u001b[0m\u001b[0mfrom_records\u001b[0m\u001b[0;34m(\u001b[0m\u001b[0mevent_dict\u001b[0m\u001b[0;34m)\u001b[0m\u001b[0;34m\u001b[0m\u001b[0;34m\u001b[0m\u001b[0m\n\u001b[1;32m      5\u001b[0m \u001b[0mdf\u001b[0m\u001b[0;34m.\u001b[0m\u001b[0mto_parquet\u001b[0m\u001b[0;34m(\u001b[0m\u001b[0mpath\u001b[0m\u001b[0;34m=\u001b[0m\u001b[0mos\u001b[0m\u001b[0;34m.\u001b[0m\u001b[0mpath\u001b[0m\u001b[0;34m.\u001b[0m\u001b[0mjoin\u001b[0m\u001b[0;34m(\u001b[0m\u001b[0mtarget_path\u001b[0m\u001b[0;34m,\u001b[0m \u001b[0mfile_name\u001b[0m\u001b[0;34m)\u001b[0m\u001b[0;34m,\u001b[0m \u001b[0mcompression\u001b[0m\u001b[0;34m=\u001b[0m\u001b[0;34m'gzip'\u001b[0m\u001b[0;34m)\u001b[0m\u001b[0;34m\u001b[0m\u001b[0;34m\u001b[0m\u001b[0m\n",
      "\u001b[0;31mNameError\u001b[0m: name 'os' is not defined"
     ]
    }
   ],
   "source": [
    "event_dict = [{\"user_id\" : str(i) , \"event_type\": \"spin\" + str(i)} for i in range(10000000)]\n",
    "file_name = \"test_arthur\"\n",
    "target_path = os.getenv('TARGET_PATH')\n",
    "df = pd.DataFrame.from_records(event_dict)\n",
    "df.to_parquet(path=os.path.join(target_path, file_name), compression='gzip')\n"
   ]
  },
  {
   "cell_type": "code",
   "execution_count": null,
   "metadata": {},
   "outputs": [],
   "source": [
    "%%nuclio config\n",
    "spec.readinessTimeoutSeconds = 200"
   ]
  },
  {
   "cell_type": "code",
   "execution_count": null,
   "metadata": {},
   "outputs": [],
   "source": [
    "%nuclio mount /User ~/"
   ]
  },
  {
   "cell_type": "code",
   "execution_count": null,
   "metadata": {},
   "outputs": [],
   "source": [
    "# nuclio: start-code"
   ]
  },
  {
   "cell_type": "code",
   "execution_count": null,
   "metadata": {},
   "outputs": [],
   "source": [
    "import os\n",
    "import pandas as pd\n",
    "import numpy as np\n",
    "import json\n",
    "import datetime\n",
    "import fastparquet\n",
    "import v3io.dataplane\n"
   ]
  },
  {
   "cell_type": "code",
   "execution_count": 9,
   "metadata": {},
   "outputs": [],
   "source": [
    "def init_context(context):\n",
    "    setattr(context, 'batch', [])\n",
    "    V3IO_ACCESS_KEY = os.getenv('V3IO_ACCESS_KEY')\n",
    "    v3io_client = v3io.dataplane.Client(endpoint='http://v3io-webapi:8081', access_key=V3IO_ACCESS_KEY)\n",
    "    setattr(context, 'batch_size', int(os.getenv('BATCH_SIZE', 1024)))\n",
    "    setattr(context, 'batch_count',int(os.getenv('BATCH_COUNT', 0)))\n",
    "    CONTAINER = os.getenv('CONTAINER')\n",
    "    OUTPUT_STREAM_PATH = os.getenv('OUTPUT_STREAM_PATH')\n",
    "    #SHARDS_COUNT = os.getenv('SHARDS_COUNT')\n",
    "    #SHARD_KEY = os.getenv('SHARD_KEY')\n",
    "\n",
    "\n",
    "    \n",
    "    setattr(context, 'v3io_client', v3io_client)\n",
    "    #setattr(context, 'shard_key', SHARD_KEY)\n",
    "    #setattr(context, 'shards_count', int(SHARDS_COUNT))\n",
    "    setattr(context, 'container', CONTAINER)\n",
    "    setattr(context, 'output_stream_path', OUTPUT_STREAM_PATH)\n",
    "    \n",
    "    setattr(context, 'target_path', os.getenv('TARGET_PATH'))\n",
    "    os.makedirs(context.target_path, exist_ok=True)\n",
    "    "
   ]
  },
  {
   "cell_type": "code",
   "execution_count": null,
   "metadata": {},
   "outputs": [],
   "source": [
    "def handler(context, event):\n",
    "    pool = Pool()\n",
    "    if type(event.body) is dict:\n",
    "        event_dict = event.body\n",
    "    else:\n",
    "        event_dict = json.loads(event.body)\n",
    "    parquet = event_dict[\"file\"]\n",
    "    partition_key = event_dict[\"partition_key\"] or None\n",
    "    pfile = fastparquet.ParquetFile(parquet)\n",
    "    for i, df in enumerate(pfile.iter_row_groups()):\n",
    "        write_header = (i==0)\n",
    "        n = 1000  #chunk row size\n",
    "        list_df = [df[i:i+n] for i in range(0,df.shape[0],n)]\n",
    "        for frame in list_df:\n",
    "            records = []\n",
    "\n",
    "            for n, row in frame.iterrows():\n",
    "                records.append(event_to_record(row.to_dict(),partition_key))\n",
    "\n",
    "            resp = context.v3io_client.put_records(container=context.container, \n",
    "                                           path=context.output_stream_path, \n",
    "                                           records=records, \n",
    "                                           raise_for_status=v3io.dataplane.RaiseForStatus.never)\n",
    "            if(i%10 == 0):\n",
    "                print(f'${resp.status_code} ${str(n)} ${str(len(records))}')\n",
    "        \n",
    "    \n",
    "        \n",
    "        \n",
    "    \n",
    "def event_to_record(event_dict, partition_key=None):\n",
    "    event_str = json.dumps(event_dict)\n",
    "    return {'data': event_str, 'partition_key': str(partition_key)}\n",
    "        \n",
    "    "
   ]
  },
  {
   "cell_type": "code",
   "execution_count": 6,
   "metadata": {},
   "outputs": [],
   "source": [
    "# nuclio: end-code"
   ]
  },
  {
   "cell_type": "markdown",
   "metadata": {},
   "source": [
    "## Test Locally"
   ]
  },
  {
   "cell_type": "code",
   "execution_count": 9,
   "metadata": {},
   "outputs": [
    {
     "ename": "NameError",
     "evalue": "name 'init_context' is not defined",
     "output_type": "error",
     "traceback": [
      "\u001b[0;31m---------------------------------------------------------------------------\u001b[0m",
      "\u001b[0;31mNameError\u001b[0m                                 Traceback (most recent call last)",
      "\u001b[0;32m<timed exec>\u001b[0m in \u001b[0;36m<module>\u001b[0;34m\u001b[0m\n",
      "\u001b[0;31mNameError\u001b[0m: name 'init_context' is not defined"
     ]
    }
   ],
   "source": [
    "%%time\n",
    "file_name = \"test_arthur\"\n",
    "target_path = os.getenv('TARGET_PATH')\n",
    "init_context(context)\n",
    "\n",
    "path=os.path.join(target_path, file_name)\n",
    "print(path)\n",
    "context.file = path\n",
    "#event = nuclio.Event(body={\"file\" :  context.file, \"partition_key\" : None})\n",
    "\n",
    "\n",
    "handler(context, event)"
   ]
  },
  {
   "cell_type": "markdown",
   "metadata": {},
   "source": [
    "# check weather a parquet has been created\n",
    "!ls -l ~/examples/rapid-prototype/events-pq"
   ]
  },
  {
   "cell_type": "code",
   "execution_count": 15,
   "metadata": {},
   "outputs": [
    {
     "name": "stdout",
     "output_type": "stream",
     "text": [
      "Python> 2020-06-21 14:38:14,748 [info] Got invoked: {'trigger_kind': '', 'event_body': {'user_id': 10, 'event_type': 'spin'}}\n",
      "Python> 2020-06-21 14:38:14,749 [info] Writing batch: {'batch_count': 0, 'batch_size': 10}\n",
      "Python> 2020-06-21 14:38:14,874 [info] Written batch: {'batch_count': 1, 'batch_size': 0}\n"
     ]
    }
   ],
   "source": [
    "# trigger the tenth event which should trigger the creation of the parquet file.\n",
    "tenth_event = b'{\"user_id\" : 10 , \"event_type\": \"spin\"}'\n",
    "event = nuclio.Event(body=tenth_event)\n",
    "handler(context, event)"
   ]
  },
  {
   "cell_type": "code",
   "execution_count": 16,
   "metadata": {},
   "outputs": [
    {
     "name": "stdout",
     "output_type": "stream",
     "text": [
      "total 0\n",
      "-rw-r--r-- 1 iguazio iguazio 2268 Jun 21 14:38 None_0\n"
     ]
    }
   ],
   "source": [
    "# check weather a parquet has been created\n",
    "!ls -l ~/examples/rapid-prototype/events-pq/"
   ]
  },
  {
   "cell_type": "code",
   "execution_count": 17,
   "metadata": {},
   "outputs": [],
   "source": [
    "# cleanup\n",
    "!rm ~/examples/rapid-prototype/events-pq/*"
   ]
  },
  {
   "cell_type": "markdown",
   "metadata": {},
   "source": [
    "## Deploy  function"
   ]
  },
  {
   "cell_type": "code",
   "execution_count": 12,
   "metadata": {},
   "outputs": [
    {
     "name": "stdout",
     "output_type": "stream",
     "text": [
      "[nuclio] 2020-06-22 14:22:17,910 (info) Build complete\n",
      "[nuclio] 2020-06-22 14:22:23,976 (info) Function deploy complete\n",
      "[nuclio] 2020-06-22 14:22:23,983 done creating stream-to-parquet, function address: 192.168.226.12:30583\n",
      "%nuclio: function deployed\n"
     ]
    }
   ],
   "source": [
    "%nuclio deploy -p rapid-prototype -n stream-to-parquet"
   ]
  },
  {
   "cell_type": "code",
   "execution_count": null,
   "metadata": {},
   "outputs": [],
   "source": []
  }
 ],
 "metadata": {
  "kernelspec": {
   "display_name": "Python [conda env:root] *",
   "language": "python",
   "name": "conda-root-py"
  },
  "language_info": {
   "codemirror_mode": {
    "name": "ipython",
    "version": 3
   },
   "file_extension": ".py",
   "mimetype": "text/x-python",
   "name": "python",
   "nbconvert_exporter": "python",
   "pygments_lexer": "ipython3",
   "version": "3.6.8"
  }
 },
 "nbformat": 4,
 "nbformat_minor": 4
}
