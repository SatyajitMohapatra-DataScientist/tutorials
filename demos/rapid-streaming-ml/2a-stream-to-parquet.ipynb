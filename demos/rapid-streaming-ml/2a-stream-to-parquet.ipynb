{
 "cells": [
  {
   "cell_type": "markdown",
   "metadata": {},
   "source": [
    "# 2a. Stream to Parquet\n",
    "--------------------------------------------------------------------"
   ]
  },
  {
   "cell_type": "markdown",
   "metadata": {},
   "source": [
    "Store the input stream to a set of parquet files. The purpose is to store the input stream to a log of raw events.\n",
    "\n",
    "![Model deployment with streaming Real-time operational Pipeline](../../assets/images/model-deployment-with-streaming.png)"
   ]
  },
  {
   "cell_type": "code",
   "execution_count": 1,
   "metadata": {},
   "outputs": [],
   "source": [
    "import nuclio"
   ]
  },
  {
   "cell_type": "code",
   "execution_count": 2,
   "metadata": {},
   "outputs": [],
   "source": [
    "%run config.py"
   ]
  },
  {
   "cell_type": "code",
   "execution_count": 3,
   "metadata": {},
   "outputs": [],
   "source": [
    "import os\n",
    "os.environ[\"MDWS_S2P_BATCH_SIZE\"] = '1024'\n",
    "os.environ[\"MDWS_S2P_TARGET_PATH\"] = MDWS_S2P_TARGET_PATH\n",
    "os.environ[\"MDWS_S2P_INPUT_URL\"] = path.join(WEB_API_USERS, STREAM_CONFIGS['generated-stream']['path']) + \"@stream2pq\""
   ]
  },
  {
   "cell_type": "code",
   "execution_count": 4,
   "metadata": {},
   "outputs": [
    {
     "name": "stdout",
     "output_type": "stream",
     "text": [
      "%nuclio: setting 'BATCH_SIZE' environment variable\n",
      "%nuclio: setting 'TARGET_PATH' environment variable\n"
     ]
    }
   ],
   "source": [
    "%nuclio env BATCH_SIZE = ${MDWS_S2P_BATCH_SIZE}\n",
    "%nuclio env TARGET_PATH = ${MDWS_S2P_TARGET_PATH}"
   ]
  },
  {
   "cell_type": "code",
   "execution_count": 5,
   "metadata": {},
   "outputs": [
    {
     "name": "stdout",
     "output_type": "stream",
     "text": [
      "%nuclio: setting kind to 'nuclio'\n"
     ]
    }
   ],
   "source": [
    "# Define function spec\n",
    "%nuclio config kind = \"nuclio\""
   ]
  },
  {
   "cell_type": "code",
   "execution_count": 6,
   "metadata": {},
   "outputs": [],
   "source": [
    "%%nuclio cmd -c\n",
    "\n",
    "python -m pip install pandas\n",
    "python -m pip install pyarrow"
   ]
  },
  {
   "cell_type": "code",
   "execution_count": 7,
   "metadata": {},
   "outputs": [
    {
     "name": "stdout",
     "output_type": "stream",
     "text": [
      "%nuclio: setting spec.readinessTimeoutSeconds to 200\n",
      "%nuclio: setting spec.triggers.v3io_stream.kind to 'v3ioStream'\n",
      "%nuclio: setting spec.triggers.v3io_stream.disabled to False\n",
      "%nuclio: setting spec.triggers.v3io_stream.url to 'http://v3io-webapi:8081/users/iguazio/examples/model-deployment-with-streaming/generated-stream@stream2pq'\n",
      "%nuclio: setting spec.triggers.v3io_stream.maxWorkers to 10\n",
      "%nuclio: setting spec.triggers.v3io_stream.password to '4868d73d-1bd9-486e-91bd-d89ad83e3a56'\n",
      "%nuclio: setting spec.triggers.v3io_stream.attributes.pollingIntervalMs to 500\n",
      "%nuclio: setting spec.triggers.v3io_stream.attributes.seekTo to 'earliest'\n",
      "%nuclio: setting spec.triggers.v3io_stream.attributes.readBatchSize to 64\n"
     ]
    }
   ],
   "source": [
    "%%nuclio config\n",
    "spec.readinessTimeoutSeconds = 200\n",
    "spec.triggers.v3io_stream.kind = \"v3ioStream\"\n",
    "spec.triggers.v3io_stream.disabled = false\n",
    "spec.triggers.v3io_stream.url = \"${MDWS_S2P_INPUT_URL}\"\n",
    "spec.triggers.v3io_stream.maxWorkers = 10\n",
    "spec.triggers.v3io_stream.password = \"${V3IO_ACCESS_KEY}\"\n",
    "spec.triggers.v3io_stream.attributes.pollingIntervalMs = 500\n",
    "spec.triggers.v3io_stream.attributes.seekTo = \"earliest\"\n",
    "spec.triggers.v3io_stream.attributes.readBatchSize = 64"
   ]
  },
  {
   "cell_type": "code",
   "execution_count": 8,
   "metadata": {},
   "outputs": [
    {
     "name": "stdout",
     "output_type": "stream",
     "text": [
      "mounting volume path /User as ~/\n"
     ]
    }
   ],
   "source": [
    "%nuclio mount /User ~/"
   ]
  },
  {
   "cell_type": "code",
   "execution_count": 9,
   "metadata": {},
   "outputs": [],
   "source": [
    "# nuclio: start-code"
   ]
  },
  {
   "cell_type": "code",
   "execution_count": 10,
   "metadata": {},
   "outputs": [],
   "source": [
    "import os\n",
    "import pandas as pd\n",
    "import numpy as np\n",
    "import json\n",
    "import datetime"
   ]
  },
  {
   "cell_type": "code",
   "execution_count": 11,
   "metadata": {},
   "outputs": [],
   "source": [
    "def init_context(context):\n",
    "    setattr(context, 'batch', [])\n",
    "    setattr(context, 'batch_size', int(os.getenv('BATCH_SIZE', 1024)))\n",
    "    setattr(context, 'batch_count',int(os.getenv('BATCH_COUNT', 0)))\n",
    "    \n",
    "    pq_partitions = os.getenv('PQ_PARTITIONS')\n",
    "    if pq_partitions:\n",
    "        setattr(context, 'pq_partitions', pq_partitions.split(','))\n",
    "    else:\n",
    "        setattr(context, 'pq_partitions', pq_partitions)\n",
    "    \n",
    "    setattr(context, 'target_path', os.getenv('TARGET_PATH'))\n",
    "    os.makedirs(context.target_path, exist_ok=True)"
   ]
  },
  {
   "cell_type": "code",
   "execution_count": 12,
   "metadata": {},
   "outputs": [],
   "source": [
    "def handler(context, event):\n",
    "    if type(event.body) is dict:\n",
    "        event_dict = event.body\n",
    "    else:\n",
    "        event_dict = json.loads(event.body)\n",
    "        \n",
    "    context.logger.info_with('Got invoked',\n",
    "                             trigger_kind=event.trigger.kind,\n",
    "                             event_body=event_dict)\n",
    "    \n",
    "    # add the incoming event to the current batch\n",
    "    context.batch.append(event_dict)\n",
    "    \n",
    "    #check if batch size reached\n",
    "    if context.batch_size == len(context.batch):\n",
    "        context.logger.info_with('Writing batch',\n",
    "                                 batch_count=context.batch_count,\n",
    "                                 batch_size=len(context.batch))\n",
    "        write_batch(context)\n",
    "        context.logger.info_with('Written batch',\n",
    "                                 batch_count=context.batch_count,\n",
    "                                 batch_size=len(context.batch))\n",
    "        \n",
    "def write_batch(context):\n",
    "    file_name = str(context.worker_id)+'_'+str(context.batch_count)\n",
    "    df = pd.DataFrame.from_records(context.batch)\n",
    "    df.to_parquet(path=os.path.join(context.target_path, file_name), partition_cols=context.pq_partitions)\n",
    "    # post write cleanup and counter update\n",
    "    context.batch = []\n",
    "    context.batch_count += 1"
   ]
  },
  {
   "cell_type": "code",
   "execution_count": 13,
   "metadata": {},
   "outputs": [],
   "source": [
    "# nuclio: end-code"
   ]
  },
  {
   "cell_type": "markdown",
   "metadata": {},
   "source": [
    "## Test Locally"
   ]
  },
  {
   "cell_type": "code",
   "execution_count": 14,
   "metadata": {},
   "outputs": [
    {
     "name": "stdout",
     "output_type": "stream",
     "text": [
      "Python> 2020-08-04 22:00:58,014 [info] Got invoked: {'trigger_kind': '', 'event_body': {'user_id': 1, 'event_type': 'spin'}}\n",
      "Python> 2020-08-04 22:00:58,015 [info] Got invoked: {'trigger_kind': '', 'event_body': {'user_id': 2, 'event_type': 'spin'}}\n",
      "Python> 2020-08-04 22:00:58,016 [info] Got invoked: {'trigger_kind': '', 'event_body': {'user_id': 3, 'event_type': 'spin'}}\n",
      "Python> 2020-08-04 22:00:58,017 [info] Got invoked: {'trigger_kind': '', 'event_body': {'user_id': 4, 'event_type': 'spin'}}\n",
      "Python> 2020-08-04 22:00:58,017 [info] Got invoked: {'trigger_kind': '', 'event_body': {'user_id': 5, 'event_type': 'spin'}}\n",
      "Python> 2020-08-04 22:00:58,018 [info] Got invoked: {'trigger_kind': '', 'event_body': {'user_id': 6, 'event_type': 'spin'}}\n",
      "Python> 2020-08-04 22:00:58,019 [info] Got invoked: {'trigger_kind': '', 'event_body': {'user_id': 7, 'event_type': 'spin'}}\n",
      "Python> 2020-08-04 22:00:58,019 [info] Got invoked: {'trigger_kind': '', 'event_body': {'user_id': 8, 'event_type': 'spin'}}\n",
      "Python> 2020-08-04 22:00:58,020 [info] Got invoked: {'trigger_kind': '', 'event_body': {'user_id': 9, 'event_type': 'spin'}}\n"
     ]
    }
   ],
   "source": [
    "init_context(context)\n",
    "#reduce the batch size to 10\n",
    "context.batch_size = 10\n",
    "\n",
    "# trigger with 9 events:\n",
    "\n",
    "nine_events = [b'{\"user_id\" : 1 , \"event_type\": \"spin\"}',\n",
    "              b'{\"user_id\" : 2 , \"event_type\": \"spin\"}',\n",
    "              b'{\"user_id\" : 3 , \"event_type\": \"spin\"}',\n",
    "              b'{\"user_id\" : 4 , \"event_type\": \"spin\"}',\n",
    "              b'{\"user_id\" : 5 , \"event_type\": \"spin\"}',\n",
    "              b'{\"user_id\" : 6 , \"event_type\": \"spin\"}',\n",
    "              b'{\"user_id\" : 7 , \"event_type\": \"spin\"}',\n",
    "              b'{\"user_id\" : 8 , \"event_type\": \"spin\"}',\n",
    "              b'{\"user_id\" : 9 , \"event_type\": \"spin\"}']\n",
    "\n",
    "for e in nine_events:\n",
    "    event = nuclio.Event(body=e)\n",
    "    handler(context, event)"
   ]
  },
  {
   "cell_type": "code",
   "execution_count": 15,
   "metadata": {},
   "outputs": [
    {
     "name": "stdout",
     "output_type": "stream",
     "text": [
      "total 0\n"
     ]
    }
   ],
   "source": [
    "# check weather a parquet has been created\n",
    "!ls -l ${TARGET_PATH}"
   ]
  },
  {
   "cell_type": "code",
   "execution_count": 16,
   "metadata": {},
   "outputs": [
    {
     "name": "stdout",
     "output_type": "stream",
     "text": [
      "Python> 2020-08-04 22:00:58,667 [info] Got invoked: {'trigger_kind': '', 'event_body': {'user_id': 10, 'event_type': 'spin'}}\n",
      "Python> 2020-08-04 22:00:58,667 [info] Writing batch: {'batch_count': 0, 'batch_size': 10}\n",
      "Python> 2020-08-04 22:00:58,741 [info] Written batch: {'batch_count': 1, 'batch_size': 0}\n"
     ]
    }
   ],
   "source": [
    "# trigger the tenth event which should trigger the creation of the parquet file.\n",
    "tenth_event = b'{\"user_id\" : 10 , \"event_type\": \"spin\"}'\n",
    "event = nuclio.Event(body=tenth_event)\n",
    "handler(context, event)"
   ]
  },
  {
   "cell_type": "code",
   "execution_count": 17,
   "metadata": {},
   "outputs": [
    {
     "name": "stdout",
     "output_type": "stream",
     "text": [
      "total 3\n",
      "-rw-r--r-- 1 51 nogroup 2268 Aug  4 22:00 None_0\n"
     ]
    }
   ],
   "source": [
    "# check weather a parquet has been created\n",
    "!ls -l ${TARGET_PATH}"
   ]
  },
  {
   "cell_type": "code",
   "execution_count": 18,
   "metadata": {},
   "outputs": [],
   "source": [
    "# cleanup\n",
    "!rm ${TARGET_PATH}/*"
   ]
  },
  {
   "cell_type": "markdown",
   "metadata": {},
   "source": [
    "## Deploy  function"
   ]
  },
  {
   "cell_type": "code",
   "execution_count": 19,
   "metadata": {},
   "outputs": [
    {
     "name": "stdout",
     "output_type": "stream",
     "text": [
      "[nuclio] 2020-08-04 22:01:02,688 (info) Build complete\n",
      "[nuclio] 2020-08-04 22:01:08,796 (info) Function deploy complete\n",
      "[nuclio] 2020-08-04 22:01:08,802 done creating iguazio-stream-to-parquet, function address: 3.14.105.22:32249\n",
      "%nuclio: function deployed\n"
     ]
    }
   ],
   "source": [
    "%nuclio deploy -p {PROJECT_NAME} -n {V3IO_USERNAME}-stream-to-parquet"
   ]
  }
 ],
 "metadata": {
  "kernelspec": {
   "display_name": "Python 3",
   "language": "python",
   "name": "python3"
  },
  "language_info": {
   "codemirror_mode": {
    "name": "ipython",
    "version": 3
   },
   "file_extension": ".py",
   "mimetype": "text/x-python",
   "name": "python",
   "nbconvert_exporter": "python",
   "pygments_lexer": "ipython3",
   "version": "3.7.6"
  }
 },
 "nbformat": 4,
 "nbformat_minor": 4
}
