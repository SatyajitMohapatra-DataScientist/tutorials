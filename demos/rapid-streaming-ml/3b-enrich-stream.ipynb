{
 "cells": [
  {
   "cell_type": "markdown",
   "metadata": {},
   "source": [
    "# 3b. Enrich Stream\n",
    "  --------------------------------------------------------------------"
   ]
  },
  {
   "cell_type": "markdown",
   "metadata": {},
   "source": [
    "Receive a stream of events from from `incoming-events-stream` and enrichthe relevant events with socioeconomic data by looking up the enrichment table. The enriched data is streamed out to `enriched-events-stream`.\n",
    "\n",
    "![Model deployment with streaming Real-time operational Pipeline](../../assets/images/model-deployment-with-streaming.png)"
   ]
  },
  {
   "cell_type": "markdown",
   "metadata": {},
   "source": [
    "## Create and Test a Local Function \n",
    "Import nuclio SDK and magics, <b>do not remove the cell and comment !!!</b>"
   ]
  },
  {
   "cell_type": "code",
   "execution_count": null,
   "metadata": {},
   "outputs": [],
   "source": [
    "# nuclio: ignore\n",
    "import nuclio"
   ]
  },
  {
   "cell_type": "markdown",
   "metadata": {},
   "source": [
    "#### Functions imports"
   ]
  },
  {
   "cell_type": "code",
   "execution_count": null,
   "metadata": {},
   "outputs": [],
   "source": [
    "# nuclio: start-code"
   ]
  },
  {
   "cell_type": "code",
   "execution_count": null,
   "metadata": {},
   "outputs": [],
   "source": [
    "%load config.py"
   ]
  },
  {
   "cell_type": "code",
   "execution_count": null,
   "metadata": {},
   "outputs": [],
   "source": [
    "%load env.py"
   ]
  },
  {
   "cell_type": "code",
   "execution_count": null,
   "metadata": {},
   "outputs": [],
   "source": [
    "import os\n",
    "import hashlib\n",
    "import json\n",
    "import v3io.dataplane"
   ]
  },
  {
   "cell_type": "markdown",
   "metadata": {},
   "source": [
    "<b>Specify function dependencies and configuration<b>"
   ]
  },
  {
   "cell_type": "code",
   "execution_count": null,
   "metadata": {},
   "outputs": [],
   "source": [
    "%nuclio cmd -c pip install v3io"
   ]
  },
  {
   "cell_type": "code",
   "execution_count": null,
   "metadata": {},
   "outputs": [],
   "source": [
    "%%nuclio env\n",
    "V3IO_ACCESS_KEY = ${V3IO_ACCESS_KEY}\n",
    "CONTAINER = users\n",
    "MDWS_ES_OUTPUT_STREAM_PATH = ${MDWS_ES_OUTPUT_STREAM_PATH}\n",
    "PARTITION_ATTR = ${PARTITION_ATTR}\n",
    "\n",
    "MDWS_ENRICHMENT_TABLE_PATH = ${MDWS_ENRICHMENT_TABLE_PATH}\n",
    "ENRICHMENT_KEY = postcode"
   ]
  },
  {
   "cell_type": "code",
   "execution_count": null,
   "metadata": {},
   "outputs": [],
   "source": [
    "%%nuclio config\n",
    "spec.triggers.v3io_stream.kind = \"v3ioStream\"\n",
    "spec.triggers.v3io_stream.disabled = false\n",
    "spec.triggers.v3io_stream.url = \"${MDWS_ES_INPUT_OUTPUT_STREAM_PATH}\"\n",
    "spec.triggers.v3io_stream.maxWorkers = 10\n",
    "spec.triggers.v3io_stream.password = \"${V3IO_ACCESS_KEY}\"\n",
    "spec.triggers.v3io_stream.attributes.pollingIntervalMs = 500\n",
    "spec.triggers.v3io_stream.attributes.seekTo = \"earliest\"\n",
    "spec.triggers.v3io_stream.attributes.readBatchSize = 64\n"
   ]
  },
  {
   "cell_type": "markdown",
   "metadata": {},
   "source": [
    "## Function code"
   ]
  },
  {
   "cell_type": "code",
   "execution_count": null,
   "metadata": {},
   "outputs": [],
   "source": [
    "def init_context(context):\n",
    "    V3IO_ACCESS_KEY = os.getenv('V3IO_ACCESS_KEY')\n",
    "    CONTAINER = os.getenv('CONTAINER')\n",
    "    OUTPUT_STREAM_PATH = os.getenv('MDWS_ES_OUTPUT_STREAM_PATH')\n",
    "    PARTITION_ATTR = os.getenv('PARTITION_ATTR')\n",
    "    ENRICHMENT_TABLE_PATH = os.getenv('MDWS_ENRICHMENT_TABLE_PATH')\n",
    "    ENRICHMENT_KEY = os.getenv('ENRICHMENT_KEY')\n",
    "    v3io_client = v3io.dataplane.Client(endpoint='http://v3io-webapi:8081', access_key=V3IO_ACCESS_KEY)\n",
    "    \n",
    "    setattr(context, 'v3io_client', v3io_client)\n",
    "    setattr(context, 'partition_attr', PARTITION_ATTR)\n",
    "    setattr(context, 'container', CONTAINER)\n",
    "    setattr(context, 'output_stream_path', OUTPUT_STREAM_PATH)\n",
    "    \n",
    "    setattr(context, 'enrichment_table_path', ENRICHMENT_TABLE_PATH)\n",
    "    setattr(context, 'enrichment_key', ENRICHMENT_KEY)\n",
    "\n",
    "\n",
    "def handler(context, event):\n",
    "    if type(event.body) is dict:\n",
    "        event_dict = event.body\n",
    "    else:\n",
    "        event_dict = json.loads(event.body)\n",
    "        \n",
    "    context.logger.info_with('Got invoked',\n",
    "                             trigger_kind=event.trigger.kind,\n",
    "                             event_body=event_dict)\n",
    "        \n",
    "    partition_key = event_dict.get(context.partition_attr)\n",
    "    \n",
    "    record = {}\n",
    "    if event_dict['event_type'] == 'registration':\n",
    "        enriched_event = enrich_event(context, event_dict)\n",
    "        record = event_to_record(enriched_event, partition_key)\n",
    "    else:\n",
    "        record = event_to_record(event_dict, partition_key)\n",
    "    print(\"dsadsadad\" + context.output_stream_path)\n",
    "    resp = context.v3io_client.put_records(container=context.container, \n",
    "                                   path=context.output_stream_path, \n",
    "                                   records=[record], \n",
    "                                   raise_for_status=v3io.dataplane.RaiseForStatus.never)\n",
    "    \n",
    "    context.logger.info_with('Sent event to stream', \n",
    "                             record=record,\n",
    "                             response_status=resp.status_code, \n",
    "                             response_body=resp.body.decode('utf-8'))\n",
    "    \n",
    "    return resp.status_code\n",
    "\n",
    "\n",
    "def enrich_event(context, event_dict):\n",
    "    if context.enrichment_key in event_dict:\n",
    "        enrichment_key_value = event_dict[context.enrichment_key]\n",
    "        resp = context.v3io_client.get_item(container=context.container, \n",
    "                                            path=os.path.join(context.enrichment_table_path, str(enrichment_key_value)),\n",
    "                                           raise_for_status=v3io.dataplane.RaiseForStatus.never)\n",
    "        if 200 <= resp.status_code <= 299:\n",
    "            enriched_event = {**event_dict, **resp.output.item}\n",
    "            context.logger.info_with('Event was enriched', enriched_event=enriched_event)\n",
    "            return enriched_event\n",
    "        else:\n",
    "            context.logger.debug_with(\"Couldn't enrich event\", \n",
    "                                      enrichment_key_value=enrichment_key_value,\n",
    "                                      response_status=resp.status_code, \n",
    "                                      response_body=resp.body.decode('utf-8'))\n",
    "            return event_dict\n",
    "    else:\n",
    "        return event_dict\n",
    "\n",
    "    \n",
    "def event_to_record(event_dict, partition_key):\n",
    "    event_str = json.dumps(event_dict)\n",
    "    return {'data': event_str, 'partition_key': str(partition_key)}"
   ]
  },
  {
   "cell_type": "markdown",
   "metadata": {},
   "source": [
    "The following end-code annotation tells ```nuclio``` to stop parsing the notebook from this cell. _**Please do not remove this cell**_:"
   ]
  },
  {
   "cell_type": "code",
   "execution_count": null,
   "metadata": {},
   "outputs": [],
   "source": [
    "# nuclio: end-code\n",
    "# marks the end of a code section"
   ]
  },
  {
   "cell_type": "markdown",
   "metadata": {},
   "source": [
    "## Test locally"
   ]
  },
  {
   "cell_type": "code",
   "execution_count": null,
   "metadata": {},
   "outputs": [],
   "source": [
    "event = nuclio.Event(body=b'{\"user_id\" : 111111 , \"event_type\": \"registration\", \"postcode\": 11014}')\n",
    "init_context(context)\n",
    "handler(context, event)\n"
   ]
  },
  {
   "cell_type": "markdown",
   "metadata": {},
   "source": [
    "## Deploy function"
   ]
  },
  {
   "cell_type": "code",
   "execution_count": null,
   "metadata": {},
   "outputs": [],
   "source": [
    "%nuclio deploy -p ${MDWS_PROJECT_NAME} -n ${V3IO_USERNAME}-enrich-stream"
   ]
  }
 ],
 "metadata": {
  "kernelspec": {
   "display_name": "Python [conda env:root] *",
   "language": "python",
   "name": "conda-root-py"
  },
  "language_info": {
   "codemirror_mode": {
    "name": "ipython",
    "version": 3
   },
   "file_extension": ".py",
   "mimetype": "text/x-python",
   "name": "python",
   "nbconvert_exporter": "python",
   "pygments_lexer": "ipython3",
   "version": "3.6.8"
  }
 },
 "nbformat": 4,
 "nbformat_minor": 4
}
