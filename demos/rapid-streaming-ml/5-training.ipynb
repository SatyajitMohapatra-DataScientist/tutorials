{
 "cells": [
  {
   "cell_type": "markdown",
   "metadata": {},
   "source": [
    "# 5. Training \n",
    " --------------------------------------------------------------------"
   ]
  },
  {
   "cell_type": "markdown",
   "metadata": {},
   "source": [
    "Train a model using a snapshot of the data.\n",
    "\n",
    "![Model deployment with streaming Real-time operational Pipeline](../../assets/images/model-deployment-with-streaming.png)"
   ]
  },
  {
   "cell_type": "code",
   "execution_count": 1,
   "metadata": {},
   "outputs": [],
   "source": [
    "%run config.py"
   ]
  },
  {
   "cell_type": "markdown",
   "metadata": {},
   "source": [
    "## Step 1: Create and Configure a New Project <a id=\"gs-step-project-create-n-config\"></a>"
   ]
  },
  {
   "cell_type": "markdown",
   "metadata": {},
   "source": [
    "### Create a New Project <a id=\"gs-create-project\"></a>"
   ]
  },
  {
   "cell_type": "code",
   "execution_count": 2,
   "metadata": {},
   "outputs": [
    {
     "name": "stdout",
     "output_type": "stream",
     "text": [
      "Project path: /User/_code2/tutorials/demos/rapid-streaming-ml/conf\n",
      "Project name: model-deployment-with-streaming-iguazio\n"
     ]
    }
   ],
   "source": [
    "from os import path, getenv\n",
    "from mlrun import new_project\n",
    "\n",
    "project_name = '-'.join(filter(None, [PROJECT_NAME, getenv('V3IO_USERNAME', None)]))\n",
    "project_path = path.abspath('conf')\n",
    "project = new_project(project_name, project_path, init_git=True)\n",
    "\n",
    "print(f'Project path: {project_path}\\nProject name: {project_name}')"
   ]
  },
  {
   "cell_type": "markdown",
   "metadata": {},
   "source": [
    "### Configure MLRun <a id=\"gs-mlrun-config\"></a>"
   ]
  },
  {
   "cell_type": "code",
   "execution_count": 3,
   "metadata": {},
   "outputs": [
    {
     "name": "stdout",
     "output_type": "stream",
     "text": [
      "Artifacts path: /User/_code2/tutorials/demos/rapid-streaming-ml/artifacts\n",
      "MLRun DB path: http://mlrun-api:8080\n"
     ]
    }
   ],
   "source": [
    "from mlrun import run_local, NewTask, mlconf, import_function, mount_v3io\n",
    "\n",
    "# Target location for storing pipeline artifacts\n",
    "artifact_path = path.abspath('artifacts')\n",
    "# MLRun DB path or API service URL\n",
    "mlconf.dbpath = mlconf.dbpath or 'http://mlrun-api:8080'\n",
    "\n",
    "print(f'Artifacts path: {artifact_path}\\nMLRun DB path: {mlconf.dbpath}')"
   ]
  },
  {
   "cell_type": "markdown",
   "metadata": {},
   "source": [
    "#### Import Nuclio <a id=\"gs-nuclio-import\"></a>\n"
   ]
  },
  {
   "cell_type": "code",
   "execution_count": 4,
   "metadata": {},
   "outputs": [],
   "source": [
    "import nuclio"
   ]
  },
  {
   "cell_type": "code",
   "execution_count": 5,
   "metadata": {},
   "outputs": [],
   "source": [
    "# nuclio: start-code"
   ]
  },
  {
   "cell_type": "code",
   "execution_count": 6,
   "metadata": {},
   "outputs": [
    {
     "name": "stdout",
     "output_type": "stream",
     "text": [
      "%nuclio: setting spec.build.baseImage to 'mlrun/ml-models'\n",
      "%nuclio: setting kind to 'job'\n"
     ]
    }
   ],
   "source": [
    "%nuclio config spec.build.baseImage = \"mlrun/ml-models\"\n",
    "%nuclio config kind = \"job\"\n",
    "%nuclio cmd -c pip install v3io-frames==0.6.18"
   ]
  },
  {
   "cell_type": "markdown",
   "metadata": {},
   "source": [
    "## Step 2: Take a Snapshot Data Set of the KV feature table <a id=\"gs-step-ingest-data\"></a>\n"
   ]
  },
  {
   "cell_type": "markdown",
   "metadata": {},
   "source": [
    "### Initialization <a id=\"gs-step-ingest-data-init\"></a>\n"
   ]
  },
  {
   "cell_type": "code",
   "execution_count": 7,
   "metadata": {},
   "outputs": [],
   "source": [
    "# nuclio: ignore\n",
    "# Set the source-data URL\n",
    "container = CONTAINER\n",
    "table_path = FEATURE_TABLE_PATH\n",
    "columns = ['label', 'socioeconomic_idx', \n",
    "           'purchase_sum', 'purchase_mean', 'purchase_count', 'purchase_var', \n",
    "           'bet_sum', 'bet_mean', 'bet_count' ,'bet_var',\n",
    "           'win_sum', 'win_mean', 'win_count' ,'win_var']\n",
    "format = 'csv'"
   ]
  },
  {
   "cell_type": "markdown",
   "metadata": {},
   "source": [
    "### Define a Data-Snapshot Function <a id=\"gs-step-ingest-data-define-function\"></a>\n"
   ]
  },
  {
   "cell_type": "code",
   "execution_count": 8,
   "metadata": {},
   "outputs": [],
   "source": [
    "from os import path\n",
    "import pandas as pd\n",
    "import v3io_frames as v3f\n",
    "\n",
    "\n",
    "# Ingest a data set into the platform\n",
    "def snapshot_data(context, container, table_path, columns, format='csv'):\n",
    "    \n",
    "    client = v3f.Client(\"framesd:8081\", container=container)\n",
    "    client.execute(backend=\"kv\", table=table_path, command=\"infer\")\n",
    "    df = client.read('kv', table_path, columns=columns)\n",
    "    \n",
    "    target_path = path.join(context.artifact_path, 'data')\n",
    "    # Optionally print data to your logger\n",
    "    context.logger.info('Saving snapshot data set to {} ...'.format(target_path))\n",
    "    \n",
    "    # Store the data set in your artifacts database\n",
    "    context.log_dataset('snapshot_dataset', df=df, format=format,\n",
    "                        index=False, artifact_path=target_path)"
   ]
  },
  {
   "cell_type": "code",
   "execution_count": 9,
   "metadata": {},
   "outputs": [],
   "source": [
    "# nuclio: end-code"
   ]
  },
  {
   "cell_type": "markdown",
   "metadata": {},
   "source": [
    "<a id='gs-run-ingest-func-local'></a>\n",
    "#### Run the Function Locally in Jupyter Notebook"
   ]
  },
  {
   "cell_type": "code",
   "execution_count": 10,
   "metadata": {},
   "outputs": [
    {
     "name": "stdout",
     "output_type": "stream",
     "text": [
      "[mlrun] 2020-08-04 22:02:28,956 starting run snapshot_data uid=5160ef50841842658552e618638d5364  -> http://mlrun-api:8080\n",
      "[mlrun] 2020-08-04 22:02:29,073 Saving snapshot data set to /User/_code2/tutorials/demos/rapid-streaming-ml/artifacts/data ...\n",
      "\n"
     ]
    },
    {
     "data": {
      "text/html": [
       "<style> \n",
       ".dictlist {\n",
       "  background-color: #b3edff; \n",
       "  text-align: center; \n",
       "  margin: 4px; \n",
       "  border-radius: 3px; padding: 0px 3px 1px 3px; display: inline-block;}\n",
       ".artifact {\n",
       "  cursor: pointer; \n",
       "  background-color: #ffe6cc; \n",
       "  text-align: left; \n",
       "  margin: 4px; border-radius: 3px; padding: 0px 3px 1px 3px; display: inline-block;\n",
       "}\n",
       "div.block.hidden {\n",
       "  display: none;\n",
       "}\n",
       ".clickable {\n",
       "  cursor: pointer;\n",
       "}\n",
       ".ellipsis {\n",
       "  display: inline-block;\n",
       "  max-width: 60px;\n",
       "  white-space: nowrap;\n",
       "  overflow: hidden;\n",
       "  text-overflow: ellipsis;\n",
       "}\n",
       ".master-wrapper {\n",
       "  display: flex;\n",
       "  flex-flow: row nowrap;\n",
       "  justify-content: flex-start;\n",
       "  align-items: stretch;\n",
       "}\n",
       ".master-tbl {\n",
       "  flex: 3\n",
       "}\n",
       ".master-wrapper > div {\n",
       "  margin: 4px;\n",
       "  padding: 10px;\n",
       "}\n",
       "iframe.fileview {\n",
       "  border: 0 none;\n",
       "  height: 100%;\n",
       "  width: 100%;\n",
       "  white-space: pre-wrap;\n",
       "}\n",
       ".pane-header-title {\n",
       "  width: 80%;\n",
       "  font-weight: 500;\n",
       "}\n",
       ".pane-header {\n",
       "  line-height: 1;\n",
       "  background-color: #ffe6cc;\n",
       "  padding: 3px;\n",
       "}\n",
       ".pane-header .close {\n",
       "  font-size: 20px;\n",
       "  font-weight: 700;\n",
       "  float: right;\n",
       "  margin-top: -5px;\n",
       "}\n",
       ".master-wrapper .right-pane {\n",
       "  border: 1px inset silver;\n",
       "  width: 40%;\n",
       "  min-height: 300px;\n",
       "  flex: 3\n",
       "  min-width: 500px;\n",
       "}\n",
       ".master-wrapper * {\n",
       "  box-sizing: border-box;\n",
       "}\n",
       "</style><script>\n",
       "function copyToClipboard(fld) {\n",
       "    if (document.queryCommandSupported && document.queryCommandSupported('copy')) {\n",
       "        var textarea = document.createElement('textarea');\n",
       "        textarea.textContent = fld.innerHTML;\n",
       "        textarea.style.position = 'fixed';\n",
       "        document.body.appendChild(textarea);\n",
       "        textarea.select();\n",
       "\n",
       "        try {\n",
       "            return document.execCommand('copy'); // Security exception may be thrown by some browsers.\n",
       "        } catch (ex) {\n",
       "\n",
       "        } finally {\n",
       "            document.body.removeChild(textarea);\n",
       "        }\n",
       "    }\n",
       "}\n",
       "function expandPanel(el) {\n",
       "  const panelName = \"#\" + el.getAttribute('paneName');\n",
       "  console.log(el.title);\n",
       "\n",
       "  document.querySelector(panelName + \"-title\").innerHTML = el.title\n",
       "  iframe = document.querySelector(panelName + \"-body\");\n",
       "  \n",
       "  const tblcss = `<style> body { font-family: Arial, Helvetica, sans-serif;}\n",
       "    #csv { margin-bottom: 15px; }\n",
       "    #csv table { border-collapse: collapse;}\n",
       "    #csv table td { padding: 4px 8px; border: 1px solid silver;} </style>`;\n",
       "\n",
       "  function csvToHtmlTable(str) {\n",
       "    return '<div id=\"csv\"><table><tr><td>' +  str.replace(/[\\n\\r]+$/g, '').replace(/[\\n\\r]+/g, '</td></tr><tr><td>')\n",
       "      .replace(/,/g, '</td><td>') + '</td></tr></table></div>';\n",
       "  }\n",
       "  \n",
       "  function reqListener () {\n",
       "    if (el.title.endsWith(\".csv\")) {\n",
       "      iframe.setAttribute(\"srcdoc\", tblcss + csvToHtmlTable(this.responseText));\n",
       "    } else {\n",
       "      iframe.setAttribute(\"srcdoc\", this.responseText);\n",
       "    }  \n",
       "    console.log(this.responseText);\n",
       "  }\n",
       "\n",
       "  const oReq = new XMLHttpRequest();\n",
       "  oReq.addEventListener(\"load\", reqListener);\n",
       "  oReq.open(\"GET\", el.title);\n",
       "  oReq.send();\n",
       "  \n",
       "  \n",
       "  //iframe.src = el.title;\n",
       "  const resultPane = document.querySelector(panelName + \"-pane\");\n",
       "  if (resultPane.classList.contains(\"hidden\")) {\n",
       "    resultPane.classList.remove(\"hidden\");\n",
       "  }\n",
       "}\n",
       "function closePanel(el) {\n",
       "  const panelName = \"#\" + el.getAttribute('paneName')\n",
       "  const resultPane = document.querySelector(panelName + \"-pane\");\n",
       "  if (!resultPane.classList.contains(\"hidden\")) {\n",
       "    resultPane.classList.add(\"hidden\");\n",
       "  }\n",
       "}\n",
       "\n",
       "</script>\n",
       "<div class=\"master-wrapper\">\n",
       "  <div class=\"block master-tbl\"><div>\n",
       "<style scoped>\n",
       "    .dataframe tbody tr th:only-of-type {\n",
       "        vertical-align: middle;\n",
       "    }\n",
       "\n",
       "    .dataframe tbody tr th {\n",
       "        vertical-align: top;\n",
       "    }\n",
       "\n",
       "    .dataframe thead th {\n",
       "        text-align: right;\n",
       "    }\n",
       "</style>\n",
       "<table border=\"1\" class=\"dataframe\">\n",
       "  <thead>\n",
       "    <tr style=\"text-align: right;\">\n",
       "      <th>project</th>\n",
       "      <th>uid</th>\n",
       "      <th>iter</th>\n",
       "      <th>start</th>\n",
       "      <th>state</th>\n",
       "      <th>name</th>\n",
       "      <th>labels</th>\n",
       "      <th>inputs</th>\n",
       "      <th>parameters</th>\n",
       "      <th>results</th>\n",
       "      <th>artifacts</th>\n",
       "    </tr>\n",
       "  </thead>\n",
       "  <tbody>\n",
       "    <tr>\n",
       "      <td>model-deployment-with-streaming-iguazio</td>\n",
       "      <td><div title=\"5160ef50841842658552e618638d5364\"><a href=\"https://mlrun-ui.default-tenant.app.csopcvsmndzp.iguazio-cd2.com/projects/model-deployment-with-streaming-iguazio/jobs/5160ef50841842658552e618638d5364/info\" target=\"_blank\" >...638d5364</a></div></td>\n",
       "      <td>0</td>\n",
       "      <td>Aug 04 22:02:29</td>\n",
       "      <td>completed</td>\n",
       "      <td>snapshot_data</td>\n",
       "      <td><div class=\"dictlist\">v3io_user=iguazio</div><div class=\"dictlist\">kind=handler</div><div class=\"dictlist\">owner=iguazio</div><div class=\"dictlist\">host=jupyter-8457c6d465-zld5w</div></td>\n",
       "      <td></td>\n",
       "      <td><div class=\"dictlist\">container=users</div><div class=\"dictlist\">table_path=/iguazio/examples/model-deployment-with-streaming/feature-table</div><div class=\"dictlist\">columns=['label', 'socioeconomic_idx', 'purchase_sum', 'purchase_mean', 'purchase_count', 'purchase_var', 'bet_sum', 'bet_mean', 'bet_count', 'bet_var', 'win_sum', 'win_mean', 'win_count', 'win_var']</div><div class=\"dictlist\">format=csv</div></td>\n",
       "      <td></td>\n",
       "      <td><div class=\"artifact\" onclick=\"expandPanel(this)\" paneName=\"resultdbf8135e\" title=\"/files/_code2/tutorials/demos/rapid-streaming-ml/artifacts/data/snapshot_dataset.csv\">snapshot_dataset</div></td>\n",
       "    </tr>\n",
       "  </tbody>\n",
       "</table>\n",
       "</div></div>\n",
       "  <div id=\"resultdbf8135e-pane\" class=\"right-pane block hidden\">\n",
       "    <div class=\"pane-header\">\n",
       "      <span id=\"resultdbf8135e-title\" class=\"pane-header-title\">Title</span>\n",
       "      <span onclick=\"closePanel(this)\" paneName=\"resultdbf8135e\" class=\"close clickable\">&times;</span>\n",
       "    </div>\n",
       "    <iframe class=\"fileview\" id=\"resultdbf8135e-body\"></iframe>\n",
       "  </div>\n",
       "</div>\n"
      ],
      "text/plain": [
       "<IPython.core.display.HTML object>"
      ]
     },
     "metadata": {},
     "output_type": "display_data"
    },
    {
     "name": "stdout",
     "output_type": "stream",
     "text": [
      "to track results use .show() or .logs() or in CLI: \n",
      "!mlrun get run 5160ef50841842658552e618638d5364 --project model-deployment-with-streaming-iguazio , !mlrun logs 5160ef50841842658552e618638d5364 --project model-deployment-with-streaming-iguazio\n",
      "[mlrun] 2020-08-04 22:02:29,314 run executed, status=completed\n"
     ]
    }
   ],
   "source": [
    "# Run the data-ingestion function locally in Jupyter Notebook\n",
    "snapshot_data_run = run_local(name='snapshot_data',\n",
    "                         handler=snapshot_data,\n",
    "                         params={'container': container, 'table_path': table_path, \n",
    "                                 'columns':columns, 'format': format},\n",
    "                         project=project_name, artifact_path=artifact_path)"
   ]
  },
  {
   "cell_type": "markdown",
   "metadata": {},
   "source": [
    "#### Run the Function on a Cluster <a id=\"gs-run-ingest-func-cluster\"></a>\n"
   ]
  },
  {
   "cell_type": "code",
   "execution_count": 11,
   "metadata": {},
   "outputs": [],
   "source": [
    "from mlrun import code_to_function\n",
    "\n",
    "# Convert the local snapshot_data function into a gen_func project function\n",
    "gen_func = code_to_function(name='snapshot-data')\n",
    "project.set_function(gen_func)\n",
    "snapshot_data_func = project.func('snapshot-data').apply(mount_v3io())"
   ]
  },
  {
   "cell_type": "code",
   "execution_count": 12,
   "metadata": {},
   "outputs": [
    {
     "name": "stdout",
     "output_type": "stream",
     "text": [
      "[mlrun] 2020-08-04 22:02:32,564 starting remote build, image: .mlrun/func-model-deployment-with-streaming-iguazio-snapshot-data-latest\n",
      "\u001b[36mINFO\u001b[0m[0000] Resolved base name mlrun/ml-models:0.4.10 to mlrun/ml-models:0.4.10 \n",
      "\u001b[36mINFO\u001b[0m[0000] Resolved base name mlrun/ml-models:0.4.10 to mlrun/ml-models:0.4.10 \n",
      "\u001b[36mINFO\u001b[0m[0000] Retrieving image manifest mlrun/ml-models:0.4.10 \n",
      "\u001b[36mINFO\u001b[0m[0000] Retrieving image manifest mlrun/ml-models:0.4.10 \n",
      "\u001b[36mINFO\u001b[0m[0000] Built cross stage deps: map[]                \n",
      "\u001b[36mINFO\u001b[0m[0000] Retrieving image manifest mlrun/ml-models:0.4.10 \n",
      "\u001b[36mINFO\u001b[0m[0001] Retrieving image manifest mlrun/ml-models:0.4.10 \n",
      "\u001b[36mINFO\u001b[0m[0001] Unpacking rootfs as cmd RUN pip install v3io-frames==0.6.18 requires it. \n",
      "\u001b[36mINFO\u001b[0m[0099] Taking snapshot of full filesystem...        \n",
      "\u001b[36mINFO\u001b[0m[0123] Resolving paths                              \n",
      "\u001b[36mINFO\u001b[0m[0145] RUN pip install v3io-frames==0.6.18          \n",
      "\u001b[36mINFO\u001b[0m[0145] cmd: /bin/sh                                 \n",
      "\u001b[36mINFO\u001b[0m[0145] args: [-c pip install v3io-frames==0.6.18]   \n",
      "Collecting v3io-frames==0.6.18\n",
      "  Downloading v3io_frames-0.6.18-py3-none-any.whl (33 kB)\n",
      "Collecting grpcio-tools>=1.26.0\n",
      "  Downloading grpcio_tools-1.30.0-cp37-cp37m-manylinux2010_x86_64.whl (2.5 MB)\n",
      "Requirement already satisfied: googleapis-common-protos>=1.5.3 in /opt/conda/lib/python3.7/site-packages (from v3io-frames==0.6.18) (1.52.0)\n",
      "Requirement already satisfied: pandas>=0.23.4 in /opt/conda/lib/python3.7/site-packages (from v3io-frames==0.6.18) (1.0.1)\n",
      "Requirement already satisfied: requests>=2.19.1 in /opt/conda/lib/python3.7/site-packages (from v3io-frames==0.6.18) (2.22.0)\n",
      "Requirement already satisfied: grpcio>=1.30.0 in /opt/conda/lib/python3.7/site-packages (from grpcio-tools>=1.26.0->v3io-frames==0.6.18) (1.30.0)\n",
      "Requirement already satisfied: protobuf>=3.5.0.post1 in /opt/conda/lib/python3.7/site-packages (from grpcio-tools>=1.26.0->v3io-frames==0.6.18) (3.12.2)\n",
      "Requirement already satisfied: pytz>=2017.2 in /opt/conda/lib/python3.7/site-packages (from pandas>=0.23.4->v3io-frames==0.6.18) (2019.3)\n",
      "Requirement already satisfied: numpy>=1.13.3 in /opt/conda/lib/python3.7/site-packages (from pandas>=0.23.4->v3io-frames==0.6.18) (1.18.1)\n",
      "Requirement already satisfied: python-dateutil>=2.6.1 in /opt/conda/lib/python3.7/site-packages (from pandas>=0.23.4->v3io-frames==0.6.18) (2.8.1)\n",
      "Requirement already satisfied: chardet<3.1.0,>=3.0.2 in /opt/conda/lib/python3.7/site-packages (from requests>=2.19.1->v3io-frames==0.6.18) (3.0.4)\n",
      "Requirement already satisfied: certifi>=2017.4.17 in /opt/conda/lib/python3.7/site-packages (from requests>=2.19.1->v3io-frames==0.6.18) (2019.11.28)\n",
      "Requirement already satisfied: urllib3!=1.25.0,!=1.25.1,<1.26,>=1.21.1 in /opt/conda/lib/python3.7/site-packages (from requests>=2.19.1->v3io-frames==0.6.18) (1.25.8)\n",
      "Requirement already satisfied: idna<2.9,>=2.5 in /opt/conda/lib/python3.7/site-packages (from requests>=2.19.1->v3io-frames==0.6.18) (2.8)\n",
      "Requirement already satisfied: six>=1.5.2 in /opt/conda/lib/python3.7/site-packages (from grpcio>=1.30.0->grpcio-tools>=1.26.0->v3io-frames==0.6.18) (1.14.0)\n",
      "Requirement already satisfied: setuptools in /opt/conda/lib/python3.7/site-packages (from protobuf>=3.5.0.post1->grpcio-tools>=1.26.0->v3io-frames==0.6.18) (45.2.0.post20200210)\n",
      "Installing collected packages: grpcio-tools, v3io-frames\n",
      "Successfully installed grpcio-tools-1.30.0 v3io-frames-0.6.18\n",
      "\u001b[36mINFO\u001b[0m[0149] Taking snapshot of full filesystem...        \n",
      "\u001b[36mINFO\u001b[0m[0149] Resolving paths                              \n",
      "\u001b[36mINFO\u001b[0m[0166] RUN pip install mlrun                        \n",
      "\u001b[36mINFO\u001b[0m[0166] cmd: /bin/sh                                 \n",
      "\u001b[36mINFO\u001b[0m[0166] args: [-c pip install mlrun]                 \n",
      "Requirement already satisfied: mlrun in /opt/conda/lib/python3.7/site-packages (0.4.10)\n",
      "Requirement already satisfied: aiohttp>=3.5.0 in /opt/conda/lib/python3.7/site-packages (from mlrun) (3.6.2)\n",
      "Requirement already satisfied: kfp>=0.1.29 in /opt/conda/lib/python3.7/site-packages (from mlrun) (0.5.1)\n",
      "Requirement already satisfied: seaborn in /opt/conda/lib/python3.7/site-packages (from mlrun) (0.10.0)\n",
      "Requirement already satisfied: v3io>=0.3.3 in /opt/conda/lib/python3.7/site-packages (from mlrun) (0.3.15)\n",
      "Requirement already satisfied: requests>=2.20.1 in /opt/conda/lib/python3.7/site-packages (from mlrun) (2.22.0)\n",
      "Requirement already satisfied: sqlalchemy>=1.3.0 in /opt/conda/lib/python3.7/site-packages (from mlrun) (1.3.13)\n",
      "Requirement already satisfied: nuclio-jupyter>=0.8.3 in /opt/conda/lib/python3.7/site-packages (from mlrun) (0.8.5)\n",
      "Requirement already satisfied: pyarrow>=0.13 in /opt/conda/lib/python3.7/site-packages (from mlrun) (0.17.1)\n",
      "Requirement already satisfied: boto3>=1.9 in /opt/conda/lib/python3.7/site-packages (from mlrun) (1.14.9)\n",
      "Requirement already satisfied: GitPython>=2.1.0 in /opt/conda/lib/python3.7/site-packages (from mlrun) (3.1.3)\n",
      "Requirement already satisfied: click==7.0 in /opt/conda/lib/python3.7/site-packages (from mlrun) (7.0)\n",
      "Requirement already satisfied: tabulate<=0.8.3,>=0.8.0 in /opt/conda/lib/python3.7/site-packages (from mlrun) (0.8.3)\n",
      "Requirement already satisfied: nest-asyncio>=1.0.0 in /opt/conda/lib/python3.7/site-packages (from mlrun) (1.3.3)\n",
      "Requirement already satisfied: pandas>=1.0.1 in /opt/conda/lib/python3.7/site-packages (from mlrun) (1.0.1)\n",
      "Requirement already satisfied: matplotlib in /opt/conda/lib/python3.7/site-packages (from mlrun) (3.1.3)\n",
      "Requirement already satisfied: pyyaml>=5.1.0 in /opt/conda/lib/python3.7/site-packages (from mlrun) (5.3)\n",
      "Requirement already satisfied: scikit-learn in /opt/conda/lib/python3.7/site-packages (from mlrun) (0.23.1)\n",
      "Requirement already satisfied: chardet<4.0,>=2.0 in /opt/conda/lib/python3.7/site-packages (from aiohttp>=3.5.0->mlrun) (3.0.4)\n",
      "Requirement already satisfied: attrs>=17.3.0 in /opt/conda/lib/python3.7/site-packages (from aiohttp>=3.5.0->mlrun) (19.3.0)\n",
      "Requirement already satisfied: yarl<2.0,>=1.0 in /opt/conda/lib/python3.7/site-packages (from aiohttp>=3.5.0->mlrun) (1.4.2)\n",
      "Requirement already satisfied: multidict<5.0,>=4.5 in /opt/conda/lib/python3.7/site-packages (from aiohttp>=3.5.0->mlrun) (4.7.6)\n",
      "Requirement already satisfied: async-timeout<4.0,>=3.0 in /opt/conda/lib/python3.7/site-packages (from aiohttp>=3.5.0->mlrun) (3.0.1)\n",
      "Requirement already satisfied: strip-hints in /opt/conda/lib/python3.7/site-packages (from kfp>=0.1.29->mlrun) (0.1.9)\n",
      "Requirement already satisfied: google-cloud-storage>=1.13.0 in /opt/conda/lib/python3.7/site-packages (from kfp>=0.1.29->mlrun) (1.29.0)\n",
      "Requirement already satisfied: kubernetes<12.0.0,>=8.0.0 in /opt/conda/lib/python3.7/site-packages (from kfp>=0.1.29->mlrun) (10.0.1)\n",
      "Requirement already satisfied: google-auth>=1.6.1 in /opt/conda/lib/python3.7/site-packages (from kfp>=0.1.29->mlrun) (1.18.0)\n",
      "Requirement already satisfied: kfp-server-api<0.6.0,>=0.2.5 in /opt/conda/lib/python3.7/site-packages (from kfp>=0.1.29->mlrun) (0.5.0)\n",
      "Requirement already satisfied: jsonschema>=3.0.1 in /opt/conda/lib/python3.7/site-packages (from kfp>=0.1.29->mlrun) (3.2.0)\n",
      "Requirement already satisfied: Deprecated in /opt/conda/lib/python3.7/site-packages (from kfp>=0.1.29->mlrun) (1.2.10)\n",
      "Requirement already satisfied: cloudpickle in /opt/conda/lib/python3.7/site-packages (from kfp>=0.1.29->mlrun) (1.1.1)\n",
      "Requirement already satisfied: requests-toolbelt>=0.8.0 in /opt/conda/lib/python3.7/site-packages (from kfp>=0.1.29->mlrun) (0.9.1)\n",
      "Requirement already satisfied: scipy>=1.0.1 in /opt/conda/lib/python3.7/site-packages (from seaborn->mlrun) (1.4.1)\n",
      "Requirement already satisfied: numpy>=1.13.3 in /opt/conda/lib/python3.7/site-packages (from seaborn->mlrun) (1.18.1)\n",
      "Requirement already satisfied: ujson~=2.0 in /opt/conda/lib/python3.7/site-packages (from v3io>=0.3.3->mlrun) (2.0.3)\n",
      "Requirement already satisfied: future>=0.18.2 in /opt/conda/lib/python3.7/site-packages (from v3io>=0.3.3->mlrun) (0.18.2)\n",
      "Requirement already satisfied: certifi>=2017.4.17 in /opt/conda/lib/python3.7/site-packages (from requests>=2.20.1->mlrun) (2019.11.28)\n",
      "Requirement already satisfied: idna<2.9,>=2.5 in /opt/conda/lib/python3.7/site-packages (from requests>=2.20.1->mlrun) (2.8)\n",
      "Requirement already satisfied: urllib3!=1.25.0,!=1.25.1,<1.26,>=1.21.1 in /opt/conda/lib/python3.7/site-packages (from requests>=2.20.1->mlrun) (1.25.8)\n",
      "Requirement already satisfied: nbconvert>=5.4 in /opt/conda/lib/python3.7/site-packages (from nuclio-jupyter>=0.8.3->mlrun) (5.6.1)\n",
      "Requirement already satisfied: notebook>=5.2.0 in /opt/conda/lib/python3.7/site-packages (from nuclio-jupyter>=0.8.3->mlrun) (6.0.3)\n",
      "Requirement already satisfied: ipython>=5.5 in /opt/conda/lib/python3.7/site-packages (from nuclio-jupyter>=0.8.3->mlrun) (7.12.0)\n",
      "Requirement already satisfied: s3transfer<0.4.0,>=0.3.0 in /opt/conda/lib/python3.7/site-packages (from boto3>=1.9->mlrun) (0.3.3)\n",
      "Requirement already satisfied: botocore<1.18.0,>=1.17.9 in /opt/conda/lib/python3.7/site-packages (from boto3>=1.9->mlrun) (1.17.9)\n",
      "Requirement already satisfied: jmespath<1.0.0,>=0.7.1 in /opt/conda/lib/python3.7/site-packages (from boto3>=1.9->mlrun) (0.10.0)\n",
      "Requirement already satisfied: gitdb<5,>=4.0.1 in /opt/conda/lib/python3.7/site-packages (from GitPython>=2.1.0->mlrun) (4.0.5)\n",
      "Requirement already satisfied: pytz>=2017.2 in /opt/conda/lib/python3.7/site-packages (from pandas>=1.0.1->mlrun) (2019.3)\n",
      "Requirement already satisfied: python-dateutil>=2.6.1 in /opt/conda/lib/python3.7/site-packages (from pandas>=1.0.1->mlrun) (2.8.1)\n",
      "Requirement already satisfied: cycler>=0.10 in /opt/conda/lib/python3.7/site-packages (from matplotlib->mlrun) (0.10.0)\n",
      "Requirement already satisfied: kiwisolver>=1.0.1 in /opt/conda/lib/python3.7/site-packages (from matplotlib->mlrun) (1.1.0)\n",
      "Requirement already satisfied: pyparsing!=2.0.4,!=2.1.2,!=2.1.6,>=2.0.1 in /opt/conda/lib/python3.7/site-packages (from matplotlib->mlrun) (2.4.6)\n",
      "Requirement already satisfied: joblib>=0.11 in /opt/conda/lib/python3.7/site-packages (from scikit-learn->mlrun) (0.14.1)\n",
      "Requirement already satisfied: threadpoolctl>=2.0.0 in /opt/conda/lib/python3.7/site-packages (from scikit-learn->mlrun) (2.1.0)\n",
      "Requirement already satisfied: wheel in /opt/conda/lib/python3.7/site-packages (from strip-hints->kfp>=0.1.29->mlrun) (0.34.2)\n",
      "Requirement already satisfied: google-resumable-media<0.6dev,>=0.5.0 in /opt/conda/lib/python3.7/site-packages (from google-cloud-storage>=1.13.0->kfp>=0.1.29->mlrun) (0.5.1)\n",
      "Requirement already satisfied: google-cloud-core<2.0dev,>=1.2.0 in /opt/conda/lib/python3.7/site-packages (from google-cloud-storage>=1.13.0->kfp>=0.1.29->mlrun) (1.3.0)\n",
      "Requirement already satisfied: setuptools>=21.0.0 in /opt/conda/lib/python3.7/site-packages (from kubernetes<12.0.0,>=8.0.0->kfp>=0.1.29->mlrun) (45.2.0.post20200210)\n",
      "Requirement already satisfied: six>=1.9.0 in /opt/conda/lib/python3.7/site-packages (from kubernetes<12.0.0,>=8.0.0->kfp>=0.1.29->mlrun) (1.14.0)\n",
      "Requirement already satisfied: requests-oauthlib in /opt/conda/lib/python3.7/site-packages (from kubernetes<12.0.0,>=8.0.0->kfp>=0.1.29->mlrun) (1.3.0)\n",
      "Requirement already satisfied: websocket-client!=0.40.0,!=0.41.*,!=0.42.*,>=0.32.0 in /opt/conda/lib/python3.7/site-packages (from kubernetes<12.0.0,>=8.0.0->kfp>=0.1.29->mlrun) (0.57.0)\n",
      "Requirement already satisfied: rsa<5,>=3.1.4; python_version >= \"3\" in /opt/conda/lib/python3.7/site-packages (from google-auth>=1.6.1->kfp>=0.1.29->mlrun) (4.6)\n",
      "Requirement already satisfied: pyasn1-modules>=0.2.1 in /opt/conda/lib/python3.7/site-packages (from google-auth>=1.6.1->kfp>=0.1.29->mlrun) (0.2.8)\n",
      "Requirement already satisfied: cachetools<5.0,>=2.0.0 in /opt/conda/lib/python3.7/site-packages (from google-auth>=1.6.1->kfp>=0.1.29->mlrun) (4.1.0)\n",
      "Requirement already satisfied: pyrsistent>=0.14.0 in /opt/conda/lib/python3.7/site-packages (from jsonschema>=3.0.1->kfp>=0.1.29->mlrun) (0.15.7)\n",
      "Requirement already satisfied: importlib-metadata; python_version < \"3.8\" in /opt/conda/lib/python3.7/site-packages (from jsonschema>=3.0.1->kfp>=0.1.29->mlrun) (1.5.0)\n",
      "Requirement already satisfied: wrapt<2,>=1.10 in /opt/conda/lib/python3.7/site-packages (from Deprecated->kfp>=0.1.29->mlrun) (1.12.1)\n",
      "Requirement already satisfied: entrypoints>=0.2.2 in /opt/conda/lib/python3.7/site-packages (from nbconvert>=5.4->nuclio-jupyter>=0.8.3->mlrun) (0.3)\n",
      "Requirement already satisfied: bleach in /opt/conda/lib/python3.7/site-packages (from nbconvert>=5.4->nuclio-jupyter>=0.8.3->mlrun) (3.1.0)\n",
      "Requirement already satisfied: mistune<2,>=0.8.1 in /opt/conda/lib/python3.7/site-packages (from nbconvert>=5.4->nuclio-jupyter>=0.8.3->mlrun) (0.8.4)\n",
      "Requirement already satisfied: traitlets>=4.2 in /opt/conda/lib/python3.7/site-packages (from nbconvert>=5.4->nuclio-jupyter>=0.8.3->mlrun) (4.3.3)\n",
      "Requirement already satisfied: pygments in /opt/conda/lib/python3.7/site-packages (from nbconvert>=5.4->nuclio-jupyter>=0.8.3->mlrun) (2.5.2)\n",
      "Requirement already satisfied: jinja2>=2.4 in /opt/conda/lib/python3.7/site-packages (from nbconvert>=5.4->nuclio-jupyter>=0.8.3->mlrun) (2.11.1)\n",
      "Requirement already satisfied: pandocfilters>=1.4.1 in /opt/conda/lib/python3.7/site-packages (from nbconvert>=5.4->nuclio-jupyter>=0.8.3->mlrun) (1.4.2)\n",
      "Requirement already satisfied: jupyter-core in /opt/conda/lib/python3.7/site-packages (from nbconvert>=5.4->nuclio-jupyter>=0.8.3->mlrun) (4.6.1)\n",
      "Requirement already satisfied: nbformat>=4.4 in /opt/conda/lib/python3.7/site-packages (from nbconvert>=5.4->nuclio-jupyter>=0.8.3->mlrun) (5.0.4)\n",
      "Requirement already satisfied: defusedxml in /opt/conda/lib/python3.7/site-packages (from nbconvert>=5.4->nuclio-jupyter>=0.8.3->mlrun) (0.6.0)\n",
      "Requirement already satisfied: testpath in /opt/conda/lib/python3.7/site-packages (from nbconvert>=5.4->nuclio-jupyter>=0.8.3->mlrun) (0.4.4)\n",
      "Requirement already satisfied: prometheus-client in /opt/conda/lib/python3.7/site-packages (from notebook>=5.2.0->nuclio-jupyter>=0.8.3->mlrun) (0.7.1)\n",
      "Requirement already satisfied: jupyter-client>=5.3.4 in /opt/conda/lib/python3.7/site-packages (from notebook>=5.2.0->nuclio-jupyter>=0.8.3->mlrun) (5.3.4)\n",
      "Requirement already satisfied: tornado>=5.0 in /opt/conda/lib/python3.7/site-packages (from notebook>=5.2.0->nuclio-jupyter>=0.8.3->mlrun) (6.0.4)\n",
      "Requirement already satisfied: Send2Trash in /opt/conda/lib/python3.7/site-packages (from notebook>=5.2.0->nuclio-jupyter>=0.8.3->mlrun) (1.5.0)\n",
      "Requirement already satisfied: terminado>=0.8.1 in /opt/conda/lib/python3.7/site-packages (from notebook>=5.2.0->nuclio-jupyter>=0.8.3->mlrun) (0.8.3)\n",
      "Requirement already satisfied: pyzmq>=17 in /opt/conda/lib/python3.7/site-packages (from notebook>=5.2.0->nuclio-jupyter>=0.8.3->mlrun) (18.1.1)\n",
      "Requirement already satisfied: ipython-genutils in /opt/conda/lib/python3.7/site-packages (from notebook>=5.2.0->nuclio-jupyter>=0.8.3->mlrun) (0.2.0)\n",
      "Requirement already satisfied: ipykernel in /opt/conda/lib/python3.7/site-packages (from notebook>=5.2.0->nuclio-jupyter>=0.8.3->mlrun) (5.1.4)\n",
      "Requirement already satisfied: backcall in /opt/conda/lib/python3.7/site-packages (from ipython>=5.5->nuclio-jupyter>=0.8.3->mlrun) (0.1.0)\n",
      "Requirement already satisfied: pickleshare in /opt/conda/lib/python3.7/site-packages (from ipython>=5.5->nuclio-jupyter>=0.8.3->mlrun) (0.7.5)\n",
      "Requirement already satisfied: pexpect; sys_platform != \"win32\" in /opt/conda/lib/python3.7/site-packages (from ipython>=5.5->nuclio-jupyter>=0.8.3->mlrun) (4.8.0)\n",
      "Requirement already satisfied: prompt-toolkit!=3.0.0,!=3.0.1,<3.1.0,>=2.0.0 in /opt/conda/lib/python3.7/site-packages (from ipython>=5.5->nuclio-jupyter>=0.8.3->mlrun) (3.0.3)\n",
      "Requirement already satisfied: jedi>=0.10 in /opt/conda/lib/python3.7/site-packages (from ipython>=5.5->nuclio-jupyter>=0.8.3->mlrun) (0.14.1)\n",
      "Requirement already satisfied: decorator in /opt/conda/lib/python3.7/site-packages (from ipython>=5.5->nuclio-jupyter>=0.8.3->mlrun) (4.4.1)\n",
      "Requirement already satisfied: docutils<0.16,>=0.10 in /opt/conda/lib/python3.7/site-packages (from botocore<1.18.0,>=1.17.9->boto3>=1.9->mlrun) (0.15.2)\n",
      "Requirement already satisfied: smmap<4,>=3.0.1 in /opt/conda/lib/python3.7/site-packages (from gitdb<5,>=4.0.1->GitPython>=2.1.0->mlrun) (3.0.4)\n",
      "Requirement already satisfied: google-api-core<2.0.0dev,>=1.16.0 in /opt/conda/lib/python3.7/site-packages (from google-cloud-core<2.0dev,>=1.2.0->google-cloud-storage>=1.13.0->kfp>=0.1.29->mlrun) (1.21.0)\n",
      "Requirement already satisfied: oauthlib>=3.0.0 in /opt/conda/lib/python3.7/site-packages (from requests-oauthlib->kubernetes<12.0.0,>=8.0.0->kfp>=0.1.29->mlrun) (3.1.0)\n",
      "Requirement already satisfied: pyasn1>=0.1.3 in /opt/conda/lib/python3.7/site-packages (from rsa<5,>=3.1.4; python_version >= \"3\"->google-auth>=1.6.1->kfp>=0.1.29->mlrun) (0.4.8)\n",
      "Requirement already satisfied: zipp>=0.5 in /opt/conda/lib/python3.7/site-packages (from importlib-metadata; python_version < \"3.8\"->jsonschema>=3.0.1->kfp>=0.1.29->mlrun) (2.2.0)\n",
      "Requirement already satisfied: webencodings in /opt/conda/lib/python3.7/site-packages (from bleach->nbconvert>=5.4->nuclio-jupyter>=0.8.3->mlrun) (0.5.1)\n",
      "Requirement already satisfied: MarkupSafe>=0.23 in /opt/conda/lib/python3.7/site-packages (from jinja2>=2.4->nbconvert>=5.4->nuclio-jupyter>=0.8.3->mlrun) (1.1.1)\n",
      "Requirement already satisfied: ptyprocess>=0.5 in /opt/conda/lib/python3.7/site-packages (from pexpect; sys_platform != \"win32\"->ipython>=5.5->nuclio-jupyter>=0.8.3->mlrun) (0.6.0)\n",
      "Requirement already satisfied: wcwidth in /opt/conda/lib/python3.7/site-packages (from prompt-toolkit!=3.0.0,!=3.0.1,<3.1.0,>=2.0.0->ipython>=5.5->nuclio-jupyter>=0.8.3->mlrun) (0.1.8)\n",
      "Requirement already satisfied: parso>=0.5.0 in /opt/conda/lib/python3.7/site-packages (from jedi>=0.10->ipython>=5.5->nuclio-jupyter>=0.8.3->mlrun) (0.5.2)\n",
      "Requirement already satisfied: googleapis-common-protos<2.0dev,>=1.6.0 in /opt/conda/lib/python3.7/site-packages (from google-api-core<2.0.0dev,>=1.16.0->google-cloud-core<2.0dev,>=1.2.0->google-cloud-storage>=1.13.0->kfp>=0.1.29->mlrun) (1.52.0)\n",
      "Requirement already satisfied: protobuf>=3.12.0 in /opt/conda/lib/python3.7/site-packages (from google-api-core<2.0.0dev,>=1.16.0->google-cloud-core<2.0dev,>=1.2.0->google-cloud-storage>=1.13.0->kfp>=0.1.29->mlrun) (3.12.2)\n",
      "\u001b[36mINFO\u001b[0m[0169] Taking snapshot of full filesystem...        \n",
      "\u001b[36mINFO\u001b[0m[0169] Resolving paths                              \n"
     ]
    },
    {
     "data": {
      "text/plain": [
       "True"
      ]
     },
     "execution_count": 12,
     "metadata": {},
     "output_type": "execute_result"
    }
   ],
   "source": [
    "#Build image\n",
    "snapshot_data_func.deploy()"
   ]
  },
  {
   "cell_type": "markdown",
   "metadata": {},
   "source": [
    "##### Run the Function on the Cluster <a id=\"gs-run-ingest-func-on-the-cluster-run-function\"></a>\n"
   ]
  },
  {
   "cell_type": "code",
   "execution_count": 13,
   "metadata": {},
   "outputs": [
    {
     "name": "stdout",
     "output_type": "stream",
     "text": [
      "[mlrun] 2020-08-04 22:06:08,151 starting run snapshot_data uid=bbd91a9111ca498f8a72a4b656447837  -> http://mlrun-api:8080\n",
      "[mlrun] 2020-08-04 22:06:08,344 Job is running in the background, pod: snapshot-data-xc2l5\n",
      "[mlrun] 2020-08-04 22:07:21,915 Traceback (most recent call last):\n",
      "  File \"/opt/conda/lib/python3.7/site-packages/v3io_frames/grpc.py\", line 49, in wrapper\n",
      "    return fn(*args, **kw)\n",
      "  File \"/opt/conda/lib/python3.7/site-packages/v3io_frames/grpc.py\", line 208, in _execute\n",
      "    resp = stub.Exec(request)\n",
      "  File \"/opt/conda/lib/python3.7/site-packages/grpc/_interceptor.py\", line 221, in __call__\n",
      "    compression=compression)\n",
      "  File \"/opt/conda/lib/python3.7/site-packages/grpc/_interceptor.py\", line 257, in _with_call\n",
      "    return call.result(), call\n",
      "  File \"/opt/conda/lib/python3.7/site-packages/grpc/_channel.py\", line 333, in result\n",
      "    raise self\n",
      "  File \"/opt/conda/lib/python3.7/site-packages/grpc/_interceptor.py\", line 247, in continuation\n",
      "    compression=new_compression)\n",
      "  File \"/opt/conda/lib/python3.7/site-packages/grpc/_channel.py\", line 837, in with_call\n",
      "    return _end_unary_response_blocking(state, call, True, None)\n",
      "  File \"/opt/conda/lib/python3.7/site-packages/grpc/_channel.py\", line 729, in _end_unary_response_blocking\n",
      "    raise _InactiveRpcError(state)\n",
      "grpc._channel._InactiveRpcError: <_InactiveRpcError of RPC that terminated with:\n",
      "\tstatus = StatusCode.UNKNOWN\n",
      "\tdetails = \"can't exec: type 'string' of value '042abfee-c9bd-48b6-9eea-efd08fbffd3d' doesn't match type 'int' of value '111111' for column 'user_id'.\"\n",
      "\tdebug_error_string = \"{\"created\":\"@1596578841.914158832\",\"description\":\"Error received from peer ipv4:10.197.43.157:8081\",\"file\":\"src/core/lib/surface/call.cc\",\"file_line\":1055,\"grpc_message\":\"can't exec: type 'string' of value '042abfee-c9bd-48b6-9eea-efd08fbffd3d' doesn't match type 'int' of value '111111' for column 'user_id'.\",\"grpc_status\":2}\"\n",
      ">\n",
      "\n",
      "During handling of the above exception, another exception occurred:\n",
      "\n",
      "Traceback (most recent call last):\n",
      "  File \"/opt/conda/lib/python3.7/site-packages/mlrun/runtimes/local.py\", line 194, in exec_from_params\n",
      "    val = handler(*args_list)\n",
      "  File \"main.py\", line 11, in snapshot_data\n",
      "    client.execute(backend=\"kv\", table=table_path, command=\"infer\")\n",
      "  File \"/opt/conda/lib/python3.7/site-packages/v3io_frames/client.py\", line 412, in execute\n",
      "    return self._execute(self._alias_backends(backend), table, command, args, expression=None)\n",
      "  File \"/opt/conda/lib/python3.7/site-packages/v3io_frames/grpc.py\", line 53, in wrapper\n",
      "    raise err\n",
      "v3io_frames.errors.ExecuteError: error in _execute: <_InactiveRpcError of RPC that terminated with:\n",
      "\tstatus = StatusCode.UNKNOWN\n",
      "\tdetails = \"can't exec: type 'string' of value '042abfee-c9bd-48b6-9eea-efd08fbffd3d' doesn't match type 'int' of value '111111' for column 'user_id'.\"\n",
      "\tdebug_error_string = \"{\"created\":\"@1596578841.914158832\",\"description\":\"Error received from peer ipv4:10.197.43.157:8081\",\"file\":\"src/core/lib/surface/call.cc\",\"file_line\":1055,\"grpc_message\":\"can't exec: type 'string' of value '042abfee-c9bd-48b6-9eea-efd08fbffd3d' doesn't match type 'int' of value '111111' for column 'user_id'.\",\"grpc_status\":2}\"\n",
      ">\n",
      "\n",
      "\n",
      "[mlrun] 2020-08-04 22:07:21,955 exec error - error in _execute: <_InactiveRpcError of RPC that terminated with:\n",
      "\tstatus = StatusCode.UNKNOWN\n",
      "\tdetails = \"can't exec: type 'string' of value '042abfee-c9bd-48b6-9eea-efd08fbffd3d' doesn't match type 'int' of value '111111' for column 'user_id'.\"\n",
      "\tdebug_error_string = \"{\"created\":\"@1596578841.914158832\",\"description\":\"Error received from peer ipv4:10.197.43.157:8081\",\"file\":\"src/core/lib/surface/call.cc\",\"file_line\":1055,\"grpc_message\":\"can't exec: type 'string' of value '042abfee-c9bd-48b6-9eea-efd08fbffd3d' doesn't match type 'int' of value '111111' for column 'user_id'.\",\"grpc_status\":2}\"\n",
      ">\n",
      "[mlrun] 2020-08-04 22:07:22,168 run executed, status=error\n",
      "runtime error: error in _execute: <_InactiveRpcError of RPC that terminated with:\n",
      "\tstatus = StatusCode.UNKNOWN\n",
      "\tdetails = \"can't exec: type 'string' of value '042abfee-c9bd-48b6-9eea-efd08fbffd3d' doesn't match type 'int' of value '111111' for column 'user_id'.\"\n",
      "\tdebug_error_string = \"{\"created\":\"@1596578841.914158832\",\"description\":\"Error received from peer ipv4:10.197.43.157:8081\",\"file\":\"src/core/lib/surface/call.cc\",\"file_line\":1055,\"grpc_message\":\"can't exec: type 'string' of value '042abfee-c9bd-48b6-9eea-efd08fbffd3d' doesn't match type 'int' of value '111111' for column 'user_id'.\",\"grpc_status\":2}\"\n",
      ">\n",
      "error in _execute: <_InactiveRpcError of RPC that terminated with:\n",
      "\tstatus = StatusCode.UNKNOWN\n",
      "\tdetails = \"can't exec: type 'string' of value '042abfee-c9bd-48b6-9eea-efd08fbffd3d' doesn't match type 'int' of value '111111' for column 'user_id'.\"\n",
      "\tdebug_error_string = \"{\"created\":\"@1596578841.914158832\",\"description\":\"Error received from peer ipv4:10.197.43.157:8081\",\"file\":\"src/core/lib/surface/call.cc\",\"file_line\":1055,\"grpc_message\":\"can't exec: type 'string' of value '042abfee-c9bd-48b6-9eea-efd08fbffd3d' doesn't match type 'int' of value '111111' for column 'user_id'.\",\"grpc_status\":2}\"\n",
      ">\n",
      "final state: failed\n"
     ]
    },
    {
     "data": {
      "text/html": [
       "<style> \n",
       ".dictlist {\n",
       "  background-color: #b3edff; \n",
       "  text-align: center; \n",
       "  margin: 4px; \n",
       "  border-radius: 3px; padding: 0px 3px 1px 3px; display: inline-block;}\n",
       ".artifact {\n",
       "  cursor: pointer; \n",
       "  background-color: #ffe6cc; \n",
       "  text-align: left; \n",
       "  margin: 4px; border-radius: 3px; padding: 0px 3px 1px 3px; display: inline-block;\n",
       "}\n",
       "div.block.hidden {\n",
       "  display: none;\n",
       "}\n",
       ".clickable {\n",
       "  cursor: pointer;\n",
       "}\n",
       ".ellipsis {\n",
       "  display: inline-block;\n",
       "  max-width: 60px;\n",
       "  white-space: nowrap;\n",
       "  overflow: hidden;\n",
       "  text-overflow: ellipsis;\n",
       "}\n",
       ".master-wrapper {\n",
       "  display: flex;\n",
       "  flex-flow: row nowrap;\n",
       "  justify-content: flex-start;\n",
       "  align-items: stretch;\n",
       "}\n",
       ".master-tbl {\n",
       "  flex: 3\n",
       "}\n",
       ".master-wrapper > div {\n",
       "  margin: 4px;\n",
       "  padding: 10px;\n",
       "}\n",
       "iframe.fileview {\n",
       "  border: 0 none;\n",
       "  height: 100%;\n",
       "  width: 100%;\n",
       "  white-space: pre-wrap;\n",
       "}\n",
       ".pane-header-title {\n",
       "  width: 80%;\n",
       "  font-weight: 500;\n",
       "}\n",
       ".pane-header {\n",
       "  line-height: 1;\n",
       "  background-color: #ffe6cc;\n",
       "  padding: 3px;\n",
       "}\n",
       ".pane-header .close {\n",
       "  font-size: 20px;\n",
       "  font-weight: 700;\n",
       "  float: right;\n",
       "  margin-top: -5px;\n",
       "}\n",
       ".master-wrapper .right-pane {\n",
       "  border: 1px inset silver;\n",
       "  width: 40%;\n",
       "  min-height: 300px;\n",
       "  flex: 3\n",
       "  min-width: 500px;\n",
       "}\n",
       ".master-wrapper * {\n",
       "  box-sizing: border-box;\n",
       "}\n",
       "</style><script>\n",
       "function copyToClipboard(fld) {\n",
       "    if (document.queryCommandSupported && document.queryCommandSupported('copy')) {\n",
       "        var textarea = document.createElement('textarea');\n",
       "        textarea.textContent = fld.innerHTML;\n",
       "        textarea.style.position = 'fixed';\n",
       "        document.body.appendChild(textarea);\n",
       "        textarea.select();\n",
       "\n",
       "        try {\n",
       "            return document.execCommand('copy'); // Security exception may be thrown by some browsers.\n",
       "        } catch (ex) {\n",
       "\n",
       "        } finally {\n",
       "            document.body.removeChild(textarea);\n",
       "        }\n",
       "    }\n",
       "}\n",
       "function expandPanel(el) {\n",
       "  const panelName = \"#\" + el.getAttribute('paneName');\n",
       "  console.log(el.title);\n",
       "\n",
       "  document.querySelector(panelName + \"-title\").innerHTML = el.title\n",
       "  iframe = document.querySelector(panelName + \"-body\");\n",
       "  \n",
       "  const tblcss = `<style> body { font-family: Arial, Helvetica, sans-serif;}\n",
       "    #csv { margin-bottom: 15px; }\n",
       "    #csv table { border-collapse: collapse;}\n",
       "    #csv table td { padding: 4px 8px; border: 1px solid silver;} </style>`;\n",
       "\n",
       "  function csvToHtmlTable(str) {\n",
       "    return '<div id=\"csv\"><table><tr><td>' +  str.replace(/[\\n\\r]+$/g, '').replace(/[\\n\\r]+/g, '</td></tr><tr><td>')\n",
       "      .replace(/,/g, '</td><td>') + '</td></tr></table></div>';\n",
       "  }\n",
       "  \n",
       "  function reqListener () {\n",
       "    if (el.title.endsWith(\".csv\")) {\n",
       "      iframe.setAttribute(\"srcdoc\", tblcss + csvToHtmlTable(this.responseText));\n",
       "    } else {\n",
       "      iframe.setAttribute(\"srcdoc\", this.responseText);\n",
       "    }  \n",
       "    console.log(this.responseText);\n",
       "  }\n",
       "\n",
       "  const oReq = new XMLHttpRequest();\n",
       "  oReq.addEventListener(\"load\", reqListener);\n",
       "  oReq.open(\"GET\", el.title);\n",
       "  oReq.send();\n",
       "  \n",
       "  \n",
       "  //iframe.src = el.title;\n",
       "  const resultPane = document.querySelector(panelName + \"-pane\");\n",
       "  if (resultPane.classList.contains(\"hidden\")) {\n",
       "    resultPane.classList.remove(\"hidden\");\n",
       "  }\n",
       "}\n",
       "function closePanel(el) {\n",
       "  const panelName = \"#\" + el.getAttribute('paneName')\n",
       "  const resultPane = document.querySelector(panelName + \"-pane\");\n",
       "  if (!resultPane.classList.contains(\"hidden\")) {\n",
       "    resultPane.classList.add(\"hidden\");\n",
       "  }\n",
       "}\n",
       "\n",
       "</script>\n",
       "<div class=\"master-wrapper\">\n",
       "  <div class=\"block master-tbl\"><div>\n",
       "<style scoped>\n",
       "    .dataframe tbody tr th:only-of-type {\n",
       "        vertical-align: middle;\n",
       "    }\n",
       "\n",
       "    .dataframe tbody tr th {\n",
       "        vertical-align: top;\n",
       "    }\n",
       "\n",
       "    .dataframe thead th {\n",
       "        text-align: right;\n",
       "    }\n",
       "</style>\n",
       "<table border=\"1\" class=\"dataframe\">\n",
       "  <thead>\n",
       "    <tr style=\"text-align: right;\">\n",
       "      <th>project</th>\n",
       "      <th>uid</th>\n",
       "      <th>iter</th>\n",
       "      <th>start</th>\n",
       "      <th>state</th>\n",
       "      <th>name</th>\n",
       "      <th>labels</th>\n",
       "      <th>inputs</th>\n",
       "      <th>parameters</th>\n",
       "      <th>results</th>\n",
       "      <th>artifacts</th>\n",
       "    </tr>\n",
       "  </thead>\n",
       "  <tbody>\n",
       "    <tr>\n",
       "      <td>model-deployment-with-streaming-iguazio</td>\n",
       "      <td><div title=\"bbd91a9111ca498f8a72a4b656447837\"><a href=\"https://mlrun-ui.default-tenant.app.csopcvsmndzp.iguazio-cd2.com/projects/model-deployment-with-streaming-iguazio/jobs/bbd91a9111ca498f8a72a4b656447837/info\" target=\"_blank\" >...56447837</a></div></td>\n",
       "      <td>0</td>\n",
       "      <td>Aug 04 22:07:21</td>\n",
       "      <td><div style=\"color: red;\" title=\"error in _execute: <_InactiveRpcError of RPC that terminated with:\\n\\tstatus = StatusCode.UNKNOWN\\n\\tdetails = 'can't exec: type 'string' of value '042abfee-c9bd-48b6-9eea-efd08fbffd3d' doesn't match type 'int' of value '111111' for column 'user_id'.'\\n\\tdebug_error_string = '{'created':'@1596578841.914158832','description':'Error received from peer ipv4:10.197.43.157:8081','file':'src/core/lib/surface/call.cc','file_line':1055,'grpc_message':'can't exec: type 'string' of value '042abfee-c9bd-48b6-9eea-efd08fbffd3d' doesn't match type 'int' of value '111111' for column 'user_id'.','grpc_status':2}'\\n>\">error</div></td>\n",
       "      <td>snapshot_data</td>\n",
       "      <td><div class=\"dictlist\">v3io_user=iguazio</div><div class=\"dictlist\">kind=job</div><div class=\"dictlist\">owner=iguazio</div><div class=\"dictlist\">host=snapshot-data-xc2l5</div></td>\n",
       "      <td></td>\n",
       "      <td><div class=\"dictlist\">container=users</div><div class=\"dictlist\">table_path=/iguazio/examples/model-deployment-with-streaming/feature-table</div><div class=\"dictlist\">columns=['label', 'socioeconomic_idx', 'purchase_sum', 'purchase_mean', 'purchase_count', 'purchase_var', 'bet_sum', 'bet_mean', 'bet_count', 'bet_var', 'win_sum', 'win_mean', 'win_count', 'win_var']</div><div class=\"dictlist\">format=csv</div></td>\n",
       "      <td></td>\n",
       "      <td></td>\n",
       "    </tr>\n",
       "  </tbody>\n",
       "</table>\n",
       "</div></div>\n",
       "  <div id=\"resultaa3555e7-pane\" class=\"right-pane block hidden\">\n",
       "    <div class=\"pane-header\">\n",
       "      <span id=\"resultaa3555e7-title\" class=\"pane-header-title\">Title</span>\n",
       "      <span onclick=\"closePanel(this)\" paneName=\"resultaa3555e7\" class=\"close clickable\">&times;</span>\n",
       "    </div>\n",
       "    <iframe class=\"fileview\" id=\"resultaa3555e7-body\"></iframe>\n",
       "  </div>\n",
       "</div>\n"
      ],
      "text/plain": [
       "<IPython.core.display.HTML object>"
      ]
     },
     "metadata": {},
     "output_type": "display_data"
    },
    {
     "name": "stdout",
     "output_type": "stream",
     "text": [
      "to track results use .show() or .logs() or in CLI: \n",
      "!mlrun get run bbd91a9111ca498f8a72a4b656447837 --project model-deployment-with-streaming-iguazio , !mlrun logs bbd91a9111ca498f8a72a4b656447837 --project model-deployment-with-streaming-iguazio\n",
      "[mlrun] 2020-08-04 22:07:27,881 run executed, status=error\n",
      "runtime error: error in _execute: <_InactiveRpcError of RPC that terminated with:\n",
      "\tstatus = StatusCode.UNKNOWN\n",
      "\tdetails = \"can't exec: type 'string' of value '042abfee-c9bd-48b6-9eea-efd08fbffd3d' doesn't match type 'int' of value '111111' for column 'user_id'.\"\n",
      "\tdebug_error_string = \"{\"created\":\"@1596578841.914158832\",\"description\":\"Error received from peer ipv4:10.197.43.157:8081\",\"file\":\"src/core/lib/surface/call.cc\",\"file_line\":1055,\"grpc_message\":\"can't exec: type 'string' of value '042abfee-c9bd-48b6-9eea-efd08fbffd3d' doesn't match type 'int' of value '111111' for column 'user_id'.\",\"grpc_status\":2}\"\n",
      ">\n"
     ]
    },
    {
     "ename": "RunError",
     "evalue": "error in _execute: <_InactiveRpcError of RPC that terminated with:\n\tstatus = StatusCode.UNKNOWN\n\tdetails = \"can't exec: type 'string' of value '042abfee-c9bd-48b6-9eea-efd08fbffd3d' doesn't match type 'int' of value '111111' for column 'user_id'.\"\n\tdebug_error_string = \"{\"created\":\"@1596578841.914158832\",\"description\":\"Error received from peer ipv4:10.197.43.157:8081\",\"file\":\"src/core/lib/surface/call.cc\",\"file_line\":1055,\"grpc_message\":\"can't exec: type 'string' of value '042abfee-c9bd-48b6-9eea-efd08fbffd3d' doesn't match type 'int' of value '111111' for column 'user_id'.\",\"grpc_status\":2}\"\n>",
     "output_type": "error",
     "traceback": [
      "\u001b[0;31m---------------------------------------------------------------------------\u001b[0m",
      "\u001b[0;31mRunError\u001b[0m                                  Traceback (most recent call last)",
      "\u001b[0;32m<ipython-input-13-5f829ceed3f2>\u001b[0m in \u001b[0;36m<module>\u001b[0;34m\u001b[0m\n\u001b[1;32m      3\u001b[0m                                  params={'container': container, 'table_path': table_path, \n\u001b[1;32m      4\u001b[0m                                          'columns':columns, 'format': format},\n\u001b[0;32m----> 5\u001b[0;31m                                  artifact_path=artifact_path)\n\u001b[0m",
      "\u001b[0;32m~/.pythonlibs/jupyter/lib/python3.7/site-packages/mlrun/runtimes/base.py\u001b[0m in \u001b[0;36mrun\u001b[0;34m(self, runspec, handler, name, project, params, inputs, out_path, workdir, artifact_path, watch, schedule, verbose)\u001b[0m\n\u001b[1;32m    321\u001b[0m                 \u001b[0mresult\u001b[0m \u001b[0;34m=\u001b[0m \u001b[0mself\u001b[0m\u001b[0;34m.\u001b[0m\u001b[0m_post_run\u001b[0m\u001b[0;34m(\u001b[0m\u001b[0mtask\u001b[0m\u001b[0;34m=\u001b[0m\u001b[0mrunspec\u001b[0m\u001b[0;34m,\u001b[0m \u001b[0merr\u001b[0m\u001b[0;34m=\u001b[0m\u001b[0merr\u001b[0m\u001b[0;34m)\u001b[0m\u001b[0;34m\u001b[0m\u001b[0;34m\u001b[0m\u001b[0m\n\u001b[1;32m    322\u001b[0m                 \u001b[0;32mreturn\u001b[0m \u001b[0mself\u001b[0m\u001b[0;34m.\u001b[0m\u001b[0m_wrap_result\u001b[0m\u001b[0;34m(\u001b[0m\u001b[0mresult\u001b[0m\u001b[0;34m,\u001b[0m \u001b[0mrunspec\u001b[0m\u001b[0;34m,\u001b[0m \u001b[0merr\u001b[0m\u001b[0;34m=\u001b[0m\u001b[0merr\u001b[0m\u001b[0;34m)\u001b[0m\u001b[0;34m\u001b[0m\u001b[0;34m\u001b[0m\u001b[0m\n\u001b[0;32m--> 323\u001b[0;31m             \u001b[0;32mreturn\u001b[0m \u001b[0mself\u001b[0m\u001b[0;34m.\u001b[0m\u001b[0m_wrap_result\u001b[0m\u001b[0;34m(\u001b[0m\u001b[0mresp\u001b[0m\u001b[0;34m,\u001b[0m \u001b[0mrunspec\u001b[0m\u001b[0;34m)\u001b[0m\u001b[0;34m\u001b[0m\u001b[0;34m\u001b[0m\u001b[0m\n\u001b[0m\u001b[1;32m    324\u001b[0m \u001b[0;34m\u001b[0m\u001b[0m\n\u001b[1;32m    325\u001b[0m         \u001b[0;32melif\u001b[0m \u001b[0mself\u001b[0m\u001b[0;34m.\u001b[0m\u001b[0m_is_remote\u001b[0m \u001b[0;32mand\u001b[0m \u001b[0;32mnot\u001b[0m \u001b[0mself\u001b[0m\u001b[0;34m.\u001b[0m\u001b[0m_is_api_server\u001b[0m \u001b[0;32mand\u001b[0m \u001b[0;32mnot\u001b[0m \u001b[0mself\u001b[0m\u001b[0;34m.\u001b[0m\u001b[0mkfp\u001b[0m\u001b[0;34m:\u001b[0m\u001b[0;34m\u001b[0m\u001b[0;34m\u001b[0m\u001b[0m\n",
      "\u001b[0;32m~/.pythonlibs/jupyter/lib/python3.7/site-packages/mlrun/runtimes/base.py\u001b[0m in \u001b[0;36m_wrap_result\u001b[0;34m(self, result, runspec, err)\u001b[0m\n\u001b[1;32m    389\u001b[0m                 \u001b[0;32mif\u001b[0m \u001b[0mself\u001b[0m\u001b[0;34m.\u001b[0m\u001b[0m_is_remote\u001b[0m \u001b[0;32mand\u001b[0m \u001b[0;32mnot\u001b[0m \u001b[0mself\u001b[0m\u001b[0;34m.\u001b[0m\u001b[0mis_child\u001b[0m\u001b[0;34m:\u001b[0m\u001b[0;34m\u001b[0m\u001b[0;34m\u001b[0m\u001b[0m\n\u001b[1;32m    390\u001b[0m                     \u001b[0mprint\u001b[0m\u001b[0;34m(\u001b[0m\u001b[0;34m'runtime error: {}'\u001b[0m\u001b[0;34m.\u001b[0m\u001b[0mformat\u001b[0m\u001b[0;34m(\u001b[0m\u001b[0mrun\u001b[0m\u001b[0;34m.\u001b[0m\u001b[0mstatus\u001b[0m\u001b[0;34m.\u001b[0m\u001b[0merror\u001b[0m\u001b[0;34m)\u001b[0m\u001b[0;34m)\u001b[0m\u001b[0;34m\u001b[0m\u001b[0;34m\u001b[0m\u001b[0m\n\u001b[0;32m--> 391\u001b[0;31m                 \u001b[0;32mraise\u001b[0m \u001b[0mRunError\u001b[0m\u001b[0;34m(\u001b[0m\u001b[0mrun\u001b[0m\u001b[0;34m.\u001b[0m\u001b[0mstatus\u001b[0m\u001b[0;34m.\u001b[0m\u001b[0merror\u001b[0m\u001b[0;34m)\u001b[0m\u001b[0;34m\u001b[0m\u001b[0;34m\u001b[0m\u001b[0m\n\u001b[0m\u001b[1;32m    392\u001b[0m             \u001b[0;32mreturn\u001b[0m \u001b[0mrun\u001b[0m\u001b[0;34m\u001b[0m\u001b[0;34m\u001b[0m\u001b[0m\n\u001b[1;32m    393\u001b[0m \u001b[0;34m\u001b[0m\u001b[0m\n",
      "\u001b[0;31mRunError\u001b[0m: error in _execute: <_InactiveRpcError of RPC that terminated with:\n\tstatus = StatusCode.UNKNOWN\n\tdetails = \"can't exec: type 'string' of value '042abfee-c9bd-48b6-9eea-efd08fbffd3d' doesn't match type 'int' of value '111111' for column 'user_id'.\"\n\tdebug_error_string = \"{\"created\":\"@1596578841.914158832\",\"description\":\"Error received from peer ipv4:10.197.43.157:8081\",\"file\":\"src/core/lib/surface/call.cc\",\"file_line\":1055,\"grpc_message\":\"can't exec: type 'string' of value '042abfee-c9bd-48b6-9eea-efd08fbffd3d' doesn't match type 'int' of value '111111' for column 'user_id'.\",\"grpc_status\":2}\"\n>"
     ]
    }
   ],
   "source": [
    "snapshot_data_run = snapshot_data_func.run(name='snapshot_data',\n",
    "                                 handler='snapshot_data',\n",
    "                                 params={'container': container, 'table_path': table_path, \n",
    "                                         'columns':columns, 'format': format},\n",
    "                                 artifact_path=artifact_path)"
   ]
  },
  {
   "cell_type": "markdown",
   "metadata": {},
   "source": [
    "## Step 3: Explore the Data <a id=\"gs-step-explore-data\"></a>\n"
   ]
  },
  {
   "cell_type": "markdown",
   "metadata": {},
   "source": [
    "### Explore the Data with Pandas DataFrames <a id=\"gs-explore-data-w-pandas-df\"></a>\n"
   ]
  },
  {
   "cell_type": "markdown",
   "metadata": {},
   "source": [
    "Run the following code to use pandas DataFrames to read your data set, extract some basic statistics, and display them."
   ]
  },
  {
   "cell_type": "code",
   "execution_count": null,
   "metadata": {},
   "outputs": [],
   "source": [
    "# Read your data set\n",
    "from mlrun.run import get_dataitem\n",
    "df = get_dataitem(snapshot_data_run.outputs['snapshot_dataset']).as_df()"
   ]
  },
  {
   "cell_type": "code",
   "execution_count": null,
   "metadata": {},
   "outputs": [],
   "source": [
    "# Display a portion of the read data\n",
    "df.head()"
   ]
  },
  {
   "cell_type": "code",
   "execution_count": null,
   "metadata": {},
   "outputs": [],
   "source": [
    "# Calculate and display the number of data-set items\n",
    "print(f'Total number of rows: {len(df)}')"
   ]
  },
  {
   "cell_type": "code",
   "execution_count": null,
   "metadata": {},
   "outputs": [],
   "source": [
    "# Display statistics grouped by label\n",
    "df.groupby(['label']).describe()"
   ]
  },
  {
   "cell_type": "markdown",
   "metadata": {},
   "source": [
    "### Explore the Data with an MLRun Marketplace Function <a id=\"gs-explore-data-w-mlrun-func\"></a>\n"
   ]
  },
  {
   "cell_type": "markdown",
   "metadata": {},
   "source": [
    "#### Add an Exploration Function <a id=\"gs-explore-data-w-mlrun-func-add-func\"></a>\n"
   ]
  },
  {
   "cell_type": "code",
   "execution_count": null,
   "metadata": {},
   "outputs": [],
   "source": [
    "project.set_function('hub://describe', 'describe')\n",
    "describe = project.func('describe').apply(mount_v3io())"
   ]
  },
  {
   "cell_type": "markdown",
   "metadata": {},
   "source": [
    "#### Run the Exploration Function <a id=\"gs-explore-data-w-mlrun-func-run-func\"></a>\n"
   ]
  },
  {
   "cell_type": "code",
   "execution_count": null,
   "metadata": {},
   "outputs": [],
   "source": [
    "describe_run = describe.run(params={'label_column': 'label'},\n",
    "                            inputs={\"table\":\n",
    "                                    snapshot_data_run.outputs['snapshot_dataset']},\n",
    "                            artifact_path=artifact_path)"
   ]
  },
  {
   "cell_type": "markdown",
   "metadata": {},
   "source": [
    "#### Review the Run Output <a id=\"gs-explore-data-w-mlrun-func-run-output-review\"></a>\n"
   ]
  },
  {
   "cell_type": "code",
   "execution_count": null,
   "metadata": {},
   "outputs": [],
   "source": [
    "from IPython.display import display, HTML\n",
    "\n",
    "# Display the `histograms` artifact\n",
    "display(HTML('<h3>Histograms</h3>'), HTML(describe_run.outputs['histograms']))"
   ]
  },
  {
   "cell_type": "code",
   "execution_count": null,
   "metadata": {},
   "outputs": [],
   "source": [
    "# Display the `imbalance` artifact\n",
    "display(HTML('<h3>Imbalance<h3>'),\n",
    "        HTML(filename=describe_run.outputs['imbalance']))"
   ]
  },
  {
   "cell_type": "code",
   "execution_count": null,
   "metadata": {},
   "outputs": [],
   "source": [
    "# Display the `correlation` artifact\n",
    "display(HTML('<h3>Correlation Matrix<h3>'),\n",
    "        HTML(filename=describe_run.outputs['correlation']))"
   ]
  },
  {
   "cell_type": "markdown",
   "metadata": {},
   "source": [
    "## Step 4: Run Model Training at Scale <a id=\"gs-step-run-model-training\"></a>\n"
   ]
  },
  {
   "cell_type": "markdown",
   "metadata": {},
   "source": [
    "#### Add a Training Function <a id=\"gs-train-model-add-func\"></a>\n"
   ]
  },
  {
   "cell_type": "code",
   "execution_count": null,
   "metadata": {},
   "outputs": [],
   "source": [
    "project.set_function('hub://sklearn_classifier', 'train')\n",
    "train = project.func('train').apply(mount_v3io())"
   ]
  },
  {
   "cell_type": "markdown",
   "metadata": {},
   "source": [
    "#### Run a Model-Training Task <a id=\"gs-train-model-run-task\"></a>\n"
   ]
  },
  {
   "cell_type": "code",
   "execution_count": null,
   "metadata": {},
   "outputs": [],
   "source": [
    "# Configure the models to train\n",
    "models = [\"sklearn.ensemble.RandomForestClassifier\", \n",
    "          \"sklearn.linear_model.LogisticRegression\",\n",
    "          \"sklearn.ensemble.AdaBoostClassifier\"]"
   ]
  },
  {
   "cell_type": "code",
   "execution_count": null,
   "metadata": {},
   "outputs": [],
   "source": [
    "# Create a training task\n",
    "train_task = NewTask(name=\"train\",\n",
    "                     params={\"sample\": -1,\n",
    "                             \"label_column\": \"label\",\n",
    "                             \"test_size\": 0.10},\n",
    "                     inputs={\"dataset\": snapshot_data_run.outputs['snapshot_dataset']})\n",
    "\n",
    "# Run the training task\n",
    "train_run = train.run(train_task.with_hyper_params({'model_pkg_class': models},\n",
    "                                                   selector='max.accuracy'),\n",
    "                      artifact_path=artifact_path)"
   ]
  },
  {
   "cell_type": "markdown",
   "metadata": {},
   "source": [
    "### Review the Run Output <a id=\"gs-train-model-run-output-review\"></a>\n"
   ]
  },
  {
   "cell_type": "code",
   "execution_count": null,
   "metadata": {},
   "outputs": [],
   "source": [
    "# Display the name of the selected model\n",
    "display(HTML(f'<b>Best model:</b> '\n",
    "             f'{models[train_run.outputs[\"best_iteration\"]-1]}'))\n",
    "\n",
    "# Display the accuracy for the optimal run iteration\n",
    "display(HTML(f'<b>Accuracy:</b> {train_run.outputs[\"accuracy\"]}'))\n",
    "\n",
    "# Display HTML output artifacts\n",
    "display(HTML('<h3>Confusion Matrix:</h3>'),\n",
    "        HTML(filename=train_run.outputs['confusion-matrix']))\n",
    "display(HTML('<h3>ROC Curve:</h3>'), HTML(filename=train_run.outputs['roc-binary']))"
   ]
  },
  {
   "cell_type": "markdown",
   "metadata": {},
   "source": [
    "## Step 5: Test Your Model <a id=\"gs-step-test-model\"></a>\n"
   ]
  },
  {
   "cell_type": "code",
   "execution_count": null,
   "metadata": {},
   "outputs": [],
   "source": [
    "project.set_function('hub://test_classifier', 'test')\n",
    "test = project.func('test').apply(mount_v3io())"
   ]
  },
  {
   "cell_type": "markdown",
   "metadata": {},
   "source": [
    "#### Run a Model-Testing Task <a id=\"gs-test-model-run-task\"></a>\n"
   ]
  },
  {
   "cell_type": "code",
   "execution_count": null,
   "metadata": {},
   "outputs": [],
   "source": [
    "test_task = NewTask(name=\"test\",\n",
    "                    params={\"label_column\": \"label\",\n",
    "                            \"plots_dest\": path.join(\"plots\", \"test\")},\n",
    "                    inputs={\"models_path\": train_run.outputs['model'],\n",
    "                            \"test_set\": train_run.outputs['test_set']}\n",
    "                    )\n",
    "test_run = test.run(test_task,\n",
    "                    artifact_path=artifact_path)"
   ]
  },
  {
   "cell_type": "markdown",
   "metadata": {},
   "source": [
    "### Review the Run Output <a id=\"gs-test-model-run-output-review\"></a>\n"
   ]
  },
  {
   "cell_type": "code",
   "execution_count": null,
   "metadata": {},
   "outputs": [],
   "source": [
    "# Display the model accuracy\n",
    "display(HTML(f'<b>Test Accuracy:</b> {test_run.outputs[\"accuracy\"]}'))\n",
    "\n",
    "# Display HTML output artifacts\n",
    "display(HTML(\"<h3>Confusion matrix:</h3>\"),\n",
    "        HTML(filename=test_run.outputs['confusion-matrix']))\n",
    "display(HTML(\"<h3>ROC Curve:</h3>\"), HTML(filename=test_run.outputs['roc-binary']))"
   ]
  },
  {
   "cell_type": "markdown",
   "metadata": {},
   "source": [
    "## Step 6: Save project<a id=\"gs-step-create-n-run-ml-pipeline\"></a>\n"
   ]
  },
  {
   "cell_type": "code",
   "execution_count": null,
   "metadata": {},
   "outputs": [],
   "source": [
    "project.save(path.join(project_path, 'project.yaml'))"
   ]
  }
 ],
 "metadata": {
  "kernelspec": {
   "display_name": "Python 3",
   "language": "python",
   "name": "python3"
  },
  "language_info": {
   "codemirror_mode": {
    "name": "ipython",
    "version": 3
   },
   "file_extension": ".py",
   "mimetype": "text/x-python",
   "name": "python",
   "nbconvert_exporter": "python",
   "pygments_lexer": "ipython3",
   "version": "3.7.6"
  },
  "toc-showcode": false,
  "toc-showmarkdowntxt": false
 },
 "nbformat": 4,
 "nbformat_minor": 4
}
