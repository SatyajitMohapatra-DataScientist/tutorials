{
 "cells": [
  {
   "cell_type": "markdown",
   "metadata": {},
   "source": [
    "# 2. Incoming Event Handler\n",
    "  --------------------------------------------------------------------"
   ]
  },
  {
   "cell_type": "markdown",
   "metadata": {},
   "source": [
    "Handle incoming events and write them to an output V3IO Stream `incoming-events-stream`.\n",
    "The received data is partitioned by `user_id`.\n",
    "\n",
    "![Model deployment with streaming Real-time operational Pipeline](../../assets/images/model-deployment-with-streaming.png)\n",
    "\n",
    "The rest of the notebooks rely on the output stream of this notebook. Therefore, one can change the input data without affecting the rest of the workflow."
   ]
  },
  {
   "cell_type": "markdown",
   "metadata": {},
   "source": [
    "## Create and Test a Local Function \n",
    "Import nuclio SDK and magics, <b>do not remove the cell and comment !!!</b>"
   ]
  },
  {
   "cell_type": "code",
   "execution_count": 1,
   "metadata": {},
   "outputs": [],
   "source": [
    "# nuclio: ignore\n",
    "import nuclio"
   ]
  },
  {
   "cell_type": "code",
   "execution_count": 2,
   "metadata": {},
   "outputs": [],
   "source": [
    "%run config.py"
   ]
  },
  {
   "cell_type": "code",
   "execution_count": 3,
   "metadata": {},
   "outputs": [],
   "source": [
    "import os\n",
    "os.environ[\"MDWS_EH_OUTPUT_STREAM_PATH\"] = STREAM_CONFIGS['incoming-events-stream']['path']\n",
    "os.environ[\"MDWS_EH_PARTITION_ATTR\"] = PARTITION_ATTR\n",
    "os.environ[\"MDWS_EH_INPUT_STREAM_URL\"] = path.join(WEB_API_USERS, STREAM_CONFIGS['generated-stream']['path']) + \"@incomingeventhandler\"\n",
    "os.environ[\"WEB_API\"] = WEB_API"
   ]
  },
  {
   "cell_type": "code",
   "execution_count": 4,
   "metadata": {},
   "outputs": [],
   "source": [
    "# nuclio: start-code"
   ]
  },
  {
   "cell_type": "markdown",
   "metadata": {},
   "source": [
    "#### Functions imports"
   ]
  },
  {
   "cell_type": "code",
   "execution_count": 5,
   "metadata": {},
   "outputs": [],
   "source": [
    "import v3io.dataplane"
   ]
  },
  {
   "cell_type": "markdown",
   "metadata": {},
   "source": [
    "<b>Specify function dependencies and configuration<b>"
   ]
  },
  {
   "cell_type": "code",
   "execution_count": 6,
   "metadata": {},
   "outputs": [],
   "source": [
    "%nuclio cmd -c pip install v3io"
   ]
  },
  {
   "cell_type": "code",
   "execution_count": 7,
   "metadata": {},
   "outputs": [
    {
     "name": "stdout",
     "output_type": "stream",
     "text": [
      "%nuclio: setting 'V3IO_ACCESS_KEY' environment variable\n",
      "%nuclio: setting 'CONTAINER' environment variable\n",
      "%nuclio: setting 'MDWS_EH_OUTPUT_STREAM_PATH' environment variable\n",
      "%nuclio: setting 'PARTITION_ATTR' environment variable\n",
      "%nuclio: setting 'WEB_API' environment variable\n"
     ]
    }
   ],
   "source": [
    "%%nuclio env\n",
    "V3IO_ACCESS_KEY = ${V3IO_ACCESS_KEY}\n",
    "CONTAINER = users\n",
    "MDWS_EH_OUTPUT_STREAM_PATH = ${MDWS_EH_OUTPUT_STREAM_PATH}\n",
    "PARTITION_ATTR = ${MDWS_EH_PARTITION_ATTR}\n",
    "WEB_API = ${WEB_API}"
   ]
  },
  {
   "cell_type": "code",
   "execution_count": 8,
   "metadata": {},
   "outputs": [
    {
     "name": "stdout",
     "output_type": "stream",
     "text": [
      "%nuclio: setting spec.triggers.v3io_stream.kind to 'v3ioStream'\n",
      "%nuclio: setting spec.triggers.v3io_stream.disabled to False\n",
      "%nuclio: setting spec.triggers.v3io_stream.url to 'http://v3io-webapi:8081/users/iguazio/examples/model-deployment-with-streaming/generated-stream@incomingeventhandler'\n",
      "%nuclio: setting spec.triggers.v3io_stream.maxWorkers to 10\n",
      "%nuclio: setting spec.triggers.v3io_stream.password to '4868d73d-1bd9-486e-91bd-d89ad83e3a56'\n",
      "%nuclio: setting spec.triggers.v3io_stream.attributes.pollingIntervalMs to 500\n",
      "%nuclio: setting spec.triggers.v3io_stream.attributes.seekTo to 'earliest'\n",
      "%nuclio: setting spec.triggers.v3io_stream.attributes.readBatchSize to 64\n"
     ]
    }
   ],
   "source": [
    "%%nuclio config\n",
    "spec.triggers.v3io_stream.kind = \"v3ioStream\"\n",
    "spec.triggers.v3io_stream.disabled = false\n",
    "spec.triggers.v3io_stream.url = \"${MDWS_EH_INPUT_STREAM_URL}\"\n",
    "spec.triggers.v3io_stream.maxWorkers = 10\n",
    "spec.triggers.v3io_stream.password = \"${V3IO_ACCESS_KEY}\"\n",
    "spec.triggers.v3io_stream.attributes.pollingIntervalMs = 500\n",
    "spec.triggers.v3io_stream.attributes.seekTo = \"earliest\"\n",
    "spec.triggers.v3io_stream.attributes.readBatchSize = 64"
   ]
  },
  {
   "cell_type": "markdown",
   "metadata": {},
   "source": [
    "## Function code"
   ]
  },
  {
   "cell_type": "code",
   "execution_count": 9,
   "metadata": {},
   "outputs": [],
   "source": [
    "import os\n",
    "import json\n",
    "def init_context(context):\n",
    "    V3IO_ACCESS_KEY = os.getenv('V3IO_ACCESS_KEY')\n",
    "    CONTAINER = os.getenv('CONTAINER')\n",
    "    OUTPUT_STREAM_PATH = os.getenv('MDWS_EH_OUTPUT_STREAM_PATH')\n",
    "    PARTITION_ATTR = os.getenv('MDWS_PARTITION_ATTR')\n",
    "    WEB_API = os.getenv('WEB_API')\n",
    "    v3io_client = v3io.dataplane.Client(endpoint=WEB_API, access_key=V3IO_ACCESS_KEY)\n",
    "\n",
    "    setattr(context, 'v3io_client', v3io_client)\n",
    "    setattr(context, 'partition_attr', PARTITION_ATTR)\n",
    "    setattr(context, 'container', CONTAINER)\n",
    "    setattr(context, 'output_stream_path', OUTPUT_STREAM_PATH)\n",
    "\n",
    "\n",
    "def handler(context, event):\n",
    "    print(dir(context))\n",
    "    if type(event.body) is dict:\n",
    "        event_dict = event.body\n",
    "    else:\n",
    "        event_dict = json.loads(event.body)\n",
    "        \n",
    "    context.logger.info_with('Got invoked',\n",
    "                             trigger_kind=event.trigger.kind,\n",
    "                             event_body=event_dict)\n",
    "        \n",
    "    partition_key = event_dict.get(context.partition_attr)\n",
    "    record = event_to_record(event_dict, partition_key)\n",
    "    \n",
    "    print(\"saasasas\" + context.output_stream_path)\n",
    "    resp = context.v3io_client.put_records(container=context.container, \n",
    "                                   path=context.output_stream_path, \n",
    "                                   records=[record], \n",
    "                                   raise_for_status=v3io.dataplane.RaiseForStatus.never)\n",
    "    \n",
    "    context.logger.info_with('Sent event to stream', \n",
    "                             record=record,\n",
    "                             response_status=resp.status_code, \n",
    "                             response_body=resp.body.decode('utf-8'))\n",
    "    \n",
    "    return resp.status_code\n",
    "\n",
    "\n",
    "def event_to_record(event_dict, partition_key):\n",
    "    event_str = json.dumps(event_dict)\n",
    "    return {'data': event_str, 'partition_key': str(partition_key)}"
   ]
  },
  {
   "cell_type": "markdown",
   "metadata": {},
   "source": [
    "The following end-code annotation tells ```nuclio``` to stop parsing the notebook from this cell. _**Please do not remove this cell**_:"
   ]
  },
  {
   "cell_type": "code",
   "execution_count": 10,
   "metadata": {},
   "outputs": [],
   "source": [
    "# nuclio: end-code\n",
    "# marks the end of a code section"
   ]
  },
  {
   "cell_type": "markdown",
   "metadata": {},
   "source": [
    "## Test locally"
   ]
  },
  {
   "cell_type": "code",
   "execution_count": 11,
   "metadata": {},
   "outputs": [
    {
     "name": "stdout",
     "output_type": "stream",
     "text": [
      "['__class__', '__delattr__', '__dict__', '__dir__', '__doc__', '__eq__', '__format__', '__ge__', '__getattribute__', '__gt__', '__hash__', '__init__', '__init_subclass__', '__le__', '__lt__', '__module__', '__ne__', '__new__', '__reduce__', '__reduce_ex__', '__repr__', '__setattr__', '__sizeof__', '__str__', '__subclasshook__', '__weakref__', 'container', 'logger', 'output_stream_path', 'partition_attr', 'set_logger_level', 'trigger_name', 'user_data', 'v3io_client', 'worker_id']\n",
      "Python> 2020-08-04 22:00:44,317 [info] Got invoked: {'trigger_kind': '', 'event_body': {'user_id': 111111, 'event_type': 'spin'}}\n",
      "saasasasiguazio/examples/model-deployment-with-streaming/incoming-events-stream\n",
      "Python> 2020-08-04 22:00:44,319 [info] Sent event to stream: {'record': {'data': '{\"user_id\": 111111, \"event_type\": \"spin\"}', 'partition_key': 'None'}, 'response_status': 200, 'response_body': '{ \"FailedRecordCount\":0,\"Records\": [{ \"SequenceNumber\":1,\"ShardId\":3 } ] }'}\n"
     ]
    },
    {
     "data": {
      "text/plain": [
       "200"
      ]
     },
     "execution_count": 11,
     "metadata": {},
     "output_type": "execute_result"
    }
   ],
   "source": [
    "event = nuclio.Event(body=b'{\"user_id\" : 111111 , \"event_type\": \"spin\"}')\n",
    "init_context(context)\n",
    "handler(context, event)"
   ]
  },
  {
   "cell_type": "markdown",
   "metadata": {},
   "source": [
    "## Deploy function"
   ]
  },
  {
   "cell_type": "code",
   "execution_count": 12,
   "metadata": {},
   "outputs": [
    {
     "name": "stdout",
     "output_type": "stream",
     "text": [
      "[nuclio] 2020-08-04 22:00:45,460 project name not found created new (model-deployment-with-streaming)\n",
      "[nuclio] 2020-08-04 22:00:51,580 (info) Build complete\n",
      "[nuclio] 2020-08-04 22:00:55,629 (info) Function deploy complete\n",
      "[nuclio] 2020-08-04 22:00:55,635 done creating iguazio-incoming-event-handler, function address: 3.14.105.22:32190\n",
      "%nuclio: function deployed\n"
     ]
    }
   ],
   "source": [
    "%nuclio deploy -p {PROJECT_NAME} -n {V3IO_USERNAME}-incoming-event-handler"
   ]
  }
 ],
 "metadata": {
  "kernelspec": {
   "display_name": "Python [conda env:root] *",
   "language": "python",
   "name": "conda-root-py"
  },
  "language_info": {
   "codemirror_mode": {
    "name": "ipython",
    "version": 3
   },
   "file_extension": ".py",
   "mimetype": "text/x-python",
   "name": "python",
   "nbconvert_exporter": "python",
   "pygments_lexer": "ipython3",
   "version": "3.7.6"
  }
 },
 "nbformat": 4,
 "nbformat_minor": 4
}
