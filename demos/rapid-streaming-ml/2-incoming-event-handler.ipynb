{
 "cells": [
  {
   "cell_type": "markdown",
   "metadata": {},
   "source": [
    "# 2. Incoming Event Handler\n",
    "  --------------------------------------------------------------------"
   ]
  },
  {
   "cell_type": "markdown",
   "metadata": {},
   "source": [
    "Handle incoming events and write them to an output V3IO Stream `incoming-events-stream`.\n",
    "The received data is partitioned by `user_id`.\n",
    "\n",
    "![Model deployment with streaming Real-time operational Pipeline](../../assets/images/model-deployment-with-streaming.png)\n",
    "\n",
    "The rest of the notebooks rely on the output stream of this notebook. Therefore, one can change the input data without affecting the rest of the workflow."
   ]
  },
  {
   "cell_type": "markdown",
   "metadata": {},
   "source": [
    "## Create and Test a Local Function \n",
    "Import nuclio SDK and magics, <b>do not remove the cell and comment !!!</b>"
   ]
  },
  {
   "cell_type": "code",
   "execution_count": null,
   "metadata": {},
   "outputs": [],
   "source": [
    "# nuclio: ignore\n",
    "import nuclio"
   ]
  },
  {
   "cell_type": "code",
   "execution_count": null,
   "metadata": {},
   "outputs": [],
   "source": [
    "%load config.py"
   ]
  },
  {
   "cell_type": "code",
   "execution_count": null,
   "metadata": {},
   "outputs": [],
   "source": [
    "%load env.py"
   ]
  },
  {
   "cell_type": "markdown",
   "metadata": {},
   "source": [
    "#### Functions imports"
   ]
  },
  {
   "cell_type": "code",
   "execution_count": null,
   "metadata": {},
   "outputs": [],
   "source": [
    "import hashlib\n",
    "import v3io.dataplane"
   ]
  },
  {
   "cell_type": "markdown",
   "metadata": {},
   "source": [
    "<b>Specify function dependencies and configuration<b>"
   ]
  },
  {
   "cell_type": "code",
   "execution_count": null,
   "metadata": {},
   "outputs": [],
   "source": [
    "%nuclio cmd -c pip install v3io"
   ]
  },
  {
   "cell_type": "code",
   "execution_count": null,
   "metadata": {},
   "outputs": [],
   "source": [
    "%%nuclio env\n",
    "V3IO_ACCESS_KEY = ${V3IO_ACCESS_KEY}\n",
    "CONTAINER = users\n",
    "MDWS_EH_OUTPUT_STREAM_PATH = ${MDWS_EH_OUTPUT_STREAM_PATH}\n",
    "PARTITION_ATTR = ${MDWS_EH_PARTITION_ATTR}"
   ]
  },
  {
   "cell_type": "code",
   "execution_count": null,
   "metadata": {},
   "outputs": [],
   "source": [
    "%%nuclio config\n",
    "spec.triggers.v3io_stream.kind = \"v3ioStream\"\n",
    "spec.triggers.v3io_stream.disabled = false\n",
    "spec.triggers.v3io_stream.url = \"${MDWS_EH_INPUT_STREAM_URL}\"\n",
    "spec.triggers.v3io_stream.maxWorkers = 10\n",
    "spec.triggers.v3io_stream.password = \"${V3IO_ACCESS_KEY}\"\n",
    "spec.triggers.v3io_stream.attributes.pollingIntervalMs = 500\n",
    "spec.triggers.v3io_stream.attributes.seekTo = \"earliest\"\n",
    "spec.triggers.v3io_stream.attributes.readBatchSize = 64\n"
   ]
  },
  {
   "cell_type": "markdown",
   "metadata": {},
   "source": [
    "## Function code"
   ]
  },
  {
   "cell_type": "code",
   "execution_count": null,
   "metadata": {},
   "outputs": [],
   "source": [
    "def init_context(context):\n",
    "    V3IO_ACCESS_KEY = os.getenv('V3IO_ACCESS_KEY')\n",
    "    CONTAINER = os.getenv('CONTAINER')\n",
    "    OUTPUT_STREAM_PATH = os.getenv('MDWS_EH_OUTPUT_STREAM_PATH')\n",
    "    PARTITION_ATTR = os.getenv('MDWS_PARTITION_ATTR')\n",
    "    print(V3IO_ACCESS_KEY)\n",
    "    print(WEB_API)\n",
    "    v3io_client = v3io.dataplane.Client(endpoint=WEB_API, access_key=V3IO_ACCESS_KEY)\n",
    "\n",
    "    setattr(context, 'v3io_client', v3io_client)\n",
    "    setattr(context, 'partition_attr', PARTITION_ATTR)\n",
    "    setattr(context, 'container', CONTAINER)\n",
    "    setattr(context, 'output_stream_path', OUTPUT_STREAM_PATH)\n",
    "\n",
    "\n",
    "def handler(context, event):\n",
    "    print(dir(context))\n",
    "    if type(event.body) is dict:\n",
    "        event_dict = event.body\n",
    "    else:\n",
    "        event_dict = json.loads(event.body)\n",
    "        \n",
    "    context.logger.info_with('Got invoked',\n",
    "                             trigger_kind=event.trigger.kind,\n",
    "                             event_body=event_dict)\n",
    "        \n",
    "    partition_key = event_dict.get(context.partition_attr)\n",
    "    record = event_to_record(event_dict, partition_key)\n",
    "    \n",
    "    print(\"saasasas\" + context.output_stream_path)\n",
    "    resp = context.v3io_client.put_records(container=context.container, \n",
    "                                   path=context.output_stream_path, \n",
    "                                   records=[record], \n",
    "                                   raise_for_status=v3io.dataplane.RaiseForStatus.never)\n",
    "    \n",
    "    context.logger.info_with('Sent event to stream', \n",
    "                             record=record,\n",
    "                             response_status=resp.status_code, \n",
    "                             response_body=resp.body.decode('utf-8'))\n",
    "    \n",
    "    return resp.status_code\n",
    "\n",
    "\n",
    "def event_to_record(event_dict, partition_key):\n",
    "    event_str = json.dumps(event_dict)\n",
    "    return {'data': event_str, 'partition_key': str(partition_key)}"
   ]
  },
  {
   "cell_type": "markdown",
   "metadata": {},
   "source": [
    "The following end-code annotation tells ```nuclio``` to stop parsing the notebook from this cell. _**Please do not remove this cell**_:"
   ]
  },
  {
   "cell_type": "code",
   "execution_count": null,
   "metadata": {},
   "outputs": [],
   "source": [
    "# nuclio: end-code\n",
    "# marks the end of a code section"
   ]
  },
  {
   "cell_type": "markdown",
   "metadata": {},
   "source": [
    "## Test locally"
   ]
  },
  {
   "cell_type": "code",
   "execution_count": null,
   "metadata": {},
   "outputs": [],
   "source": [
    "event = nuclio.Event(body=b'{\"user_id\" : 111111 , \"event_type\": \"spin\"}')\n",
    "init_context(context)\n",
    "handler(context, event)"
   ]
  },
  {
   "cell_type": "markdown",
   "metadata": {},
   "source": [
    "## Deploy function"
   ]
  },
  {
   "cell_type": "code",
   "execution_count": null,
   "metadata": {},
   "outputs": [],
   "source": [
    "%nuclio deploy -p ${MDWS_PROJECT_NAME} -n ${V3IO_USERNAME}-incoming-event-handler"
   ]
  }
 ],
 "metadata": {
  "kernelspec": {
   "display_name": "Python [conda env:root] *",
   "language": "python",
   "name": "conda-root-py"
  },
  "language_info": {
   "codemirror_mode": {
    "name": "ipython",
    "version": 3
   },
   "file_extension": ".py",
   "mimetype": "text/x-python",
   "name": "python",
   "nbconvert_exporter": "python",
   "pygments_lexer": "ipython3",
   "version": "3.6.8"
  }
 },
 "nbformat": 4,
 "nbformat_minor": 4
}
