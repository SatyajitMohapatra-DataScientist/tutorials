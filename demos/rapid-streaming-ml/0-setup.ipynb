{
 "cells": [
  {
   "cell_type": "code",
   "execution_count": null,
   "metadata": {},
   "outputs": [],
   "source": [
    "from os import getenv, path\n",
    "import v3io.dataplane\n",
    "\n",
    "V3IO_ACCESS_KEY = os.getenv('V3IO_ACCESS_KEY')\n",
    "V3IO_USERNAME = getenv('V3IO_USERNAME')\n",
    "CONTAINER = 'users'\n",
    "\n",
    "STREAM_CONFIGS = {'generated-stream': {\n",
    "                        'path': path.join(V3IO_USERNAME, 'examples/rapid-prototype/generated-stream'),\n",
    "                        'shard_count': 8},\n",
    "                  'incoming-events-stream': {\n",
    "                        'path': path.join(V3IO_USERNAME, 'examples/rapid-prototype/incoming-events-stream'),\n",
    "                        'shard_count': 8\n",
    "                  },\n",
    "                  'enriched-events-stream': {\n",
    "                        'path': path.join(V3IO_USERNAME, 'examples/rapid-prototype/enriched-events-stream'),\n",
    "                        'shard_count': 8\n",
    "                  },\n",
    "                  'serving-stream': {\n",
    "                        'path': path.join(V3IO_USERNAME, 'examples/rapid-prototype/serving-stream'),\n",
    "                        'shard_count': 8\n",
    "                  },\n",
    "                  'inference-stream': {\n",
    "                        'path': path.join(V3IO_USERNAME, 'examples/rapid-prototype/inference-stream'),\n",
    "                        'shard_count': 8\n",
    "                  }\n",
    "                 }\n",
    "\n",
    "\n",
    "v3io_client = v3io.dataplane.Client(endpoint='http://v3io-webapi:8081', access_key=V3IO_ACCESS_KEY)"
   ]
  },
  {
   "cell_type": "code",
   "execution_count": null,
   "metadata": {},
   "outputs": [],
   "source": [
    "for stream_name, stream_config in STREAM_CONFIGSS:\n",
    "    resp = v3io_client.create_stream(container=CONTAINER,\n",
    "                                     path=stream_config['path'],\n",
    "                           shard_count=stream_config['shards_count'])\n",
    "    print(f'Create Stream call for stream {stream_name} returned with status {resp.status_code}, and context: {resp.text}')"
   ]
  }
 ],
 "metadata": {
  "kernelspec": {
   "display_name": "Python 3",
   "language": "python",
   "name": "python3"
  },
  "language_info": {
   "codemirror_mode": {
    "name": "ipython",
    "version": 3
   },
   "file_extension": ".py",
   "mimetype": "text/x-python",
   "name": "python",
   "nbconvert_exporter": "python",
   "pygments_lexer": "ipython3",
   "version": "3.6.8"
  }
 },
 "nbformat": 4,
 "nbformat_minor": 4
}
