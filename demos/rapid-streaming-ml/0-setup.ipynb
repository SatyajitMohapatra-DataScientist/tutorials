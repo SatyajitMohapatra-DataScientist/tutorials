{
 "cells": [
  {
   "cell_type": "markdown",
   "metadata": {},
   "source": [
    "# 0. Setup"
   ]
  },
  {
   "cell_type": "markdown",
   "metadata": {},
   "source": [
    "Create an MLRun project and the streams relevant for our scenario.\n",
    "\n",
    "![Model deployment with streaming Real-time operational Pipeline](../../assets/images/model-deployment-with-streaming.png)"
   ]
  },
  {
   "cell_type": "markdown",
   "metadata": {},
   "source": [
    "### Create V3IO client"
   ]
  },
  {
   "cell_type": "code",
   "execution_count": 6,
   "metadata": {},
   "outputs": [],
   "source": [
    "from os import getenv, path\n",
    "from v3io import dataplane\n",
    "from mlrun import new_project, mlconf\n",
    "\n",
    "\n",
    "V3IO_ACCESS_KEY = getenv('V3IO_ACCESS_KEY')\n",
    "V3IO_USERNAME = getenv('V3IO_USERNAME')\n",
    "CONTAINER = 'users'\n",
    "\n",
    "v3io_client = dataplane.Client(endpoint='http://v3io-webapi:8081', access_key=V3IO_ACCESS_KEY)\n"
   ]
  },
  {
   "cell_type": "markdown",
   "metadata": {},
   "source": [
    "### Create MLRun Project"
   ]
  },
  {
   "cell_type": "code",
   "execution_count": 3,
   "metadata": {},
   "outputs": [
    {
     "name": "stdout",
     "output_type": "stream",
     "text": [
      "Project path: /User/rapid-proto/conf\n",
      "Project name: rapid-prototype-michaelk\n",
      "Artifacts path: /User/rapid-proto/artifacts\n",
      "MLRun DB path: http://mlrun-api:8080\n"
     ]
    }
   ],
   "source": [
    "project_name = '-'.join(filter(None, ['rapid-prototype', getenv('V3IO_USERNAME', None)]))\n",
    "project_path = path.abspath('conf')\n",
    "project = new_project(project_name, project_path, init_git=True)\n",
    "\n",
    "print(f'Project path: {project_path}\\nProject name: {project_name}')\n",
    "\n",
    "\n",
    "# Target location for storing pipeline artifacts\n",
    "artifact_path = path.abspath('artifacts')\n",
    "# MLRun DB path or API service URL\n",
    "mlconf.dbpath = mlconf.dbpath or 'http://mlrun-api:8080'\n",
    "\n",
    "print(f'Artifacts path: {artifact_path}\\nMLRun DB path: {mlconf.dbpath}')"
   ]
  },
  {
   "cell_type": "code",
   "execution_count": 15,
   "metadata": {},
   "outputs": [],
   "source": [
    "STREAM_CONFIGS = {'generated-stream': {\n",
    "                        'path': path.join(V3IO_USERNAME, 'examples/rapid-prototype/generated-stream'),\n",
    "                        'shard_count': 8},\n",
    "                  'incoming-events-stream': {\n",
    "                        'path': path.join(V3IO_USERNAME, 'examples/rapid-prototype/incoming-events-stream'),\n",
    "                        'shard_count': 8\n",
    "                  },\n",
    "                  'enriched-events-stream': {\n",
    "                        'path': path.join(V3IO_USERNAME, 'examples/rapid-prototype/enriched-events-stream'),\n",
    "                        'shard_count': 8\n",
    "                  },\n",
    "                  'serving-stream': {\n",
    "                        'path': path.join(V3IO_USERNAME, 'examples/rapid-prototype/serving-stream'),\n",
    "                        'shard_count': 8\n",
    "                  },\n",
    "                  'inference-stream': {\n",
    "                        'path': path.join(V3IO_USERNAME, 'examples/rapid-prototype/inference-stream'),\n",
    "                        'shard_count': 8\n",
    "                  }\n",
    "                 }\n",
    "config_path = path.join(artifact_path, 'config')\n",
    "project.log_artifact('stream_config', artifact_path=config_path, body=json.dumps(STREAM_CONFIGS).encode('utf-8'), format='json')"
   ]
  },
  {
   "cell_type": "code",
   "execution_count": 16,
   "metadata": {},
   "outputs": [
    {
     "data": {
      "text/plain": [
       "{'name': 'rapid-prototype-michaelk',\n",
       " 'functions': [],\n",
       " 'workflows': [],\n",
       " 'artifacts': [{'key': 'stream_config',\n",
       "   'kind': '',\n",
       "   'iter': 0,\n",
       "   'tree': 'latest',\n",
       "   'target_path': '/User/rapid-proto/artifacts/config/stream_config.json',\n",
       "   'hash': '030bf2a9bcdf7b351ff43600b78efeb3456fddb3',\n",
       "   'format': 'json',\n",
       "   'size': 530,\n",
       "   'db_key': 'stream_config'}],\n",
       " 'artifact_path': ''}"
      ]
     },
     "execution_count": 16,
     "metadata": {},
     "output_type": "execute_result"
    }
   ],
   "source": [
    "project.to_dict()"
   ]
  },
  {
   "cell_type": "markdown",
   "metadata": {},
   "source": [
    "## Managa Streams"
   ]
  },
  {
   "cell_type": "markdown",
   "metadata": {},
   "source": [
    "#### Delete all streams"
   ]
  },
  {
   "cell_type": "code",
   "execution_count": 11,
   "metadata": {},
   "outputs": [
    {
     "name": "stdout",
     "output_type": "stream",
     "text": [
      "2020-08-03 14:15:57,665 [info] Remote disconnected while waiting for response: {'retries_left': 1, 'connection_idx': 5}\n",
      "2020-08-03 14:15:57,665 [info] Remote disconnected while waiting for response: {'retries_left': 1, 'connection_idx': 5}\n",
      "Delete Stream call for stream generated-stream returned with status 404, and content: {\n",
      "\t\"ErrorCode\": -2,\n",
      "\t\"ErrorMessage\": \"No such file or directory\"\n",
      "}\n",
      "2020-08-03 14:15:57,669 [info] Remote disconnected while waiting for response: {'retries_left': 1, 'connection_idx': 6}\n",
      "2020-08-03 14:15:57,669 [info] Remote disconnected while waiting for response: {'retries_left': 1, 'connection_idx': 6}\n",
      "2020-08-03 14:15:57,672 [info] Remote disconnected while waiting for response: {'retries_left': 1, 'connection_idx': 7}\n",
      "2020-08-03 14:15:57,672 [info] Remote disconnected while waiting for response: {'retries_left': 1, 'connection_idx': 7}\n",
      "2020-08-03 14:15:57,674 [info] Remote disconnected while waiting for response: {'retries_left': 1, 'connection_idx': 0}\n",
      "2020-08-03 14:15:57,674 [info] Remote disconnected while waiting for response: {'retries_left': 1, 'connection_idx': 0}\n",
      "2020-08-03 14:15:57,676 [info] Remote disconnected while waiting for response: {'retries_left': 1, 'connection_idx': 1}\n",
      "2020-08-03 14:15:57,676 [info] Remote disconnected while waiting for response: {'retries_left': 1, 'connection_idx': 1}\n",
      "2020-08-03 14:15:57,678 [info] Remote disconnected while waiting for response: {'retries_left': 1, 'connection_idx': 2}\n",
      "2020-08-03 14:15:57,678 [info] Remote disconnected while waiting for response: {'retries_left': 1, 'connection_idx': 2}\n",
      "2020-08-03 14:15:57,680 [info] Remote disconnected while waiting for response: {'retries_left': 1, 'connection_idx': 3}\n",
      "2020-08-03 14:15:57,680 [info] Remote disconnected while waiting for response: {'retries_left': 1, 'connection_idx': 3}\n",
      "Delete Stream call for stream incoming-events-stream returned with status 204, and content: \n",
      "Delete Stream call for stream enriched-events-stream returned with status 204, and content: \n",
      "Delete Stream call for stream serving-stream returned with status 204, and content: \n",
      "Delete Stream call for stream inference-stream returned with status 204, and content: \n"
     ]
    }
   ],
   "source": [
    "for stream_name, stream_config in STREAM_CONFIGS.items():\n",
    "    resp = v3io_client.delete_stream(container=CONTAINER, path=stream_config['path'], \n",
    "                                     raise_for_status=dataplane.RaiseForStatus.never)\n",
    "    print(f'Delete Stream call for stream {stream_name} returned with status {resp.status_code}, and content: {resp.body.decode(\"utf-8\")}')\n",
    "    "
   ]
  },
  {
   "cell_type": "markdown",
   "metadata": {},
   "source": [
    "#### Create all streams"
   ]
  },
  {
   "cell_type": "code",
   "execution_count": null,
   "metadata": {},
   "outputs": [],
   "source": [
    "for stream_name, stream_config in STREAM_CONFIGS.items():\n",
    "    resp = v3io_client.create_stream(container=CONTAINER,\n",
    "                                     path=stream_config['path'],\n",
    "                                     shard_count=stream_config['shard_count'],\n",
    "                                    raise_for_status=dataplane.RaiseForStatus.never)\n",
    "    print(f'Create Stream call for stream {stream_name} returned with status {resp.status_code}, and content: {resp.body.decode(\"utf-8\")}')\n",
    "    "
   ]
  }
 ],
 "metadata": {
  "kernelspec": {
   "display_name": "Python 3",
   "language": "python",
   "name": "python3"
  },
  "language_info": {
   "codemirror_mode": {
    "name": "ipython",
    "version": 3
   },
   "file_extension": ".py",
   "mimetype": "text/x-python",
   "name": "python",
   "nbconvert_exporter": "python",
   "pygments_lexer": "ipython3",
   "version": "3.6.8"
  }
 },
 "nbformat": 4,
 "nbformat_minor": 4
}